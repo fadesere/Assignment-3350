{
  "cells": [
    {
      "cell_type": "markdown",
      "metadata": {
        "id": "view-in-github",
        "colab_type": "text"
      },
      "source": [
        "<a href=\"https://colab.research.google.com/github/fadesere/Assignment-3350/blob/main/assignment_2_start.ipynb\" target=\"_parent\"><img src=\"https://colab.research.google.com/assets/colab-badge.svg\" alt=\"Open In Colab\"/></a>"
      ]
    },
    {
      "cell_type": "code",
      "execution_count": 613,
      "metadata": {
        "id": "ZfKoNDnb6Hec"
      },
      "outputs": [],
      "source": [
        "import numpy as np\n",
        "import matplotlib.pyplot as plt\n",
        "import pandas as pd\n",
        "from sklearn.linear_model import LinearRegression\n",
        "from sklearn.preprocessing import PolynomialFeatures\n",
        "from sklearn.linear_model import SGDRegressor\n",
        "import seaborn as sns\n",
        "from sklearn.pipeline import Pipeline\n",
        "from sklearn.metrics import mean_squared_error\n",
        "from sklearn.model_selection import train_test_split\n",
        "from sklearn.model_selection import cross_val_score\n",
        "from sklearn.linear_model import Lasso\n",
        "from sklearn.linear_model import Ridge\n",
        "from sklearn.preprocessing import MinMaxScaler\n",
        "from sklearn.model_selection import GridSearchCV\n",
        "from scipy.stats.mstats import winsorize\n",
        "from sklearn.ensemble import ExtraTreesRegressor\n",
        "from sklearn.metrics import r2_score, mean_squared_error\n",
        "from sklearn.model_selection import train_test_split\n",
        "from sklearn.pipeline import make_pipeline\n",
        "from sklearn.compose import TransformedTargetRegressor\n",
        "from sklearn.preprocessing import OneHotEncoder, StandardScaler\n"
      ]
    },
    {
      "cell_type": "markdown",
      "metadata": {
        "id": "afl2J7D06Hee"
      },
      "source": [
        "# Assignment 2 - Regression\n",
        "### Predict the TOTAL COMPENSATION for this year. \n",
        "\n",
        "The data file provided is a salary survey for tech workers in Europe. We want to predict the total amount of compensation they bring in each year, based off of the details of their work. \n",
        "\n",
        "Some notes that will be important:\n",
        "<ul>\n",
        "    <li>The total compensation will need to be constructed, there is a column for salary, \"Yearly brutto salary (without bonus and stocks) in EUR\", as well as a column for bonus compensation, \"Yearly bonus + stocks in EUR\". \n",
        "    <li>Some categorical variables will need some work, and there isn't generally an exact answer. The main concern is things with categories that have a bunch of values with a very small count. For example, if there is only 1 person in City X, then that value likely needs to be addressed. We don't want it encoded into a new column of one 1 and thousands of 0s. \n",
        "    <li>There is an article exploring some of the data here: https://www.asdcode.de/2021/01/it-salary-survey-december-2020.html\n",
        "    <li>Imputation and a bit of data manipulation will be required. \n",
        "    <li>Use any regression method you'd like. Some ones are closely related to what we've done, you may want to look at them, e.g. ExtraTreesRegressor. \n",
        "    <li>Initial accurracy, and potentially final accuracy, may not be great. When I made a plain model will little optimization the errors were large and the R2 was low. There is lots of room for optimization. \n",
        "    <li>Research challenge - try some work on the target, look into TransformedTargetRegressor and see if that helps. Recall in stats when we had skewed distributions... Maybe it helps, maybe it doesn't. \n",
        "    <li>EDA and data prep are up to you - you'll probably need to do a little exploring to figure out what cleanup is needed. When I did it, I did things kind of iteratively when I did it. For example, look at the value counts, figure out how to treat the different categories, clean something up, look at the results, potentially repeat if needed. After you figure out what needs to be done, you may be able to take some of those steps and incorporate them into a pipeline to be cleaner....\n",
        "    <li><b>CRITICAL - Please make sure your code runs with RUN ALL. It should load the data that you're given, do all the processing, and spit out results. Comment out or remove anything that you've cleaned up and don't need - e.g. if you scaled a value manually, then moved that into a pipeline, don't leave the original scaling code active when the file is run.</b>\n",
        "</ul>\n",
        "\n",
        "### Details and Deliverables\n",
        "\n",
        "You'll need to build code to produce the predictions. In particular, there's a few things that'll be marked:\n",
        "<ul>\n",
        "    <li>Please add a markdown cell at the bottom, and put in a few notes addressing the following:\n",
        "    <ul>\n",
        "        <li> Accuracy of your models with/without feature selection. Include both train/test for each. Please use R2 and RMSE. \n",
        "        <li> Feature Selection - Please identify what you did for feature selection. No need for a long explaination, something along the lines of \"I did X, and the result was that 4 features were removed\". Try at least 2 things. \n",
        "        <li> Hyperparameter Changes / Grid Search Improvements. What did you try, and why. Similar explaination to above, short. \n",
        "        <li> Overall this section should be roughly as long as this intro block - just outline what the results were, what you did to improve, and the results after. \n",
        "        <li> If you could use titles/bullet points I'd really appreciate it. \n",
        "    </ul>\n",
        "    <li>Grade Breakdown:\n",
        "    <ul>\n",
        "        <li> Code is readable, there are comments: 20%\n",
        "        <li> Explaination as defined above: 60% (20% each point)\n",
        "        <li> Accuracy: 20% As compared to everyone else. This will be generously graded, I won't be surprised if overall accuracy is low for most people. \n",
        "    </ul>\n",
        "</ul>"
      ]
    },
    {
      "cell_type": "code",
      "source": [
        "from google.colab import drive\n",
        "drive.mount('/content/drive')"
      ],
      "metadata": {
        "colab": {
          "base_uri": "https://localhost:8080/"
        },
        "id": "YZmAMrhW7r4U",
        "outputId": "89457bc9-897c-41b8-e885-732de3bb5c0d"
      },
      "execution_count": 531,
      "outputs": [
        {
          "output_type": "stream",
          "name": "stdout",
          "text": [
            "Drive already mounted at /content/drive; to attempt to forcibly remount, call drive.mount(\"/content/drive\", force_remount=True).\n"
          ]
        }
      ]
    },
    {
      "cell_type": "code",
      "execution_count": 532,
      "metadata": {
        "colab": {
          "base_uri": "https://localhost:8080/",
          "height": 614
        },
        "id": "b18DvI7o6Hef",
        "outputId": "c3e1f50a-9873-416b-8d8b-4dc1575a6855"
      },
      "outputs": [
        {
          "output_type": "execute_result",
          "data": {
            "text/plain": [
              "                                                     count unique  \\\n",
              "Timestamp                                             1253   1248   \n",
              "Age                                                 1226.0    NaN   \n",
              "Gender                                                1243      3   \n",
              "City                                                  1253    119   \n",
              "Position                                              1247    148   \n",
              "Total years of experience                             1237     48   \n",
              "Years of experience in Germany                        1221     53   \n",
              "Seniority level                                       1241     24   \n",
              "Your main technology / programming language           1126    256   \n",
              "Other technologies/programming languages you us...    1096    562   \n",
              "Yearly brutto salary (without bonus and stocks)...  1253.0    NaN   \n",
              "Yearly bonus + stocks in EUR                           829    168   \n",
              "Number of vacation days                               1185     45   \n",
              "Employment status                                     1236     11   \n",
              "Сontract duration                                     1224      3   \n",
              "Main language at work                                 1237     14   \n",
              "Company size                                          1235      5   \n",
              "Company type                                          1228     63   \n",
              "\n",
              "                                                                        top  \\\n",
              "Timestamp                                               24/11/2020 13:55:19   \n",
              "Age                                                                     NaN   \n",
              "Gender                                                                 Male   \n",
              "City                                                                 Berlin   \n",
              "Position                                                  Software Engineer   \n",
              "Total years of experience                                                10   \n",
              "Years of experience in Germany                                            2   \n",
              "Seniority level                                                      Senior   \n",
              "Your main technology / programming language                            Java   \n",
              "Other technologies/programming languages you us...  Javascript / Typescript   \n",
              "Yearly brutto salary (without bonus and stocks)...                      NaN   \n",
              "Yearly bonus + stocks in EUR                                              0   \n",
              "Number of vacation days                                                  30   \n",
              "Employment status                                        Full-time employee   \n",
              "Сontract duration                                        Unlimited contract   \n",
              "Main language at work                                               English   \n",
              "Company size                                                          1000+   \n",
              "Company type                                                        Product   \n",
              "\n",
              "                                                    freq             mean  \\\n",
              "Timestamp                                              2              NaN   \n",
              "Age                                                  NaN        32.509788   \n",
              "Gender                                              1049              NaN   \n",
              "City                                                 681              NaN   \n",
              "Position                                             387              NaN   \n",
              "Total years of experience                            138              NaN   \n",
              "Years of experience in Germany                       195              NaN   \n",
              "Seniority level                                      565              NaN   \n",
              "Your main technology / programming language          184              NaN   \n",
              "Other technologies/programming languages you us...    44              NaN   \n",
              "Yearly brutto salary (without bonus and stocks)...   NaN  80279042.578715   \n",
              "Yearly bonus + stocks in EUR                         227              NaN   \n",
              "Number of vacation days                              488              NaN   \n",
              "Employment status                                   1190              NaN   \n",
              "Сontract duration                                   1159              NaN   \n",
              "Main language at work                               1020              NaN   \n",
              "Company size                                         448              NaN   \n",
              "Company type                                         760              NaN   \n",
              "\n",
              "                                                                 std      min  \\\n",
              "Timestamp                                                        NaN      NaN   \n",
              "Age                                                         5.663804     20.0   \n",
              "Gender                                                           NaN      NaN   \n",
              "City                                                             NaN      NaN   \n",
              "Position                                                         NaN      NaN   \n",
              "Total years of experience                                        NaN      NaN   \n",
              "Years of experience in Germany                                   NaN      NaN   \n",
              "Seniority level                                                  NaN      NaN   \n",
              "Your main technology / programming language                      NaN      NaN   \n",
              "Other technologies/programming languages you us...               NaN      NaN   \n",
              "Yearly brutto salary (without bonus and stocks)...  2825061107.59049  10001.0   \n",
              "Yearly bonus + stocks in EUR                                     NaN      NaN   \n",
              "Number of vacation days                                          NaN      NaN   \n",
              "Employment status                                                NaN      NaN   \n",
              "Сontract duration                                                NaN      NaN   \n",
              "Main language at work                                            NaN      NaN   \n",
              "Company size                                                     NaN      NaN   \n",
              "Company type                                                     NaN      NaN   \n",
              "\n",
              "                                                        25%      50%      75%  \\\n",
              "Timestamp                                               NaN      NaN      NaN   \n",
              "Age                                                    29.0     32.0     35.0   \n",
              "Gender                                                  NaN      NaN      NaN   \n",
              "City                                                    NaN      NaN      NaN   \n",
              "Position                                                NaN      NaN      NaN   \n",
              "Total years of experience                               NaN      NaN      NaN   \n",
              "Years of experience in Germany                          NaN      NaN      NaN   \n",
              "Seniority level                                         NaN      NaN      NaN   \n",
              "Your main technology / programming language             NaN      NaN      NaN   \n",
              "Other technologies/programming languages you us...      NaN      NaN      NaN   \n",
              "Yearly brutto salary (without bonus and stocks)...  58800.0  70000.0  80000.0   \n",
              "Yearly bonus + stocks in EUR                            NaN      NaN      NaN   \n",
              "Number of vacation days                                 NaN      NaN      NaN   \n",
              "Employment status                                       NaN      NaN      NaN   \n",
              "Сontract duration                                       NaN      NaN      NaN   \n",
              "Main language at work                                   NaN      NaN      NaN   \n",
              "Company size                                            NaN      NaN      NaN   \n",
              "Company type                                            NaN      NaN      NaN   \n",
              "\n",
              "                                                              max  \n",
              "Timestamp                                                     NaN  \n",
              "Age                                                          69.0  \n",
              "Gender                                                        NaN  \n",
              "City                                                          NaN  \n",
              "Position                                                      NaN  \n",
              "Total years of experience                                     NaN  \n",
              "Years of experience in Germany                                NaN  \n",
              "Seniority level                                               NaN  \n",
              "Your main technology / programming language                   NaN  \n",
              "Other technologies/programming languages you us...            NaN  \n",
              "Yearly brutto salary (without bonus and stocks)...  99999999999.0  \n",
              "Yearly bonus + stocks in EUR                                  NaN  \n",
              "Number of vacation days                                       NaN  \n",
              "Employment status                                             NaN  \n",
              "Сontract duration                                             NaN  \n",
              "Main language at work                                         NaN  \n",
              "Company size                                                  NaN  \n",
              "Company type                                                  NaN  "
            ],
            "text/html": [
              "\n",
              "  <div id=\"df-3785864f-e46a-4885-bcca-45904b1f131d\">\n",
              "    <div class=\"colab-df-container\">\n",
              "      <div>\n",
              "<style scoped>\n",
              "    .dataframe tbody tr th:only-of-type {\n",
              "        vertical-align: middle;\n",
              "    }\n",
              "\n",
              "    .dataframe tbody tr th {\n",
              "        vertical-align: top;\n",
              "    }\n",
              "\n",
              "    .dataframe thead th {\n",
              "        text-align: right;\n",
              "    }\n",
              "</style>\n",
              "<table border=\"1\" class=\"dataframe\">\n",
              "  <thead>\n",
              "    <tr style=\"text-align: right;\">\n",
              "      <th></th>\n",
              "      <th>count</th>\n",
              "      <th>unique</th>\n",
              "      <th>top</th>\n",
              "      <th>freq</th>\n",
              "      <th>mean</th>\n",
              "      <th>std</th>\n",
              "      <th>min</th>\n",
              "      <th>25%</th>\n",
              "      <th>50%</th>\n",
              "      <th>75%</th>\n",
              "      <th>max</th>\n",
              "    </tr>\n",
              "  </thead>\n",
              "  <tbody>\n",
              "    <tr>\n",
              "      <th>Timestamp</th>\n",
              "      <td>1253</td>\n",
              "      <td>1248</td>\n",
              "      <td>24/11/2020 13:55:19</td>\n",
              "      <td>2</td>\n",
              "      <td>NaN</td>\n",
              "      <td>NaN</td>\n",
              "      <td>NaN</td>\n",
              "      <td>NaN</td>\n",
              "      <td>NaN</td>\n",
              "      <td>NaN</td>\n",
              "      <td>NaN</td>\n",
              "    </tr>\n",
              "    <tr>\n",
              "      <th>Age</th>\n",
              "      <td>1226.0</td>\n",
              "      <td>NaN</td>\n",
              "      <td>NaN</td>\n",
              "      <td>NaN</td>\n",
              "      <td>32.509788</td>\n",
              "      <td>5.663804</td>\n",
              "      <td>20.0</td>\n",
              "      <td>29.0</td>\n",
              "      <td>32.0</td>\n",
              "      <td>35.0</td>\n",
              "      <td>69.0</td>\n",
              "    </tr>\n",
              "    <tr>\n",
              "      <th>Gender</th>\n",
              "      <td>1243</td>\n",
              "      <td>3</td>\n",
              "      <td>Male</td>\n",
              "      <td>1049</td>\n",
              "      <td>NaN</td>\n",
              "      <td>NaN</td>\n",
              "      <td>NaN</td>\n",
              "      <td>NaN</td>\n",
              "      <td>NaN</td>\n",
              "      <td>NaN</td>\n",
              "      <td>NaN</td>\n",
              "    </tr>\n",
              "    <tr>\n",
              "      <th>City</th>\n",
              "      <td>1253</td>\n",
              "      <td>119</td>\n",
              "      <td>Berlin</td>\n",
              "      <td>681</td>\n",
              "      <td>NaN</td>\n",
              "      <td>NaN</td>\n",
              "      <td>NaN</td>\n",
              "      <td>NaN</td>\n",
              "      <td>NaN</td>\n",
              "      <td>NaN</td>\n",
              "      <td>NaN</td>\n",
              "    </tr>\n",
              "    <tr>\n",
              "      <th>Position</th>\n",
              "      <td>1247</td>\n",
              "      <td>148</td>\n",
              "      <td>Software Engineer</td>\n",
              "      <td>387</td>\n",
              "      <td>NaN</td>\n",
              "      <td>NaN</td>\n",
              "      <td>NaN</td>\n",
              "      <td>NaN</td>\n",
              "      <td>NaN</td>\n",
              "      <td>NaN</td>\n",
              "      <td>NaN</td>\n",
              "    </tr>\n",
              "    <tr>\n",
              "      <th>Total years of experience</th>\n",
              "      <td>1237</td>\n",
              "      <td>48</td>\n",
              "      <td>10</td>\n",
              "      <td>138</td>\n",
              "      <td>NaN</td>\n",
              "      <td>NaN</td>\n",
              "      <td>NaN</td>\n",
              "      <td>NaN</td>\n",
              "      <td>NaN</td>\n",
              "      <td>NaN</td>\n",
              "      <td>NaN</td>\n",
              "    </tr>\n",
              "    <tr>\n",
              "      <th>Years of experience in Germany</th>\n",
              "      <td>1221</td>\n",
              "      <td>53</td>\n",
              "      <td>2</td>\n",
              "      <td>195</td>\n",
              "      <td>NaN</td>\n",
              "      <td>NaN</td>\n",
              "      <td>NaN</td>\n",
              "      <td>NaN</td>\n",
              "      <td>NaN</td>\n",
              "      <td>NaN</td>\n",
              "      <td>NaN</td>\n",
              "    </tr>\n",
              "    <tr>\n",
              "      <th>Seniority level</th>\n",
              "      <td>1241</td>\n",
              "      <td>24</td>\n",
              "      <td>Senior</td>\n",
              "      <td>565</td>\n",
              "      <td>NaN</td>\n",
              "      <td>NaN</td>\n",
              "      <td>NaN</td>\n",
              "      <td>NaN</td>\n",
              "      <td>NaN</td>\n",
              "      <td>NaN</td>\n",
              "      <td>NaN</td>\n",
              "    </tr>\n",
              "    <tr>\n",
              "      <th>Your main technology / programming language</th>\n",
              "      <td>1126</td>\n",
              "      <td>256</td>\n",
              "      <td>Java</td>\n",
              "      <td>184</td>\n",
              "      <td>NaN</td>\n",
              "      <td>NaN</td>\n",
              "      <td>NaN</td>\n",
              "      <td>NaN</td>\n",
              "      <td>NaN</td>\n",
              "      <td>NaN</td>\n",
              "      <td>NaN</td>\n",
              "    </tr>\n",
              "    <tr>\n",
              "      <th>Other technologies/programming languages you use often</th>\n",
              "      <td>1096</td>\n",
              "      <td>562</td>\n",
              "      <td>Javascript / Typescript</td>\n",
              "      <td>44</td>\n",
              "      <td>NaN</td>\n",
              "      <td>NaN</td>\n",
              "      <td>NaN</td>\n",
              "      <td>NaN</td>\n",
              "      <td>NaN</td>\n",
              "      <td>NaN</td>\n",
              "      <td>NaN</td>\n",
              "    </tr>\n",
              "    <tr>\n",
              "      <th>Yearly brutto salary (without bonus and stocks) in EUR</th>\n",
              "      <td>1253.0</td>\n",
              "      <td>NaN</td>\n",
              "      <td>NaN</td>\n",
              "      <td>NaN</td>\n",
              "      <td>80279042.578715</td>\n",
              "      <td>2825061107.59049</td>\n",
              "      <td>10001.0</td>\n",
              "      <td>58800.0</td>\n",
              "      <td>70000.0</td>\n",
              "      <td>80000.0</td>\n",
              "      <td>99999999999.0</td>\n",
              "    </tr>\n",
              "    <tr>\n",
              "      <th>Yearly bonus + stocks in EUR</th>\n",
              "      <td>829</td>\n",
              "      <td>168</td>\n",
              "      <td>0</td>\n",
              "      <td>227</td>\n",
              "      <td>NaN</td>\n",
              "      <td>NaN</td>\n",
              "      <td>NaN</td>\n",
              "      <td>NaN</td>\n",
              "      <td>NaN</td>\n",
              "      <td>NaN</td>\n",
              "      <td>NaN</td>\n",
              "    </tr>\n",
              "    <tr>\n",
              "      <th>Number of vacation days</th>\n",
              "      <td>1185</td>\n",
              "      <td>45</td>\n",
              "      <td>30</td>\n",
              "      <td>488</td>\n",
              "      <td>NaN</td>\n",
              "      <td>NaN</td>\n",
              "      <td>NaN</td>\n",
              "      <td>NaN</td>\n",
              "      <td>NaN</td>\n",
              "      <td>NaN</td>\n",
              "      <td>NaN</td>\n",
              "    </tr>\n",
              "    <tr>\n",
              "      <th>Employment status</th>\n",
              "      <td>1236</td>\n",
              "      <td>11</td>\n",
              "      <td>Full-time employee</td>\n",
              "      <td>1190</td>\n",
              "      <td>NaN</td>\n",
              "      <td>NaN</td>\n",
              "      <td>NaN</td>\n",
              "      <td>NaN</td>\n",
              "      <td>NaN</td>\n",
              "      <td>NaN</td>\n",
              "      <td>NaN</td>\n",
              "    </tr>\n",
              "    <tr>\n",
              "      <th>Сontract duration</th>\n",
              "      <td>1224</td>\n",
              "      <td>3</td>\n",
              "      <td>Unlimited contract</td>\n",
              "      <td>1159</td>\n",
              "      <td>NaN</td>\n",
              "      <td>NaN</td>\n",
              "      <td>NaN</td>\n",
              "      <td>NaN</td>\n",
              "      <td>NaN</td>\n",
              "      <td>NaN</td>\n",
              "      <td>NaN</td>\n",
              "    </tr>\n",
              "    <tr>\n",
              "      <th>Main language at work</th>\n",
              "      <td>1237</td>\n",
              "      <td>14</td>\n",
              "      <td>English</td>\n",
              "      <td>1020</td>\n",
              "      <td>NaN</td>\n",
              "      <td>NaN</td>\n",
              "      <td>NaN</td>\n",
              "      <td>NaN</td>\n",
              "      <td>NaN</td>\n",
              "      <td>NaN</td>\n",
              "      <td>NaN</td>\n",
              "    </tr>\n",
              "    <tr>\n",
              "      <th>Company size</th>\n",
              "      <td>1235</td>\n",
              "      <td>5</td>\n",
              "      <td>1000+</td>\n",
              "      <td>448</td>\n",
              "      <td>NaN</td>\n",
              "      <td>NaN</td>\n",
              "      <td>NaN</td>\n",
              "      <td>NaN</td>\n",
              "      <td>NaN</td>\n",
              "      <td>NaN</td>\n",
              "      <td>NaN</td>\n",
              "    </tr>\n",
              "    <tr>\n",
              "      <th>Company type</th>\n",
              "      <td>1228</td>\n",
              "      <td>63</td>\n",
              "      <td>Product</td>\n",
              "      <td>760</td>\n",
              "      <td>NaN</td>\n",
              "      <td>NaN</td>\n",
              "      <td>NaN</td>\n",
              "      <td>NaN</td>\n",
              "      <td>NaN</td>\n",
              "      <td>NaN</td>\n",
              "      <td>NaN</td>\n",
              "    </tr>\n",
              "  </tbody>\n",
              "</table>\n",
              "</div>\n",
              "      <button class=\"colab-df-convert\" onclick=\"convertToInteractive('df-3785864f-e46a-4885-bcca-45904b1f131d')\"\n",
              "              title=\"Convert this dataframe to an interactive table.\"\n",
              "              style=\"display:none;\">\n",
              "        \n",
              "  <svg xmlns=\"http://www.w3.org/2000/svg\" height=\"24px\"viewBox=\"0 0 24 24\"\n",
              "       width=\"24px\">\n",
              "    <path d=\"M0 0h24v24H0V0z\" fill=\"none\"/>\n",
              "    <path d=\"M18.56 5.44l.94 2.06.94-2.06 2.06-.94-2.06-.94-.94-2.06-.94 2.06-2.06.94zm-11 1L8.5 8.5l.94-2.06 2.06-.94-2.06-.94L8.5 2.5l-.94 2.06-2.06.94zm10 10l.94 2.06.94-2.06 2.06-.94-2.06-.94-.94-2.06-.94 2.06-2.06.94z\"/><path d=\"M17.41 7.96l-1.37-1.37c-.4-.4-.92-.59-1.43-.59-.52 0-1.04.2-1.43.59L10.3 9.45l-7.72 7.72c-.78.78-.78 2.05 0 2.83L4 21.41c.39.39.9.59 1.41.59.51 0 1.02-.2 1.41-.59l7.78-7.78 2.81-2.81c.8-.78.8-2.07 0-2.86zM5.41 20L4 18.59l7.72-7.72 1.47 1.35L5.41 20z\"/>\n",
              "  </svg>\n",
              "      </button>\n",
              "      \n",
              "  <style>\n",
              "    .colab-df-container {\n",
              "      display:flex;\n",
              "      flex-wrap:wrap;\n",
              "      gap: 12px;\n",
              "    }\n",
              "\n",
              "    .colab-df-convert {\n",
              "      background-color: #E8F0FE;\n",
              "      border: none;\n",
              "      border-radius: 50%;\n",
              "      cursor: pointer;\n",
              "      display: none;\n",
              "      fill: #1967D2;\n",
              "      height: 32px;\n",
              "      padding: 0 0 0 0;\n",
              "      width: 32px;\n",
              "    }\n",
              "\n",
              "    .colab-df-convert:hover {\n",
              "      background-color: #E2EBFA;\n",
              "      box-shadow: 0px 1px 2px rgba(60, 64, 67, 0.3), 0px 1px 3px 1px rgba(60, 64, 67, 0.15);\n",
              "      fill: #174EA6;\n",
              "    }\n",
              "\n",
              "    [theme=dark] .colab-df-convert {\n",
              "      background-color: #3B4455;\n",
              "      fill: #D2E3FC;\n",
              "    }\n",
              "\n",
              "    [theme=dark] .colab-df-convert:hover {\n",
              "      background-color: #434B5C;\n",
              "      box-shadow: 0px 1px 3px 1px rgba(0, 0, 0, 0.15);\n",
              "      filter: drop-shadow(0px 1px 2px rgba(0, 0, 0, 0.3));\n",
              "      fill: #FFFFFF;\n",
              "    }\n",
              "  </style>\n",
              "\n",
              "      <script>\n",
              "        const buttonEl =\n",
              "          document.querySelector('#df-3785864f-e46a-4885-bcca-45904b1f131d button.colab-df-convert');\n",
              "        buttonEl.style.display =\n",
              "          google.colab.kernel.accessAllowed ? 'block' : 'none';\n",
              "\n",
              "        async function convertToInteractive(key) {\n",
              "          const element = document.querySelector('#df-3785864f-e46a-4885-bcca-45904b1f131d');\n",
              "          const dataTable =\n",
              "            await google.colab.kernel.invokeFunction('convertToInteractive',\n",
              "                                                     [key], {});\n",
              "          if (!dataTable) return;\n",
              "\n",
              "          const docLinkHtml = 'Like what you see? Visit the ' +\n",
              "            '<a target=\"_blank\" href=https://colab.research.google.com/notebooks/data_table.ipynb>data table notebook</a>'\n",
              "            + ' to learn more about interactive tables.';\n",
              "          element.innerHTML = '';\n",
              "          dataTable['output_type'] = 'display_data';\n",
              "          await google.colab.output.renderOutput(dataTable, element);\n",
              "          const docLink = document.createElement('div');\n",
              "          docLink.innerHTML = docLinkHtml;\n",
              "          element.appendChild(docLink);\n",
              "        }\n",
              "      </script>\n",
              "    </div>\n",
              "  </div>\n",
              "  "
            ]
          },
          "metadata": {},
          "execution_count": 532
        }
      ],
      "source": [
        "#Load Data\n",
        "df = pd.read_csv(\"/content/drive/MyDrive/school/Euro_Salary.csv\")\n",
        "df.describe(include=\"all\").T"
      ]
    },
    {
      "cell_type": "code",
      "execution_count": 533,
      "metadata": {
        "colab": {
          "base_uri": "https://localhost:8080/",
          "height": 667
        },
        "id": "MGvsJJ5D6Heg",
        "outputId": "ec506e9e-8fae-4101-f45a-2f585fffcc95"
      },
      "outputs": [
        {
          "output_type": "execute_result",
          "data": {
            "text/plain": [
              "               Timestamp   Age  Gender     City                   Position   \\\n",
              "150  24/11/2020 12:12:35  25.0    Male   Berlin           Backend Developer   \n",
              "60   24/11/2020 11:35:25  39.0  Female   Berlin           Software Engineer   \n",
              "956  30/11/2020 13:10:41  31.0    Male   Berlin           Software Engineer   \n",
              "986  30/11/2020 19:23:52  27.0    Male   Berlin          Frontend Developer   \n",
              "649  25/11/2020 17:20:50  29.0    Male   Berlin          Frontend Developer   \n",
              "21   24/11/2020 11:21:18  34.0    Male   Berlin          Software Architect   \n",
              "291  24/11/2020 15:28:50  34.0    Male   Berlin           Security Engineer   \n",
              "684  25/11/2020 19:33:52  25.0    Male   Berlin           Software Engineer   \n",
              "524  25/11/2020 10:53:48  29.0  Female   Berlin  Software Developer in Test   \n",
              "93   24/11/2020 11:48:57  27.0  Female  Hamburg             Account Managet   \n",
              "\n",
              "    Total years of experience Years of experience in Germany Seniority level  \\\n",
              "150                         4                              1          Middle   \n",
              "60                         10                             10          Senior   \n",
              "956                         6                              4          Senior   \n",
              "986                         5                              1          Middle   \n",
              "649                         8                              5            Head   \n",
              "21                         15                              9            Lead   \n",
              "291                        10                              4          Senior   \n",
              "684                         6                              3          Senior   \n",
              "524                         9                              4            Lead   \n",
              "93                          6                              1          Senior   \n",
              "\n",
              "    Your main technology / programming language  \\\n",
              "150                                      Python   \n",
              "60                                         Java   \n",
              "956                                      Kotlin   \n",
              "986                         Javascript, Angular   \n",
              "649                                  JavaScript   \n",
              "21                                       NodeJS   \n",
              "291                                      python   \n",
              "684                     JavaScript / TypeScript   \n",
              "524                                        Java   \n",
              "93                                          NaN   \n",
              "\n",
              "    Other technologies/programming languages you use often  \\\n",
              "150                                            SQL, Go       \n",
              "60                        Javascript / Typescript, SQL       \n",
              "956  Kotlin, PHP, Java / Scala, SQL, Go, AWS, Kuber...       \n",
              "986                            Javascript / Typescript       \n",
              "649                                 Kubernetes, Docker       \n",
              "21   Javascript / Typescript, SQL, Go, AWS, Kuberne...       \n",
              "291           Javascript / Typescript, AWS, Kubernetes       \n",
              "684                                        AWS, Docker       \n",
              "524               Javascript / Typescript, SQL, Docker       \n",
              "93                                                 NaN       \n",
              "\n",
              "     Yearly brutto salary (without bonus and stocks) in EUR  \\\n",
              "150                                            60000.0        \n",
              "60                                             70500.0        \n",
              "956                                            90000.0        \n",
              "986                                            58000.0        \n",
              "649                                            82500.0        \n",
              "21                                            100000.0        \n",
              "291                                            85000.0        \n",
              "684                                            71750.0        \n",
              "524                                            66000.0        \n",
              "93                                             50000.0        \n",
              "\n",
              "    Yearly bonus + stocks in EUR Number of vacation days   Employment status  \\\n",
              "150                          NaN                      24  Full-time employee   \n",
              "60                          1000                      30  Full-time employee   \n",
              "956                        99000                      28  Full-time employee   \n",
              "986                        58000                      25  Full-time employee   \n",
              "649                            0                      30  Full-time employee   \n",
              "21                           NaN                      24  Full-time employee   \n",
              "291                        25000                      28  Full-time employee   \n",
              "684                         6000                      30  Full-time employee   \n",
              "524                            0                      25  Full-time employee   \n",
              "93                           NaN                      28  Full-time employee   \n",
              "\n",
              "      Сontract duration Main language at work Company size  \\\n",
              "150  Unlimited contract               English        11-50   \n",
              "60   Unlimited contract                German     101-1000   \n",
              "956  Unlimited contract               English        1000+   \n",
              "986  Unlimited contract               English     101-1000   \n",
              "649  Unlimited contract               English        1000+   \n",
              "21   Unlimited contract               English        1000+   \n",
              "291  Unlimited contract               English        1000+   \n",
              "684  Unlimited contract               English        1000+   \n",
              "524  Unlimited contract               English     101-1000   \n",
              "93   Temporary contract               English     101-1000   \n",
              "\n",
              "            Company type  \n",
              "150              Startup  \n",
              "60   Consulting / Agency  \n",
              "956              Product  \n",
              "986              Startup  \n",
              "649              Product  \n",
              "21               Product  \n",
              "291              Product  \n",
              "684              Product  \n",
              "524              Startup  \n",
              "93               Product  "
            ],
            "text/html": [
              "\n",
              "  <div id=\"df-e2cbe362-2b0d-4a66-9a97-4107c7175319\">\n",
              "    <div class=\"colab-df-container\">\n",
              "      <div>\n",
              "<style scoped>\n",
              "    .dataframe tbody tr th:only-of-type {\n",
              "        vertical-align: middle;\n",
              "    }\n",
              "\n",
              "    .dataframe tbody tr th {\n",
              "        vertical-align: top;\n",
              "    }\n",
              "\n",
              "    .dataframe thead th {\n",
              "        text-align: right;\n",
              "    }\n",
              "</style>\n",
              "<table border=\"1\" class=\"dataframe\">\n",
              "  <thead>\n",
              "    <tr style=\"text-align: right;\">\n",
              "      <th></th>\n",
              "      <th>Timestamp</th>\n",
              "      <th>Age</th>\n",
              "      <th>Gender</th>\n",
              "      <th>City</th>\n",
              "      <th>Position</th>\n",
              "      <th>Total years of experience</th>\n",
              "      <th>Years of experience in Germany</th>\n",
              "      <th>Seniority level</th>\n",
              "      <th>Your main technology / programming language</th>\n",
              "      <th>Other technologies/programming languages you use often</th>\n",
              "      <th>Yearly brutto salary (without bonus and stocks) in EUR</th>\n",
              "      <th>Yearly bonus + stocks in EUR</th>\n",
              "      <th>Number of vacation days</th>\n",
              "      <th>Employment status</th>\n",
              "      <th>Сontract duration</th>\n",
              "      <th>Main language at work</th>\n",
              "      <th>Company size</th>\n",
              "      <th>Company type</th>\n",
              "    </tr>\n",
              "  </thead>\n",
              "  <tbody>\n",
              "    <tr>\n",
              "      <th>150</th>\n",
              "      <td>24/11/2020 12:12:35</td>\n",
              "      <td>25.0</td>\n",
              "      <td>Male</td>\n",
              "      <td>Berlin</td>\n",
              "      <td>Backend Developer</td>\n",
              "      <td>4</td>\n",
              "      <td>1</td>\n",
              "      <td>Middle</td>\n",
              "      <td>Python</td>\n",
              "      <td>SQL, Go</td>\n",
              "      <td>60000.0</td>\n",
              "      <td>NaN</td>\n",
              "      <td>24</td>\n",
              "      <td>Full-time employee</td>\n",
              "      <td>Unlimited contract</td>\n",
              "      <td>English</td>\n",
              "      <td>11-50</td>\n",
              "      <td>Startup</td>\n",
              "    </tr>\n",
              "    <tr>\n",
              "      <th>60</th>\n",
              "      <td>24/11/2020 11:35:25</td>\n",
              "      <td>39.0</td>\n",
              "      <td>Female</td>\n",
              "      <td>Berlin</td>\n",
              "      <td>Software Engineer</td>\n",
              "      <td>10</td>\n",
              "      <td>10</td>\n",
              "      <td>Senior</td>\n",
              "      <td>Java</td>\n",
              "      <td>Javascript / Typescript, SQL</td>\n",
              "      <td>70500.0</td>\n",
              "      <td>1000</td>\n",
              "      <td>30</td>\n",
              "      <td>Full-time employee</td>\n",
              "      <td>Unlimited contract</td>\n",
              "      <td>German</td>\n",
              "      <td>101-1000</td>\n",
              "      <td>Consulting / Agency</td>\n",
              "    </tr>\n",
              "    <tr>\n",
              "      <th>956</th>\n",
              "      <td>30/11/2020 13:10:41</td>\n",
              "      <td>31.0</td>\n",
              "      <td>Male</td>\n",
              "      <td>Berlin</td>\n",
              "      <td>Software Engineer</td>\n",
              "      <td>6</td>\n",
              "      <td>4</td>\n",
              "      <td>Senior</td>\n",
              "      <td>Kotlin</td>\n",
              "      <td>Kotlin, PHP, Java / Scala, SQL, Go, AWS, Kuber...</td>\n",
              "      <td>90000.0</td>\n",
              "      <td>99000</td>\n",
              "      <td>28</td>\n",
              "      <td>Full-time employee</td>\n",
              "      <td>Unlimited contract</td>\n",
              "      <td>English</td>\n",
              "      <td>1000+</td>\n",
              "      <td>Product</td>\n",
              "    </tr>\n",
              "    <tr>\n",
              "      <th>986</th>\n",
              "      <td>30/11/2020 19:23:52</td>\n",
              "      <td>27.0</td>\n",
              "      <td>Male</td>\n",
              "      <td>Berlin</td>\n",
              "      <td>Frontend Developer</td>\n",
              "      <td>5</td>\n",
              "      <td>1</td>\n",
              "      <td>Middle</td>\n",
              "      <td>Javascript, Angular</td>\n",
              "      <td>Javascript / Typescript</td>\n",
              "      <td>58000.0</td>\n",
              "      <td>58000</td>\n",
              "      <td>25</td>\n",
              "      <td>Full-time employee</td>\n",
              "      <td>Unlimited contract</td>\n",
              "      <td>English</td>\n",
              "      <td>101-1000</td>\n",
              "      <td>Startup</td>\n",
              "    </tr>\n",
              "    <tr>\n",
              "      <th>649</th>\n",
              "      <td>25/11/2020 17:20:50</td>\n",
              "      <td>29.0</td>\n",
              "      <td>Male</td>\n",
              "      <td>Berlin</td>\n",
              "      <td>Frontend Developer</td>\n",
              "      <td>8</td>\n",
              "      <td>5</td>\n",
              "      <td>Head</td>\n",
              "      <td>JavaScript</td>\n",
              "      <td>Kubernetes, Docker</td>\n",
              "      <td>82500.0</td>\n",
              "      <td>0</td>\n",
              "      <td>30</td>\n",
              "      <td>Full-time employee</td>\n",
              "      <td>Unlimited contract</td>\n",
              "      <td>English</td>\n",
              "      <td>1000+</td>\n",
              "      <td>Product</td>\n",
              "    </tr>\n",
              "    <tr>\n",
              "      <th>21</th>\n",
              "      <td>24/11/2020 11:21:18</td>\n",
              "      <td>34.0</td>\n",
              "      <td>Male</td>\n",
              "      <td>Berlin</td>\n",
              "      <td>Software Architect</td>\n",
              "      <td>15</td>\n",
              "      <td>9</td>\n",
              "      <td>Lead</td>\n",
              "      <td>NodeJS</td>\n",
              "      <td>Javascript / Typescript, SQL, Go, AWS, Kuberne...</td>\n",
              "      <td>100000.0</td>\n",
              "      <td>NaN</td>\n",
              "      <td>24</td>\n",
              "      <td>Full-time employee</td>\n",
              "      <td>Unlimited contract</td>\n",
              "      <td>English</td>\n",
              "      <td>1000+</td>\n",
              "      <td>Product</td>\n",
              "    </tr>\n",
              "    <tr>\n",
              "      <th>291</th>\n",
              "      <td>24/11/2020 15:28:50</td>\n",
              "      <td>34.0</td>\n",
              "      <td>Male</td>\n",
              "      <td>Berlin</td>\n",
              "      <td>Security Engineer</td>\n",
              "      <td>10</td>\n",
              "      <td>4</td>\n",
              "      <td>Senior</td>\n",
              "      <td>python</td>\n",
              "      <td>Javascript / Typescript, AWS, Kubernetes</td>\n",
              "      <td>85000.0</td>\n",
              "      <td>25000</td>\n",
              "      <td>28</td>\n",
              "      <td>Full-time employee</td>\n",
              "      <td>Unlimited contract</td>\n",
              "      <td>English</td>\n",
              "      <td>1000+</td>\n",
              "      <td>Product</td>\n",
              "    </tr>\n",
              "    <tr>\n",
              "      <th>684</th>\n",
              "      <td>25/11/2020 19:33:52</td>\n",
              "      <td>25.0</td>\n",
              "      <td>Male</td>\n",
              "      <td>Berlin</td>\n",
              "      <td>Software Engineer</td>\n",
              "      <td>6</td>\n",
              "      <td>3</td>\n",
              "      <td>Senior</td>\n",
              "      <td>JavaScript / TypeScript</td>\n",
              "      <td>AWS, Docker</td>\n",
              "      <td>71750.0</td>\n",
              "      <td>6000</td>\n",
              "      <td>30</td>\n",
              "      <td>Full-time employee</td>\n",
              "      <td>Unlimited contract</td>\n",
              "      <td>English</td>\n",
              "      <td>1000+</td>\n",
              "      <td>Product</td>\n",
              "    </tr>\n",
              "    <tr>\n",
              "      <th>524</th>\n",
              "      <td>25/11/2020 10:53:48</td>\n",
              "      <td>29.0</td>\n",
              "      <td>Female</td>\n",
              "      <td>Berlin</td>\n",
              "      <td>Software Developer in Test</td>\n",
              "      <td>9</td>\n",
              "      <td>4</td>\n",
              "      <td>Lead</td>\n",
              "      <td>Java</td>\n",
              "      <td>Javascript / Typescript, SQL, Docker</td>\n",
              "      <td>66000.0</td>\n",
              "      <td>0</td>\n",
              "      <td>25</td>\n",
              "      <td>Full-time employee</td>\n",
              "      <td>Unlimited contract</td>\n",
              "      <td>English</td>\n",
              "      <td>101-1000</td>\n",
              "      <td>Startup</td>\n",
              "    </tr>\n",
              "    <tr>\n",
              "      <th>93</th>\n",
              "      <td>24/11/2020 11:48:57</td>\n",
              "      <td>27.0</td>\n",
              "      <td>Female</td>\n",
              "      <td>Hamburg</td>\n",
              "      <td>Account Managet</td>\n",
              "      <td>6</td>\n",
              "      <td>1</td>\n",
              "      <td>Senior</td>\n",
              "      <td>NaN</td>\n",
              "      <td>NaN</td>\n",
              "      <td>50000.0</td>\n",
              "      <td>NaN</td>\n",
              "      <td>28</td>\n",
              "      <td>Full-time employee</td>\n",
              "      <td>Temporary contract</td>\n",
              "      <td>English</td>\n",
              "      <td>101-1000</td>\n",
              "      <td>Product</td>\n",
              "    </tr>\n",
              "  </tbody>\n",
              "</table>\n",
              "</div>\n",
              "      <button class=\"colab-df-convert\" onclick=\"convertToInteractive('df-e2cbe362-2b0d-4a66-9a97-4107c7175319')\"\n",
              "              title=\"Convert this dataframe to an interactive table.\"\n",
              "              style=\"display:none;\">\n",
              "        \n",
              "  <svg xmlns=\"http://www.w3.org/2000/svg\" height=\"24px\"viewBox=\"0 0 24 24\"\n",
              "       width=\"24px\">\n",
              "    <path d=\"M0 0h24v24H0V0z\" fill=\"none\"/>\n",
              "    <path d=\"M18.56 5.44l.94 2.06.94-2.06 2.06-.94-2.06-.94-.94-2.06-.94 2.06-2.06.94zm-11 1L8.5 8.5l.94-2.06 2.06-.94-2.06-.94L8.5 2.5l-.94 2.06-2.06.94zm10 10l.94 2.06.94-2.06 2.06-.94-2.06-.94-.94-2.06-.94 2.06-2.06.94z\"/><path d=\"M17.41 7.96l-1.37-1.37c-.4-.4-.92-.59-1.43-.59-.52 0-1.04.2-1.43.59L10.3 9.45l-7.72 7.72c-.78.78-.78 2.05 0 2.83L4 21.41c.39.39.9.59 1.41.59.51 0 1.02-.2 1.41-.59l7.78-7.78 2.81-2.81c.8-.78.8-2.07 0-2.86zM5.41 20L4 18.59l7.72-7.72 1.47 1.35L5.41 20z\"/>\n",
              "  </svg>\n",
              "      </button>\n",
              "      \n",
              "  <style>\n",
              "    .colab-df-container {\n",
              "      display:flex;\n",
              "      flex-wrap:wrap;\n",
              "      gap: 12px;\n",
              "    }\n",
              "\n",
              "    .colab-df-convert {\n",
              "      background-color: #E8F0FE;\n",
              "      border: none;\n",
              "      border-radius: 50%;\n",
              "      cursor: pointer;\n",
              "      display: none;\n",
              "      fill: #1967D2;\n",
              "      height: 32px;\n",
              "      padding: 0 0 0 0;\n",
              "      width: 32px;\n",
              "    }\n",
              "\n",
              "    .colab-df-convert:hover {\n",
              "      background-color: #E2EBFA;\n",
              "      box-shadow: 0px 1px 2px rgba(60, 64, 67, 0.3), 0px 1px 3px 1px rgba(60, 64, 67, 0.15);\n",
              "      fill: #174EA6;\n",
              "    }\n",
              "\n",
              "    [theme=dark] .colab-df-convert {\n",
              "      background-color: #3B4455;\n",
              "      fill: #D2E3FC;\n",
              "    }\n",
              "\n",
              "    [theme=dark] .colab-df-convert:hover {\n",
              "      background-color: #434B5C;\n",
              "      box-shadow: 0px 1px 3px 1px rgba(0, 0, 0, 0.15);\n",
              "      filter: drop-shadow(0px 1px 2px rgba(0, 0, 0, 0.3));\n",
              "      fill: #FFFFFF;\n",
              "    }\n",
              "  </style>\n",
              "\n",
              "      <script>\n",
              "        const buttonEl =\n",
              "          document.querySelector('#df-e2cbe362-2b0d-4a66-9a97-4107c7175319 button.colab-df-convert');\n",
              "        buttonEl.style.display =\n",
              "          google.colab.kernel.accessAllowed ? 'block' : 'none';\n",
              "\n",
              "        async function convertToInteractive(key) {\n",
              "          const element = document.querySelector('#df-e2cbe362-2b0d-4a66-9a97-4107c7175319');\n",
              "          const dataTable =\n",
              "            await google.colab.kernel.invokeFunction('convertToInteractive',\n",
              "                                                     [key], {});\n",
              "          if (!dataTable) return;\n",
              "\n",
              "          const docLinkHtml = 'Like what you see? Visit the ' +\n",
              "            '<a target=\"_blank\" href=https://colab.research.google.com/notebooks/data_table.ipynb>data table notebook</a>'\n",
              "            + ' to learn more about interactive tables.';\n",
              "          element.innerHTML = '';\n",
              "          dataTable['output_type'] = 'display_data';\n",
              "          await google.colab.output.renderOutput(dataTable, element);\n",
              "          const docLink = document.createElement('div');\n",
              "          docLink.innerHTML = docLinkHtml;\n",
              "          element.appendChild(docLink);\n",
              "        }\n",
              "      </script>\n",
              "    </div>\n",
              "  </div>\n",
              "  "
            ]
          },
          "metadata": {},
          "execution_count": 533
        }
      ],
      "source": [
        "df.sample(10)"
      ]
    },
    {
      "cell_type": "code",
      "source": [
        "df.info()"
      ],
      "metadata": {
        "colab": {
          "base_uri": "https://localhost:8080/"
        },
        "id": "X1oHguSt-Yc7",
        "outputId": "bca90cf6-93cc-4e70-d8a5-6336aba165cd"
      },
      "execution_count": 534,
      "outputs": [
        {
          "output_type": "stream",
          "name": "stdout",
          "text": [
            "<class 'pandas.core.frame.DataFrame'>\n",
            "RangeIndex: 1253 entries, 0 to 1252\n",
            "Data columns (total 18 columns):\n",
            " #   Column                                                  Non-Null Count  Dtype  \n",
            "---  ------                                                  --------------  -----  \n",
            " 0   Timestamp                                               1253 non-null   object \n",
            " 1   Age                                                     1226 non-null   float64\n",
            " 2   Gender                                                  1243 non-null   object \n",
            " 3   City                                                    1253 non-null   object \n",
            " 4   Position                                                1247 non-null   object \n",
            " 5   Total years of experience                               1237 non-null   object \n",
            " 6   Years of experience in Germany                          1221 non-null   object \n",
            " 7   Seniority level                                         1241 non-null   object \n",
            " 8   Your main technology / programming language             1126 non-null   object \n",
            " 9   Other technologies/programming languages you use often  1096 non-null   object \n",
            " 10  Yearly brutto salary (without bonus and stocks) in EUR  1253 non-null   float64\n",
            " 11  Yearly bonus + stocks in EUR                            829 non-null    object \n",
            " 12  Number of vacation days                                 1185 non-null   object \n",
            " 13  Employment status                                       1236 non-null   object \n",
            " 14  Сontract duration                                       1224 non-null   object \n",
            " 15  Main language at work                                   1237 non-null   object \n",
            " 16  Company size                                            1235 non-null   object \n",
            " 17  Company type                                            1228 non-null   object \n",
            "dtypes: float64(2), object(16)\n",
            "memory usage: 176.3+ KB\n"
          ]
        }
      ]
    },
    {
      "cell_type": "code",
      "execution_count": 535,
      "metadata": {
        "colab": {
          "base_uri": "https://localhost:8080/"
        },
        "id": "2P0NdFlh6Heg",
        "outputId": "a9f5375f-8ce5-4750-8d27-32ca7e9552d8"
      },
      "outputs": [
        {
          "output_type": "execute_result",
          "data": {
            "text/plain": [
              "Javascript / Typescript                                                                   44\n",
              "Python                                                                                    37\n",
              "SQL                                                                                       31\n",
              "AWS, Docker                                                                               16\n",
              "Kotlin                                                                                    15\n",
              "                                                                                          ..\n",
              "Python, Ruby, Java / Scala, Go, Rust, AWS, Kubernetes, Docker, Terraform, helm, packer     1\n",
              "Kotlin, SQL, AWS, Kubernetes, Docker                                                       1\n",
              "Python, R, Go                                                                              1\n",
              "C/C++, PHP, SQL                                                                            1\n",
              "Python, AWS, Kubernetes, Docker, terraform, ansible                                        1\n",
              "Name: Other technologies/programming languages you use often, Length: 562, dtype: int64"
            ]
          },
          "metadata": {},
          "execution_count": 535
        }
      ],
      "source": [
        "#df.info()\n",
        "df[\"Other technologies/programming languages you use often\"].value_counts()"
      ]
    },
    {
      "cell_type": "code",
      "execution_count": 536,
      "metadata": {
        "colab": {
          "base_uri": "https://localhost:8080/",
          "height": 389
        },
        "id": "mxsFOdnx6Heh",
        "outputId": "e26709bf-b98d-4b00-f111-4e2be06538ce"
      },
      "outputs": [
        {
          "output_type": "execute_result",
          "data": {
            "text/plain": [
              "             Timestamp   Age Gender    City           Position   \\\n",
              "0  24/11/2020 11:14:15  26.0   Male  Munich   Software Engineer   \n",
              "1  24/11/2020 11:14:16  26.0   Male  Berlin   Backend Developer   \n",
              "2  24/11/2020 11:14:21  29.0   Male  Berlin   Software Engineer   \n",
              "3  24/11/2020 11:15:24  28.0   Male  Berlin  Frontend Developer   \n",
              "4  24/11/2020 11:15:46  37.0   Male  Berlin   Backend Developer   \n",
              "\n",
              "  Total years of experience Years of experience in Germany Seniority level  \\\n",
              "0                         5                              3          Senior   \n",
              "1                         7                              4          Senior   \n",
              "2                        12                              6            Lead   \n",
              "3                         4                              1          Junior   \n",
              "4                        17                              6          Senior   \n",
              "\n",
              "  Your main technology / programming language  \\\n",
              "0                                  TypeScript   \n",
              "1                                        Ruby   \n",
              "2                     Javascript / Typescript   \n",
              "3                                  Javascript   \n",
              "4                                     C# .NET   \n",
              "\n",
              "  Other technologies/programming languages you use often  \\\n",
              "0                    Kotlin, Javascript / Typescript       \n",
              "1                                                NaN       \n",
              "2                    Javascript / Typescript, Docker       \n",
              "3                                                NaN       \n",
              "4                             .NET, SQL, AWS, Docker       \n",
              "\n",
              "   Yearly brutto salary (without bonus and stocks) in EUR  \\\n",
              "0                                            80000.0        \n",
              "1                                            80000.0        \n",
              "2                                           120000.0        \n",
              "3                                            54000.0        \n",
              "4                                            62000.0        \n",
              "\n",
              "  Yearly bonus + stocks in EUR Number of vacation days  \\\n",
              "0                         5000                      30   \n",
              "1                          NaN                      28   \n",
              "2                       120000                      30   \n",
              "3                          NaN                      24   \n",
              "4                          NaN                      29   \n",
              "\n",
              "            Employment status   Сontract duration Main language at work  \\\n",
              "0          Full-time employee  Unlimited contract               English   \n",
              "1          Full-time employee  Unlimited contract               English   \n",
              "2  Self-employed (freelancer)  Temporary contract               English   \n",
              "3          Full-time employee  Unlimited contract               English   \n",
              "4          Full-time employee  Unlimited contract               English   \n",
              "\n",
              "  Company size Company type  \n",
              "0       51-100      Product  \n",
              "1     101-1000      Product  \n",
              "2     101-1000      Product  \n",
              "3       51-100      Startup  \n",
              "4     101-1000      Product  "
            ],
            "text/html": [
              "\n",
              "  <div id=\"df-77e138df-f478-4ece-a9d0-afb0b9f05537\">\n",
              "    <div class=\"colab-df-container\">\n",
              "      <div>\n",
              "<style scoped>\n",
              "    .dataframe tbody tr th:only-of-type {\n",
              "        vertical-align: middle;\n",
              "    }\n",
              "\n",
              "    .dataframe tbody tr th {\n",
              "        vertical-align: top;\n",
              "    }\n",
              "\n",
              "    .dataframe thead th {\n",
              "        text-align: right;\n",
              "    }\n",
              "</style>\n",
              "<table border=\"1\" class=\"dataframe\">\n",
              "  <thead>\n",
              "    <tr style=\"text-align: right;\">\n",
              "      <th></th>\n",
              "      <th>Timestamp</th>\n",
              "      <th>Age</th>\n",
              "      <th>Gender</th>\n",
              "      <th>City</th>\n",
              "      <th>Position</th>\n",
              "      <th>Total years of experience</th>\n",
              "      <th>Years of experience in Germany</th>\n",
              "      <th>Seniority level</th>\n",
              "      <th>Your main technology / programming language</th>\n",
              "      <th>Other technologies/programming languages you use often</th>\n",
              "      <th>Yearly brutto salary (without bonus and stocks) in EUR</th>\n",
              "      <th>Yearly bonus + stocks in EUR</th>\n",
              "      <th>Number of vacation days</th>\n",
              "      <th>Employment status</th>\n",
              "      <th>Сontract duration</th>\n",
              "      <th>Main language at work</th>\n",
              "      <th>Company size</th>\n",
              "      <th>Company type</th>\n",
              "    </tr>\n",
              "  </thead>\n",
              "  <tbody>\n",
              "    <tr>\n",
              "      <th>0</th>\n",
              "      <td>24/11/2020 11:14:15</td>\n",
              "      <td>26.0</td>\n",
              "      <td>Male</td>\n",
              "      <td>Munich</td>\n",
              "      <td>Software Engineer</td>\n",
              "      <td>5</td>\n",
              "      <td>3</td>\n",
              "      <td>Senior</td>\n",
              "      <td>TypeScript</td>\n",
              "      <td>Kotlin, Javascript / Typescript</td>\n",
              "      <td>80000.0</td>\n",
              "      <td>5000</td>\n",
              "      <td>30</td>\n",
              "      <td>Full-time employee</td>\n",
              "      <td>Unlimited contract</td>\n",
              "      <td>English</td>\n",
              "      <td>51-100</td>\n",
              "      <td>Product</td>\n",
              "    </tr>\n",
              "    <tr>\n",
              "      <th>1</th>\n",
              "      <td>24/11/2020 11:14:16</td>\n",
              "      <td>26.0</td>\n",
              "      <td>Male</td>\n",
              "      <td>Berlin</td>\n",
              "      <td>Backend Developer</td>\n",
              "      <td>7</td>\n",
              "      <td>4</td>\n",
              "      <td>Senior</td>\n",
              "      <td>Ruby</td>\n",
              "      <td>NaN</td>\n",
              "      <td>80000.0</td>\n",
              "      <td>NaN</td>\n",
              "      <td>28</td>\n",
              "      <td>Full-time employee</td>\n",
              "      <td>Unlimited contract</td>\n",
              "      <td>English</td>\n",
              "      <td>101-1000</td>\n",
              "      <td>Product</td>\n",
              "    </tr>\n",
              "    <tr>\n",
              "      <th>2</th>\n",
              "      <td>24/11/2020 11:14:21</td>\n",
              "      <td>29.0</td>\n",
              "      <td>Male</td>\n",
              "      <td>Berlin</td>\n",
              "      <td>Software Engineer</td>\n",
              "      <td>12</td>\n",
              "      <td>6</td>\n",
              "      <td>Lead</td>\n",
              "      <td>Javascript / Typescript</td>\n",
              "      <td>Javascript / Typescript, Docker</td>\n",
              "      <td>120000.0</td>\n",
              "      <td>120000</td>\n",
              "      <td>30</td>\n",
              "      <td>Self-employed (freelancer)</td>\n",
              "      <td>Temporary contract</td>\n",
              "      <td>English</td>\n",
              "      <td>101-1000</td>\n",
              "      <td>Product</td>\n",
              "    </tr>\n",
              "    <tr>\n",
              "      <th>3</th>\n",
              "      <td>24/11/2020 11:15:24</td>\n",
              "      <td>28.0</td>\n",
              "      <td>Male</td>\n",
              "      <td>Berlin</td>\n",
              "      <td>Frontend Developer</td>\n",
              "      <td>4</td>\n",
              "      <td>1</td>\n",
              "      <td>Junior</td>\n",
              "      <td>Javascript</td>\n",
              "      <td>NaN</td>\n",
              "      <td>54000.0</td>\n",
              "      <td>NaN</td>\n",
              "      <td>24</td>\n",
              "      <td>Full-time employee</td>\n",
              "      <td>Unlimited contract</td>\n",
              "      <td>English</td>\n",
              "      <td>51-100</td>\n",
              "      <td>Startup</td>\n",
              "    </tr>\n",
              "    <tr>\n",
              "      <th>4</th>\n",
              "      <td>24/11/2020 11:15:46</td>\n",
              "      <td>37.0</td>\n",
              "      <td>Male</td>\n",
              "      <td>Berlin</td>\n",
              "      <td>Backend Developer</td>\n",
              "      <td>17</td>\n",
              "      <td>6</td>\n",
              "      <td>Senior</td>\n",
              "      <td>C# .NET</td>\n",
              "      <td>.NET, SQL, AWS, Docker</td>\n",
              "      <td>62000.0</td>\n",
              "      <td>NaN</td>\n",
              "      <td>29</td>\n",
              "      <td>Full-time employee</td>\n",
              "      <td>Unlimited contract</td>\n",
              "      <td>English</td>\n",
              "      <td>101-1000</td>\n",
              "      <td>Product</td>\n",
              "    </tr>\n",
              "  </tbody>\n",
              "</table>\n",
              "</div>\n",
              "      <button class=\"colab-df-convert\" onclick=\"convertToInteractive('df-77e138df-f478-4ece-a9d0-afb0b9f05537')\"\n",
              "              title=\"Convert this dataframe to an interactive table.\"\n",
              "              style=\"display:none;\">\n",
              "        \n",
              "  <svg xmlns=\"http://www.w3.org/2000/svg\" height=\"24px\"viewBox=\"0 0 24 24\"\n",
              "       width=\"24px\">\n",
              "    <path d=\"M0 0h24v24H0V0z\" fill=\"none\"/>\n",
              "    <path d=\"M18.56 5.44l.94 2.06.94-2.06 2.06-.94-2.06-.94-.94-2.06-.94 2.06-2.06.94zm-11 1L8.5 8.5l.94-2.06 2.06-.94-2.06-.94L8.5 2.5l-.94 2.06-2.06.94zm10 10l.94 2.06.94-2.06 2.06-.94-2.06-.94-.94-2.06-.94 2.06-2.06.94z\"/><path d=\"M17.41 7.96l-1.37-1.37c-.4-.4-.92-.59-1.43-.59-.52 0-1.04.2-1.43.59L10.3 9.45l-7.72 7.72c-.78.78-.78 2.05 0 2.83L4 21.41c.39.39.9.59 1.41.59.51 0 1.02-.2 1.41-.59l7.78-7.78 2.81-2.81c.8-.78.8-2.07 0-2.86zM5.41 20L4 18.59l7.72-7.72 1.47 1.35L5.41 20z\"/>\n",
              "  </svg>\n",
              "      </button>\n",
              "      \n",
              "  <style>\n",
              "    .colab-df-container {\n",
              "      display:flex;\n",
              "      flex-wrap:wrap;\n",
              "      gap: 12px;\n",
              "    }\n",
              "\n",
              "    .colab-df-convert {\n",
              "      background-color: #E8F0FE;\n",
              "      border: none;\n",
              "      border-radius: 50%;\n",
              "      cursor: pointer;\n",
              "      display: none;\n",
              "      fill: #1967D2;\n",
              "      height: 32px;\n",
              "      padding: 0 0 0 0;\n",
              "      width: 32px;\n",
              "    }\n",
              "\n",
              "    .colab-df-convert:hover {\n",
              "      background-color: #E2EBFA;\n",
              "      box-shadow: 0px 1px 2px rgba(60, 64, 67, 0.3), 0px 1px 3px 1px rgba(60, 64, 67, 0.15);\n",
              "      fill: #174EA6;\n",
              "    }\n",
              "\n",
              "    [theme=dark] .colab-df-convert {\n",
              "      background-color: #3B4455;\n",
              "      fill: #D2E3FC;\n",
              "    }\n",
              "\n",
              "    [theme=dark] .colab-df-convert:hover {\n",
              "      background-color: #434B5C;\n",
              "      box-shadow: 0px 1px 3px 1px rgba(0, 0, 0, 0.15);\n",
              "      filter: drop-shadow(0px 1px 2px rgba(0, 0, 0, 0.3));\n",
              "      fill: #FFFFFF;\n",
              "    }\n",
              "  </style>\n",
              "\n",
              "      <script>\n",
              "        const buttonEl =\n",
              "          document.querySelector('#df-77e138df-f478-4ece-a9d0-afb0b9f05537 button.colab-df-convert');\n",
              "        buttonEl.style.display =\n",
              "          google.colab.kernel.accessAllowed ? 'block' : 'none';\n",
              "\n",
              "        async function convertToInteractive(key) {\n",
              "          const element = document.querySelector('#df-77e138df-f478-4ece-a9d0-afb0b9f05537');\n",
              "          const dataTable =\n",
              "            await google.colab.kernel.invokeFunction('convertToInteractive',\n",
              "                                                     [key], {});\n",
              "          if (!dataTable) return;\n",
              "\n",
              "          const docLinkHtml = 'Like what you see? Visit the ' +\n",
              "            '<a target=\"_blank\" href=https://colab.research.google.com/notebooks/data_table.ipynb>data table notebook</a>'\n",
              "            + ' to learn more about interactive tables.';\n",
              "          element.innerHTML = '';\n",
              "          dataTable['output_type'] = 'display_data';\n",
              "          await google.colab.output.renderOutput(dataTable, element);\n",
              "          const docLink = document.createElement('div');\n",
              "          docLink.innerHTML = docLinkHtml;\n",
              "          element.appendChild(docLink);\n",
              "        }\n",
              "      </script>\n",
              "    </div>\n",
              "  </div>\n",
              "  "
            ]
          },
          "metadata": {},
          "execution_count": 536
        }
      ],
      "source": [
        "df.head()"
      ]
    },
    {
      "cell_type": "markdown",
      "metadata": {
        "id": "-uGp4KLV6Heh"
      },
      "source": [
        "# Answers and Explainations\n",
        "(Expand/modify as needed)\n",
        "\n",
        "### Results\n",
        "\n",
        "### Feature Selection Activities\n",
        "\n",
        "### Hyperparameter Changes"
      ]
    },
    {
      "cell_type": "code",
      "source": [
        "# Check for missing values\n",
        "print(df.isnull().sum())"
      ],
      "metadata": {
        "colab": {
          "base_uri": "https://localhost:8080/"
        },
        "id": "S2a_0_e2BWUp",
        "outputId": "20837feb-6227-4beb-a51b-927575dcd57f"
      },
      "execution_count": 537,
      "outputs": [
        {
          "output_type": "stream",
          "name": "stdout",
          "text": [
            "Timestamp                                                   0\n",
            "Age                                                        27\n",
            "Gender                                                     10\n",
            "City                                                        0\n",
            "Position                                                    6\n",
            "Total years of experience                                  16\n",
            "Years of experience in Germany                             32\n",
            "Seniority level                                            12\n",
            "Your main technology / programming language               127\n",
            "Other technologies/programming languages you use often    157\n",
            "Yearly brutto salary (without bonus and stocks) in EUR      0\n",
            "Yearly bonus + stocks in EUR                              424\n",
            "Number of vacation days                                    68\n",
            "Employment status                                          17\n",
            "Сontract duration                                          29\n",
            "Main language at work                                      16\n",
            "Company size                                               18\n",
            "Company type                                               25\n",
            "dtype: int64\n"
          ]
        }
      ]
    },
    {
      "cell_type": "code",
      "source": [
        "# Remove duplicates\n",
        "df = df.drop_duplicates()"
      ],
      "metadata": {
        "id": "Sx5C4figBgCU"
      },
      "execution_count": 538,
      "outputs": []
    },
    {
      "cell_type": "code",
      "source": [
        "# Check for outliers\n",
        "plt.boxplot(df['Yearly brutto salary (without bonus and stocks) in EUR'])\n",
        "plt.show()"
      ],
      "metadata": {
        "colab": {
          "base_uri": "https://localhost:8080/",
          "height": 276
        },
        "id": "dlI7ASCsBoF7",
        "outputId": "8c0735b8-2070-4ed4-fd58-2b9655f04a50"
      },
      "execution_count": 539,
      "outputs": [
        {
          "output_type": "display_data",
          "data": {
            "text/plain": [
              "<Figure size 432x288 with 1 Axes>"
            ],
            "image/png": "[encoded data removed]"
          },
          "metadata": {
            "needs_background": "light"
          }
        }
      ]
    },
    {
      "cell_type": "code",
      "source": [
        "# Filter out the outlier\n",
        "# I used to winsorization to determine the 99% in Yearly brutto salary (without bonus and stocks) in EUR\n",
        "\n",
        "df = df[df['Yearly brutto salary (without bonus and stocks) in EUR'] < 187000]"
      ],
      "metadata": {
        "id": "OcpWHtwIyksi"
      },
      "execution_count": 540,
      "outputs": []
    },
    {
      "cell_type": "code",
      "source": [
        "df.describe(include=\"all\").T"
      ],
      "metadata": {
        "colab": {
          "base_uri": "https://localhost:8080/",
          "height": 614
        },
        "id": "kAE9LWjKx54u",
        "outputId": "f5f03455-1193-4146-d3b7-64febca8aff2"
      },
      "execution_count": 541,
      "outputs": [
        {
          "output_type": "execute_result",
          "data": {
            "text/plain": [
              "                                                     count unique  \\\n",
              "Timestamp                                             1243   1238   \n",
              "Age                                                 1217.0    NaN   \n",
              "Gender                                                1234      3   \n",
              "City                                                  1243    118   \n",
              "Position                                              1238    147   \n",
              "Total years of experience                             1228     48   \n",
              "Years of experience in Germany                        1212     53   \n",
              "Seniority level                                       1232     22   \n",
              "Your main technology / programming language           1117    252   \n",
              "Other technologies/programming languages you us...    1089    559   \n",
              "Yearly brutto salary (without bonus and stocks)...  1243.0    NaN   \n",
              "Yearly bonus + stocks in EUR                           821    165   \n",
              "Number of vacation days                               1177     44   \n",
              "Employment status                                     1227     11   \n",
              "Сontract duration                                     1217      2   \n",
              "Main language at work                                 1228     14   \n",
              "Company size                                          1226      5   \n",
              "Company type                                          1219     62   \n",
              "\n",
              "                                                                        top  \\\n",
              "Timestamp                                               24/11/2020 13:55:19   \n",
              "Age                                                                     NaN   \n",
              "Gender                                                                 Male   \n",
              "City                                                                 Berlin   \n",
              "Position                                                  Software Engineer   \n",
              "Total years of experience                                                10   \n",
              "Years of experience in Germany                                            2   \n",
              "Seniority level                                                      Senior   \n",
              "Your main technology / programming language                            Java   \n",
              "Other technologies/programming languages you us...  Javascript / Typescript   \n",
              "Yearly brutto salary (without bonus and stocks)...                      NaN   \n",
              "Yearly bonus + stocks in EUR                                              0   \n",
              "Number of vacation days                                                  30   \n",
              "Employment status                                        Full-time employee   \n",
              "Сontract duration                                        Unlimited contract   \n",
              "Main language at work                                               English   \n",
              "Company size                                                          1000+   \n",
              "Company type                                                        Product   \n",
              "\n",
              "                                                    freq          mean  \\\n",
              "Timestamp                                              2           NaN   \n",
              "Age                                                  NaN     32.499589   \n",
              "Gender                                              1041           NaN   \n",
              "City                                                 675           NaN   \n",
              "Position                                             385           NaN   \n",
              "Total years of experience                            137           NaN   \n",
              "Years of experience in Germany                       194           NaN   \n",
              "Seniority level                                      563           NaN   \n",
              "Your main technology / programming language          183           NaN   \n",
              "Other technologies/programming languages you us...    43           NaN   \n",
              "Yearly brutto salary (without bonus and stocks)...   NaN  70153.139284   \n",
              "Yearly bonus + stocks in EUR                         227           NaN   \n",
              "Number of vacation days                              487           NaN   \n",
              "Employment status                                   1184           NaN   \n",
              "Сontract duration                                   1154           NaN   \n",
              "Main language at work                               1012           NaN   \n",
              "Company size                                         446           NaN   \n",
              "Company type                                         756           NaN   \n",
              "\n",
              "                                                             std      min  \\\n",
              "Timestamp                                                    NaN      NaN   \n",
              "Age                                                     5.642608     21.0   \n",
              "Gender                                                       NaN      NaN   \n",
              "City                                                         NaN      NaN   \n",
              "Position                                                     NaN      NaN   \n",
              "Total years of experience                                    NaN      NaN   \n",
              "Years of experience in Germany                               NaN      NaN   \n",
              "Seniority level                                              NaN      NaN   \n",
              "Your main technology / programming language                  NaN      NaN   \n",
              "Other technologies/programming languages you us...           NaN      NaN   \n",
              "Yearly brutto salary (without bonus and stocks)...  21224.509535  10001.0   \n",
              "Yearly bonus + stocks in EUR                                 NaN      NaN   \n",
              "Number of vacation days                                      NaN      NaN   \n",
              "Employment status                                            NaN      NaN   \n",
              "Сontract duration                                            NaN      NaN   \n",
              "Main language at work                                        NaN      NaN   \n",
              "Company size                                                 NaN      NaN   \n",
              "Company type                                                 NaN      NaN   \n",
              "\n",
              "                                                        25%      50%      75%  \\\n",
              "Timestamp                                               NaN      NaN      NaN   \n",
              "Age                                                    29.0     32.0     35.0   \n",
              "Gender                                                  NaN      NaN      NaN   \n",
              "City                                                    NaN      NaN      NaN   \n",
              "Position                                                NaN      NaN      NaN   \n",
              "Total years of experience                               NaN      NaN      NaN   \n",
              "Years of experience in Germany                          NaN      NaN      NaN   \n",
              "Seniority level                                         NaN      NaN      NaN   \n",
              "Your main technology / programming language             NaN      NaN      NaN   \n",
              "Other technologies/programming languages you us...      NaN      NaN      NaN   \n",
              "Yearly brutto salary (without bonus and stocks)...  58000.0  70000.0  80000.0   \n",
              "Yearly bonus + stocks in EUR                            NaN      NaN      NaN   \n",
              "Number of vacation days                                 NaN      NaN      NaN   \n",
              "Employment status                                       NaN      NaN      NaN   \n",
              "Сontract duration                                       NaN      NaN      NaN   \n",
              "Main language at work                                   NaN      NaN      NaN   \n",
              "Company size                                            NaN      NaN      NaN   \n",
              "Company type                                            NaN      NaN      NaN   \n",
              "\n",
              "                                                         max  \n",
              "Timestamp                                                NaN  \n",
              "Age                                                     69.0  \n",
              "Gender                                                   NaN  \n",
              "City                                                     NaN  \n",
              "Position                                                 NaN  \n",
              "Total years of experience                                NaN  \n",
              "Years of experience in Germany                           NaN  \n",
              "Seniority level                                          NaN  \n",
              "Your main technology / programming language              NaN  \n",
              "Other technologies/programming languages you us...       NaN  \n",
              "Yearly brutto salary (without bonus and stocks)...  180000.0  \n",
              "Yearly bonus + stocks in EUR                             NaN  \n",
              "Number of vacation days                                  NaN  \n",
              "Employment status                                        NaN  \n",
              "Сontract duration                                        NaN  \n",
              "Main language at work                                    NaN  \n",
              "Company size                                             NaN  \n",
              "Company type                                             NaN  "
            ],
            "text/html": [
              "\n",
              "  <div id=\"df-abf50215-f594-411a-bdde-32530ef5b996\">\n",
              "    <div class=\"colab-df-container\">\n",
              "      <div>\n",
              "<style scoped>\n",
              "    .dataframe tbody tr th:only-of-type {\n",
              "        vertical-align: middle;\n",
              "    }\n",
              "\n",
              "    .dataframe tbody tr th {\n",
              "        vertical-align: top;\n",
              "    }\n",
              "\n",
              "    .dataframe thead th {\n",
              "        text-align: right;\n",
              "    }\n",
              "</style>\n",
              "<table border=\"1\" class=\"dataframe\">\n",
              "  <thead>\n",
              "    <tr style=\"text-align: right;\">\n",
              "      <th></th>\n",
              "      <th>count</th>\n",
              "      <th>unique</th>\n",
              "      <th>top</th>\n",
              "      <th>freq</th>\n",
              "      <th>mean</th>\n",
              "      <th>std</th>\n",
              "      <th>min</th>\n",
              "      <th>25%</th>\n",
              "      <th>50%</th>\n",
              "      <th>75%</th>\n",
              "      <th>max</th>\n",
              "    </tr>\n",
              "  </thead>\n",
              "  <tbody>\n",
              "    <tr>\n",
              "      <th>Timestamp</th>\n",
              "      <td>1243</td>\n",
              "      <td>1238</td>\n",
              "      <td>24/11/2020 13:55:19</td>\n",
              "      <td>2</td>\n",
              "      <td>NaN</td>\n",
              "      <td>NaN</td>\n",
              "      <td>NaN</td>\n",
              "      <td>NaN</td>\n",
              "      <td>NaN</td>\n",
              "      <td>NaN</td>\n",
              "      <td>NaN</td>\n",
              "    </tr>\n",
              "    <tr>\n",
              "      <th>Age</th>\n",
              "      <td>1217.0</td>\n",
              "      <td>NaN</td>\n",
              "      <td>NaN</td>\n",
              "      <td>NaN</td>\n",
              "      <td>32.499589</td>\n",
              "      <td>5.642608</td>\n",
              "      <td>21.0</td>\n",
              "      <td>29.0</td>\n",
              "      <td>32.0</td>\n",
              "      <td>35.0</td>\n",
              "      <td>69.0</td>\n",
              "    </tr>\n",
              "    <tr>\n",
              "      <th>Gender</th>\n",
              "      <td>1234</td>\n",
              "      <td>3</td>\n",
              "      <td>Male</td>\n",
              "      <td>1041</td>\n",
              "      <td>NaN</td>\n",
              "      <td>NaN</td>\n",
              "      <td>NaN</td>\n",
              "      <td>NaN</td>\n",
              "      <td>NaN</td>\n",
              "      <td>NaN</td>\n",
              "      <td>NaN</td>\n",
              "    </tr>\n",
              "    <tr>\n",
              "      <th>City</th>\n",
              "      <td>1243</td>\n",
              "      <td>118</td>\n",
              "      <td>Berlin</td>\n",
              "      <td>675</td>\n",
              "      <td>NaN</td>\n",
              "      <td>NaN</td>\n",
              "      <td>NaN</td>\n",
              "      <td>NaN</td>\n",
              "      <td>NaN</td>\n",
              "      <td>NaN</td>\n",
              "      <td>NaN</td>\n",
              "    </tr>\n",
              "    <tr>\n",
              "      <th>Position</th>\n",
              "      <td>1238</td>\n",
              "      <td>147</td>\n",
              "      <td>Software Engineer</td>\n",
              "      <td>385</td>\n",
              "      <td>NaN</td>\n",
              "      <td>NaN</td>\n",
              "      <td>NaN</td>\n",
              "      <td>NaN</td>\n",
              "      <td>NaN</td>\n",
              "      <td>NaN</td>\n",
              "      <td>NaN</td>\n",
              "    </tr>\n",
              "    <tr>\n",
              "      <th>Total years of experience</th>\n",
              "      <td>1228</td>\n",
              "      <td>48</td>\n",
              "      <td>10</td>\n",
              "      <td>137</td>\n",
              "      <td>NaN</td>\n",
              "      <td>NaN</td>\n",
              "      <td>NaN</td>\n",
              "      <td>NaN</td>\n",
              "      <td>NaN</td>\n",
              "      <td>NaN</td>\n",
              "      <td>NaN</td>\n",
              "    </tr>\n",
              "    <tr>\n",
              "      <th>Years of experience in Germany</th>\n",
              "      <td>1212</td>\n",
              "      <td>53</td>\n",
              "      <td>2</td>\n",
              "      <td>194</td>\n",
              "      <td>NaN</td>\n",
              "      <td>NaN</td>\n",
              "      <td>NaN</td>\n",
              "      <td>NaN</td>\n",
              "      <td>NaN</td>\n",
              "      <td>NaN</td>\n",
              "      <td>NaN</td>\n",
              "    </tr>\n",
              "    <tr>\n",
              "      <th>Seniority level</th>\n",
              "      <td>1232</td>\n",
              "      <td>22</td>\n",
              "      <td>Senior</td>\n",
              "      <td>563</td>\n",
              "      <td>NaN</td>\n",
              "      <td>NaN</td>\n",
              "      <td>NaN</td>\n",
              "      <td>NaN</td>\n",
              "      <td>NaN</td>\n",
              "      <td>NaN</td>\n",
              "      <td>NaN</td>\n",
              "    </tr>\n",
              "    <tr>\n",
              "      <th>Your main technology / programming language</th>\n",
              "      <td>1117</td>\n",
              "      <td>252</td>\n",
              "      <td>Java</td>\n",
              "      <td>183</td>\n",
              "      <td>NaN</td>\n",
              "      <td>NaN</td>\n",
              "      <td>NaN</td>\n",
              "      <td>NaN</td>\n",
              "      <td>NaN</td>\n",
              "      <td>NaN</td>\n",
              "      <td>NaN</td>\n",
              "    </tr>\n",
              "    <tr>\n",
              "      <th>Other technologies/programming languages you use often</th>\n",
              "      <td>1089</td>\n",
              "      <td>559</td>\n",
              "      <td>Javascript / Typescript</td>\n",
              "      <td>43</td>\n",
              "      <td>NaN</td>\n",
              "      <td>NaN</td>\n",
              "      <td>NaN</td>\n",
              "      <td>NaN</td>\n",
              "      <td>NaN</td>\n",
              "      <td>NaN</td>\n",
              "      <td>NaN</td>\n",
              "    </tr>\n",
              "    <tr>\n",
              "      <th>Yearly brutto salary (without bonus and stocks) in EUR</th>\n",
              "      <td>1243.0</td>\n",
              "      <td>NaN</td>\n",
              "      <td>NaN</td>\n",
              "      <td>NaN</td>\n",
              "      <td>70153.139284</td>\n",
              "      <td>21224.509535</td>\n",
              "      <td>10001.0</td>\n",
              "      <td>58000.0</td>\n",
              "      <td>70000.0</td>\n",
              "      <td>80000.0</td>\n",
              "      <td>180000.0</td>\n",
              "    </tr>\n",
              "    <tr>\n",
              "      <th>Yearly bonus + stocks in EUR</th>\n",
              "      <td>821</td>\n",
              "      <td>165</td>\n",
              "      <td>0</td>\n",
              "      <td>227</td>\n",
              "      <td>NaN</td>\n",
              "      <td>NaN</td>\n",
              "      <td>NaN</td>\n",
              "      <td>NaN</td>\n",
              "      <td>NaN</td>\n",
              "      <td>NaN</td>\n",
              "      <td>NaN</td>\n",
              "    </tr>\n",
              "    <tr>\n",
              "      <th>Number of vacation days</th>\n",
              "      <td>1177</td>\n",
              "      <td>44</td>\n",
              "      <td>30</td>\n",
              "      <td>487</td>\n",
              "      <td>NaN</td>\n",
              "      <td>NaN</td>\n",
              "      <td>NaN</td>\n",
              "      <td>NaN</td>\n",
              "      <td>NaN</td>\n",
              "      <td>NaN</td>\n",
              "      <td>NaN</td>\n",
              "    </tr>\n",
              "    <tr>\n",
              "      <th>Employment status</th>\n",
              "      <td>1227</td>\n",
              "      <td>11</td>\n",
              "      <td>Full-time employee</td>\n",
              "      <td>1184</td>\n",
              "      <td>NaN</td>\n",
              "      <td>NaN</td>\n",
              "      <td>NaN</td>\n",
              "      <td>NaN</td>\n",
              "      <td>NaN</td>\n",
              "      <td>NaN</td>\n",
              "      <td>NaN</td>\n",
              "    </tr>\n",
              "    <tr>\n",
              "      <th>Сontract duration</th>\n",
              "      <td>1217</td>\n",
              "      <td>2</td>\n",
              "      <td>Unlimited contract</td>\n",
              "      <td>1154</td>\n",
              "      <td>NaN</td>\n",
              "      <td>NaN</td>\n",
              "      <td>NaN</td>\n",
              "      <td>NaN</td>\n",
              "      <td>NaN</td>\n",
              "      <td>NaN</td>\n",
              "      <td>NaN</td>\n",
              "    </tr>\n",
              "    <tr>\n",
              "      <th>Main language at work</th>\n",
              "      <td>1228</td>\n",
              "      <td>14</td>\n",
              "      <td>English</td>\n",
              "      <td>1012</td>\n",
              "      <td>NaN</td>\n",
              "      <td>NaN</td>\n",
              "      <td>NaN</td>\n",
              "      <td>NaN</td>\n",
              "      <td>NaN</td>\n",
              "      <td>NaN</td>\n",
              "      <td>NaN</td>\n",
              "    </tr>\n",
              "    <tr>\n",
              "      <th>Company size</th>\n",
              "      <td>1226</td>\n",
              "      <td>5</td>\n",
              "      <td>1000+</td>\n",
              "      <td>446</td>\n",
              "      <td>NaN</td>\n",
              "      <td>NaN</td>\n",
              "      <td>NaN</td>\n",
              "      <td>NaN</td>\n",
              "      <td>NaN</td>\n",
              "      <td>NaN</td>\n",
              "      <td>NaN</td>\n",
              "    </tr>\n",
              "    <tr>\n",
              "      <th>Company type</th>\n",
              "      <td>1219</td>\n",
              "      <td>62</td>\n",
              "      <td>Product</td>\n",
              "      <td>756</td>\n",
              "      <td>NaN</td>\n",
              "      <td>NaN</td>\n",
              "      <td>NaN</td>\n",
              "      <td>NaN</td>\n",
              "      <td>NaN</td>\n",
              "      <td>NaN</td>\n",
              "      <td>NaN</td>\n",
              "    </tr>\n",
              "  </tbody>\n",
              "</table>\n",
              "</div>\n",
              "      <button class=\"colab-df-convert\" onclick=\"convertToInteractive('df-abf50215-f594-411a-bdde-32530ef5b996')\"\n",
              "              title=\"Convert this dataframe to an interactive table.\"\n",
              "              style=\"display:none;\">\n",
              "        \n",
              "  <svg xmlns=\"http://www.w3.org/2000/svg\" height=\"24px\"viewBox=\"0 0 24 24\"\n",
              "       width=\"24px\">\n",
              "    <path d=\"M0 0h24v24H0V0z\" fill=\"none\"/>\n",
              "    <path d=\"M18.56 5.44l.94 2.06.94-2.06 2.06-.94-2.06-.94-.94-2.06-.94 2.06-2.06.94zm-11 1L8.5 8.5l.94-2.06 2.06-.94-2.06-.94L8.5 2.5l-.94 2.06-2.06.94zm10 10l.94 2.06.94-2.06 2.06-.94-2.06-.94-.94-2.06-.94 2.06-2.06.94z\"/><path d=\"M17.41 7.96l-1.37-1.37c-.4-.4-.92-.59-1.43-.59-.52 0-1.04.2-1.43.59L10.3 9.45l-7.72 7.72c-.78.78-.78 2.05 0 2.83L4 21.41c.39.39.9.59 1.41.59.51 0 1.02-.2 1.41-.59l7.78-7.78 2.81-2.81c.8-.78.8-2.07 0-2.86zM5.41 20L4 18.59l7.72-7.72 1.47 1.35L5.41 20z\"/>\n",
              "  </svg>\n",
              "      </button>\n",
              "      \n",
              "  <style>\n",
              "    .colab-df-container {\n",
              "      display:flex;\n",
              "      flex-wrap:wrap;\n",
              "      gap: 12px;\n",
              "    }\n",
              "\n",
              "    .colab-df-convert {\n",
              "      background-color: #E8F0FE;\n",
              "      border: none;\n",
              "      border-radius: 50%;\n",
              "      cursor: pointer;\n",
              "      display: none;\n",
              "      fill: #1967D2;\n",
              "      height: 32px;\n",
              "      padding: 0 0 0 0;\n",
              "      width: 32px;\n",
              "    }\n",
              "\n",
              "    .colab-df-convert:hover {\n",
              "      background-color: #E2EBFA;\n",
              "      box-shadow: 0px 1px 2px rgba(60, 64, 67, 0.3), 0px 1px 3px 1px rgba(60, 64, 67, 0.15);\n",
              "      fill: #174EA6;\n",
              "    }\n",
              "\n",
              "    [theme=dark] .colab-df-convert {\n",
              "      background-color: #3B4455;\n",
              "      fill: #D2E3FC;\n",
              "    }\n",
              "\n",
              "    [theme=dark] .colab-df-convert:hover {\n",
              "      background-color: #434B5C;\n",
              "      box-shadow: 0px 1px 3px 1px rgba(0, 0, 0, 0.15);\n",
              "      filter: drop-shadow(0px 1px 2px rgba(0, 0, 0, 0.3));\n",
              "      fill: #FFFFFF;\n",
              "    }\n",
              "  </style>\n",
              "\n",
              "      <script>\n",
              "        const buttonEl =\n",
              "          document.querySelector('#df-abf50215-f594-411a-bdde-32530ef5b996 button.colab-df-convert');\n",
              "        buttonEl.style.display =\n",
              "          google.colab.kernel.accessAllowed ? 'block' : 'none';\n",
              "\n",
              "        async function convertToInteractive(key) {\n",
              "          const element = document.querySelector('#df-abf50215-f594-411a-bdde-32530ef5b996');\n",
              "          const dataTable =\n",
              "            await google.colab.kernel.invokeFunction('convertToInteractive',\n",
              "                                                     [key], {});\n",
              "          if (!dataTable) return;\n",
              "\n",
              "          const docLinkHtml = 'Like what you see? Visit the ' +\n",
              "            '<a target=\"_blank\" href=https://colab.research.google.com/notebooks/data_table.ipynb>data table notebook</a>'\n",
              "            + ' to learn more about interactive tables.';\n",
              "          element.innerHTML = '';\n",
              "          dataTable['output_type'] = 'display_data';\n",
              "          await google.colab.output.renderOutput(dataTable, element);\n",
              "          const docLink = document.createElement('div');\n",
              "          docLink.innerHTML = docLinkHtml;\n",
              "          element.appendChild(docLink);\n",
              "        }\n",
              "      </script>\n",
              "    </div>\n",
              "  </div>\n",
              "  "
            ]
          },
          "metadata": {},
          "execution_count": 541
        }
      ]
    },
    {
      "cell_type": "code",
      "source": [
        "# clean up years of experience\n",
        "df[\"Years of experience in Germany\"].value_counts()"
      ],
      "metadata": {
        "colab": {
          "base_uri": "https://localhost:8080/"
        },
        "id": "FxbGAlk5Ezkb",
        "outputId": "675b2ffc-506f-4570-d427-2c4aa2a6cb86"
      },
      "execution_count": 542,
      "outputs": [
        {
          "output_type": "execute_result",
          "data": {
            "text/plain": [
              "2                                                      194\n",
              "1                                                      187\n",
              "3                                                      155\n",
              "5                                                      141\n",
              "4                                                      121\n",
              "0                                                       98\n",
              "6                                                       69\n",
              "7                                                       36\n",
              "10                                                      29\n",
              "1.5                                                     24\n",
              "9                                                       20\n",
              "8                                                       17\n",
              "0.5                                                     13\n",
              "12                                                      12\n",
              "2.5                                                     10\n",
              "3.5                                                      9\n",
              "15                                                       8\n",
              "11                                                       7\n",
              "20                                                       6\n",
              "0,5                                                      5\n",
              "1,5                                                      5\n",
              "14                                                       5\n",
              "13                                                       4\n",
              "30                                                       3\n",
              "2,5                                                      2\n",
              "19                                                       2\n",
              "0.25                                                     2\n",
              "18                                                       2\n",
              "3,5                                                      2\n",
              "3 months                                                 1\n",
              "⁰                                                        1\n",
              "<1                                                       1\n",
              "3 (in Poland)                                            1\n",
              "0,3                                                      1\n",
              "-                                                        1\n",
              "2.6                                                      1\n",
              "0.1                                                      1\n",
              "4.5                                                      1\n",
              "6 (not as a data scientist, but as a lab scientist)      1\n",
              "0.2                                                      1\n",
              "4 (in Switzerland), 0 (in Germany)                       1\n",
              "26                                                       1\n",
              "4 month                                                  1\n",
              "17                                                       1\n",
              "16                                                       1\n",
              "< 1                                                      1\n",
              "25                                                       1\n",
              "0.9                                                      1\n",
              "0.4                                                      1\n",
              "1,7                                                      1\n",
              "0.8                                                      1\n",
              "4,5                                                      1\n",
              "less than year                                           1\n",
              "Name: Years of experience in Germany, dtype: int64"
            ]
          },
          "metadata": {},
          "execution_count": 542
        }
      ]
    },
    {
      "cell_type": "code",
      "source": [
        "df['Years of experience in Germany'] = df['Years of experience in Germany'].str.replace(',', '.')\n",
        "df['Years of experience in Germany'] = df['Years of experience in Germany'].replace('<1', '0.5')\n",
        "df['Years of experience in Germany'] = df['Years of experience in Germany'].replace('3 (in Poland)', '3')\n",
        "df['Years of experience in Germany'] = pd.to_numeric(df['Years of experience in Germany'], errors='coerce')"
      ],
      "metadata": {
        "id": "OdMBrrUaF0nb",
        "colab": {
          "base_uri": "https://localhost:8080/"
        },
        "outputId": "2add7e5d-c249-4765-8509-f3aed2a89647"
      },
      "execution_count": 543,
      "outputs": [
        {
          "output_type": "stream",
          "name": "stderr",
          "text": [
            "<ipython-input-543-e4ef7a7238c5>:1: SettingWithCopyWarning: \n",
            "A value is trying to be set on a copy of a slice from a DataFrame.\n",
            "Try using .loc[row_indexer,col_indexer] = value instead\n",
            "\n",
            "See the caveats in the documentation: https://pandas.pydata.org/pandas-docs/stable/user_guide/indexing.html#returning-a-view-versus-a-copy\n",
            "  df['Years of experience in Germany'] = df['Years of experience in Germany'].str.replace(',', '.')\n",
            "<ipython-input-543-e4ef7a7238c5>:2: SettingWithCopyWarning: \n",
            "A value is trying to be set on a copy of a slice from a DataFrame.\n",
            "Try using .loc[row_indexer,col_indexer] = value instead\n",
            "\n",
            "See the caveats in the documentation: https://pandas.pydata.org/pandas-docs/stable/user_guide/indexing.html#returning-a-view-versus-a-copy\n",
            "  df['Years of experience in Germany'] = df['Years of experience in Germany'].replace('<1', '0.5')\n",
            "<ipython-input-543-e4ef7a7238c5>:3: SettingWithCopyWarning: \n",
            "A value is trying to be set on a copy of a slice from a DataFrame.\n",
            "Try using .loc[row_indexer,col_indexer] = value instead\n",
            "\n",
            "See the caveats in the documentation: https://pandas.pydata.org/pandas-docs/stable/user_guide/indexing.html#returning-a-view-versus-a-copy\n",
            "  df['Years of experience in Germany'] = df['Years of experience in Germany'].replace('3 (in Poland)', '3')\n",
            "<ipython-input-543-e4ef7a7238c5>:4: SettingWithCopyWarning: \n",
            "A value is trying to be set on a copy of a slice from a DataFrame.\n",
            "Try using .loc[row_indexer,col_indexer] = value instead\n",
            "\n",
            "See the caveats in the documentation: https://pandas.pydata.org/pandas-docs/stable/user_guide/indexing.html#returning-a-view-versus-a-copy\n",
            "  df['Years of experience in Germany'] = pd.to_numeric(df['Years of experience in Germany'], errors='coerce')\n"
          ]
        }
      ]
    },
    {
      "cell_type": "code",
      "source": [
        "# clean up years of experience\n",
        "df[\"Total years of experience\"].value_counts()"
      ],
      "metadata": {
        "colab": {
          "base_uri": "https://localhost:8080/"
        },
        "id": "oXU8PR5eH4mc",
        "outputId": "8cf938ee-39fe-4992-c09a-fb433b6d9fe4"
      },
      "execution_count": 544,
      "outputs": [
        {
          "output_type": "execute_result",
          "data": {
            "text/plain": [
              "10                                                     137\n",
              "5                                                      135\n",
              "6                                                       98\n",
              "8                                                       92\n",
              "7                                                       84\n",
              "4                                                       80\n",
              "12                                                      67\n",
              "3                                                       66\n",
              "15                                                      63\n",
              "9                                                       60\n",
              "2                                                       57\n",
              "11                                                      43\n",
              "13                                                      41\n",
              "14                                                      39\n",
              "1                                                       29\n",
              "20                                                      25\n",
              "16                                                      20\n",
              "18                                                      15\n",
              "17                                                      12\n",
              "25                                                       7\n",
              "19                                                       7\n",
              "0                                                        6\n",
              "22                                                       5\n",
              "2.5                                                      4\n",
              "30                                                       4\n",
              "21                                                       3\n",
              "1,5                                                      2\n",
              "27                                                       2\n",
              "3.5                                                      2\n",
              "0.8                                                      2\n",
              "1.5                                                      2\n",
              "23                                                       2\n",
              "4.5                                                      2\n",
              "383                                                      1\n",
              "6 (not as a data scientist, but as a lab scientist)      1\n",
              "31                                                       1\n",
              "15, thereof 8 as CTO                                     1\n",
              "2,5                                                      1\n",
              "1 (as QA Engineer) / 11 in total                         1\n",
              "5.5                                                      1\n",
              "24                                                       1\n",
              "29                                                       1\n",
              "28                                                       1\n",
              "7.5                                                      1\n",
              "6.5                                                      1\n",
              "40                                                       1\n",
              "26                                                       1\n",
              "less than year                                           1\n",
              "Name: Total years of experience, dtype: int64"
            ]
          },
          "metadata": {},
          "execution_count": 544
        }
      ]
    },
    {
      "cell_type": "code",
      "source": [
        "# clean up Total years of experience\n",
        "# replace any non-numeric or missing values with NaN\n",
        "df[\"Total years of experience\"] = pd.to_numeric(df[\"Total years of experience\"], errors=\"coerce\")\n",
        "\n",
        "# fill in NaN values with the median of the column\n",
        "median = np.nanmedian(df[\"Total years of experience\"])\n",
        "df[\"Total years of experience\"].fillna(median, inplace=True)\n",
        "\n",
        "# convert the column to integer data type\n",
        "df[\"Total years of experience\"] = df[\"Total years of experience\"].astype(int)"
      ],
      "metadata": {
        "id": "zxMRI4qaIfUb"
      },
      "execution_count": 545,
      "outputs": []
    },
    {
      "cell_type": "code",
      "source": [
        "\n",
        "df.info()"
      ],
      "metadata": {
        "colab": {
          "base_uri": "https://localhost:8080/"
        },
        "id": "IiGJvh0lGNM7",
        "outputId": "87a6c1e3-6cce-463a-d0a5-2565625fa2ce"
      },
      "execution_count": 546,
      "outputs": [
        {
          "output_type": "stream",
          "name": "stdout",
          "text": [
            "<class 'pandas.core.frame.DataFrame'>\n",
            "Int64Index: 1243 entries, 0 to 1252\n",
            "Data columns (total 18 columns):\n",
            " #   Column                                                  Non-Null Count  Dtype  \n",
            "---  ------                                                  --------------  -----  \n",
            " 0   Timestamp                                               1243 non-null   object \n",
            " 1   Age                                                     1217 non-null   float64\n",
            " 2   Gender                                                  1234 non-null   object \n",
            " 3   City                                                    1243 non-null   object \n",
            " 4   Position                                                1238 non-null   object \n",
            " 5   Total years of experience                               1243 non-null   int64  \n",
            " 6   Years of experience in Germany                          1204 non-null   float64\n",
            " 7   Seniority level                                         1232 non-null   object \n",
            " 8   Your main technology / programming language             1117 non-null   object \n",
            " 9   Other technologies/programming languages you use often  1089 non-null   object \n",
            " 10  Yearly brutto salary (without bonus and stocks) in EUR  1243 non-null   float64\n",
            " 11  Yearly bonus + stocks in EUR                            821 non-null    object \n",
            " 12  Number of vacation days                                 1177 non-null   object \n",
            " 13  Employment status                                       1227 non-null   object \n",
            " 14  Сontract duration                                       1217 non-null   object \n",
            " 15  Main language at work                                   1228 non-null   object \n",
            " 16  Company size                                            1226 non-null   object \n",
            " 17  Company type                                            1219 non-null   object \n",
            "dtypes: float64(3), int64(1), object(14)\n",
            "memory usage: 184.5+ KB\n"
          ]
        }
      ]
    },
    {
      "cell_type": "code",
      "source": [
        "# Normalize numerical df\n",
        "df['Total years of experience'] = df['Total years of experience'].astype(float)\n",
        "# df['Total years of experience'] = (df['Total years of experience'] - df['Total years of experience'].mean()) / df['Total years of experience'].std()\n",
        "\n",
        "# Filter out the outlier\n",
        "\n",
        "df = df[df['Total years of experience'] <30]\n",
        "\n",
        "\n",
        "# Visualize the df\n",
        "sns.scatterplot(x='Total years of experience', y='Yearly brutto salary (without bonus and stocks) in EUR', data=df)\n",
        "plt.show()"
      ],
      "metadata": {
        "colab": {
          "base_uri": "https://localhost:8080/",
          "height": 306
        },
        "id": "6zGUIQjBDbP6",
        "outputId": "ccad06db-79ac-4efe-d790-3948dee4a41c"
      },
      "execution_count": 547,
      "outputs": [
        {
          "output_type": "display_data",
          "data": {
            "text/plain": [
              "<Figure size 432x288 with 1 Axes>"
            ],
            "image/png": "[encoded data removed]"
          },
          "metadata": {
            "needs_background": "light"
          }
        }
      ]
    },
    {
      "cell_type": "code",
      "source": [
        "df.info()"
      ],
      "metadata": {
        "colab": {
          "base_uri": "https://localhost:8080/"
        },
        "id": "MFHahnqZM073",
        "outputId": "7e10b41b-6ebe-405a-e7ad-503a9dbf114d"
      },
      "execution_count": 548,
      "outputs": [
        {
          "output_type": "stream",
          "name": "stdout",
          "text": [
            "<class 'pandas.core.frame.DataFrame'>\n",
            "Int64Index: 1236 entries, 0 to 1252\n",
            "Data columns (total 18 columns):\n",
            " #   Column                                                  Non-Null Count  Dtype  \n",
            "---  ------                                                  --------------  -----  \n",
            " 0   Timestamp                                               1236 non-null   object \n",
            " 1   Age                                                     1210 non-null   float64\n",
            " 2   Gender                                                  1227 non-null   object \n",
            " 3   City                                                    1236 non-null   object \n",
            " 4   Position                                                1231 non-null   object \n",
            " 5   Total years of experience                               1236 non-null   float64\n",
            " 6   Years of experience in Germany                          1197 non-null   float64\n",
            " 7   Seniority level                                         1225 non-null   object \n",
            " 8   Your main technology / programming language             1111 non-null   object \n",
            " 9   Other technologies/programming languages you use often  1083 non-null   object \n",
            " 10  Yearly brutto salary (without bonus and stocks) in EUR  1236 non-null   float64\n",
            " 11  Yearly bonus + stocks in EUR                            817 non-null    object \n",
            " 12  Number of vacation days                                 1171 non-null   object \n",
            " 13  Employment status                                       1221 non-null   object \n",
            " 14  Сontract duration                                       1211 non-null   object \n",
            " 15  Main language at work                                   1221 non-null   object \n",
            " 16  Company size                                            1219 non-null   object \n",
            " 17  Company type                                            1212 non-null   object \n",
            "dtypes: float64(4), object(14)\n",
            "memory usage: 183.5+ KB\n"
          ]
        }
      ]
    },
    {
      "cell_type": "code",
      "source": [
        "# remove all leading/trailing spaces using the str.strip() \n",
        "df.columns = df.columns.str.strip()"
      ],
      "metadata": {
        "id": "OQlYaio6N6S8"
      },
      "execution_count": 549,
      "outputs": []
    },
    {
      "cell_type": "code",
      "source": [
        "print(df['Position'].value_counts())"
      ],
      "metadata": {
        "colab": {
          "base_uri": "https://localhost:8080/"
        },
        "id": "3XA9Vf1JNa5_",
        "outputId": "dcf2baad-a3de-4fbc-d798-2763be991266"
      },
      "execution_count": 550,
      "outputs": [
        {
          "output_type": "stream",
          "name": "stdout",
          "text": [
            "Software Engineer            382\n",
            "Backend Developer            172\n",
            "Data Scientist               109\n",
            "Frontend Developer            88\n",
            "QA Engineer                   71\n",
            "                            ... \n",
            "Testautomation                 1\n",
            "Recruiter                      1\n",
            "DBA                            1\n",
            "DB developer/Data analyst      1\n",
            "IT Operations Manager          1\n",
            "Name: Position, Length: 145, dtype: int64\n"
          ]
        }
      ]
    },
    {
      "cell_type": "code",
      "source": [
        "# Drop rows with missing values in the target variable\n",
        "# df = df.dropna(subset=['Yearly brutto salary (without bonus and stocks) in EUR'])\n",
        "\n",
        "# Impute missing values in other columns with median value\n",
        "##df = df.fillna(df.median())\n",
        "\n",
        "# One-hot encode categorical variables\n",
        "# df = pd.get_dummies(df, columns=['City', 'Gender','Position','Seniority level',\n",
        "                                # 'Your main technology / programming language', 'Main language at work', \n",
        "                                 #'Company size', 'Company type'], dummy_na=True)"
      ],
      "metadata": {
        "id": "fklCnVLTOOrH"
      },
      "execution_count": 551,
      "outputs": []
    },
    {
      "cell_type": "code",
      "source": [
        "df.head()"
      ],
      "metadata": {
        "colab": {
          "base_uri": "https://localhost:8080/",
          "height": 389
        },
        "id": "VJ1O6cagOgLy",
        "outputId": "4b9a4294-1e56-415e-8f44-ed1992f42a09"
      },
      "execution_count": 552,
      "outputs": [
        {
          "output_type": "execute_result",
          "data": {
            "text/plain": [
              "             Timestamp   Age Gender    City            Position  \\\n",
              "0  24/11/2020 11:14:15  26.0   Male  Munich   Software Engineer   \n",
              "1  24/11/2020 11:14:16  26.0   Male  Berlin   Backend Developer   \n",
              "2  24/11/2020 11:14:21  29.0   Male  Berlin   Software Engineer   \n",
              "3  24/11/2020 11:15:24  28.0   Male  Berlin  Frontend Developer   \n",
              "4  24/11/2020 11:15:46  37.0   Male  Berlin   Backend Developer   \n",
              "\n",
              "   Total years of experience  Years of experience in Germany Seniority level  \\\n",
              "0                        5.0                             3.0          Senior   \n",
              "1                        7.0                             4.0          Senior   \n",
              "2                       12.0                             6.0            Lead   \n",
              "3                        4.0                             1.0          Junior   \n",
              "4                       17.0                             6.0          Senior   \n",
              "\n",
              "  Your main technology / programming language  \\\n",
              "0                                  TypeScript   \n",
              "1                                        Ruby   \n",
              "2                     Javascript / Typescript   \n",
              "3                                  Javascript   \n",
              "4                                     C# .NET   \n",
              "\n",
              "  Other technologies/programming languages you use often  \\\n",
              "0                    Kotlin, Javascript / Typescript       \n",
              "1                                                NaN       \n",
              "2                    Javascript / Typescript, Docker       \n",
              "3                                                NaN       \n",
              "4                             .NET, SQL, AWS, Docker       \n",
              "\n",
              "   Yearly brutto salary (without bonus and stocks) in EUR  \\\n",
              "0                                            80000.0        \n",
              "1                                            80000.0        \n",
              "2                                           120000.0        \n",
              "3                                            54000.0        \n",
              "4                                            62000.0        \n",
              "\n",
              "  Yearly bonus + stocks in EUR Number of vacation days  \\\n",
              "0                         5000                      30   \n",
              "1                          NaN                      28   \n",
              "2                       120000                      30   \n",
              "3                          NaN                      24   \n",
              "4                          NaN                      29   \n",
              "\n",
              "            Employment status   Сontract duration Main language at work  \\\n",
              "0          Full-time employee  Unlimited contract               English   \n",
              "1          Full-time employee  Unlimited contract               English   \n",
              "2  Self-employed (freelancer)  Temporary contract               English   \n",
              "3          Full-time employee  Unlimited contract               English   \n",
              "4          Full-time employee  Unlimited contract               English   \n",
              "\n",
              "  Company size Company type  \n",
              "0       51-100      Product  \n",
              "1     101-1000      Product  \n",
              "2     101-1000      Product  \n",
              "3       51-100      Startup  \n",
              "4     101-1000      Product  "
            ],
            "text/html": [
              "\n",
              "  <div id=\"df-4c112a80-a0de-4d33-8df9-24cd7fa92289\">\n",
              "    <div class=\"colab-df-container\">\n",
              "      <div>\n",
              "<style scoped>\n",
              "    .dataframe tbody tr th:only-of-type {\n",
              "        vertical-align: middle;\n",
              "    }\n",
              "\n",
              "    .dataframe tbody tr th {\n",
              "        vertical-align: top;\n",
              "    }\n",
              "\n",
              "    .dataframe thead th {\n",
              "        text-align: right;\n",
              "    }\n",
              "</style>\n",
              "<table border=\"1\" class=\"dataframe\">\n",
              "  <thead>\n",
              "    <tr style=\"text-align: right;\">\n",
              "      <th></th>\n",
              "      <th>Timestamp</th>\n",
              "      <th>Age</th>\n",
              "      <th>Gender</th>\n",
              "      <th>City</th>\n",
              "      <th>Position</th>\n",
              "      <th>Total years of experience</th>\n",
              "      <th>Years of experience in Germany</th>\n",
              "      <th>Seniority level</th>\n",
              "      <th>Your main technology / programming language</th>\n",
              "      <th>Other technologies/programming languages you use often</th>\n",
              "      <th>Yearly brutto salary (without bonus and stocks) in EUR</th>\n",
              "      <th>Yearly bonus + stocks in EUR</th>\n",
              "      <th>Number of vacation days</th>\n",
              "      <th>Employment status</th>\n",
              "      <th>Сontract duration</th>\n",
              "      <th>Main language at work</th>\n",
              "      <th>Company size</th>\n",
              "      <th>Company type</th>\n",
              "    </tr>\n",
              "  </thead>\n",
              "  <tbody>\n",
              "    <tr>\n",
              "      <th>0</th>\n",
              "      <td>24/11/2020 11:14:15</td>\n",
              "      <td>26.0</td>\n",
              "      <td>Male</td>\n",
              "      <td>Munich</td>\n",
              "      <td>Software Engineer</td>\n",
              "      <td>5.0</td>\n",
              "      <td>3.0</td>\n",
              "      <td>Senior</td>\n",
              "      <td>TypeScript</td>\n",
              "      <td>Kotlin, Javascript / Typescript</td>\n",
              "      <td>80000.0</td>\n",
              "      <td>5000</td>\n",
              "      <td>30</td>\n",
              "      <td>Full-time employee</td>\n",
              "      <td>Unlimited contract</td>\n",
              "      <td>English</td>\n",
              "      <td>51-100</td>\n",
              "      <td>Product</td>\n",
              "    </tr>\n",
              "    <tr>\n",
              "      <th>1</th>\n",
              "      <td>24/11/2020 11:14:16</td>\n",
              "      <td>26.0</td>\n",
              "      <td>Male</td>\n",
              "      <td>Berlin</td>\n",
              "      <td>Backend Developer</td>\n",
              "      <td>7.0</td>\n",
              "      <td>4.0</td>\n",
              "      <td>Senior</td>\n",
              "      <td>Ruby</td>\n",
              "      <td>NaN</td>\n",
              "      <td>80000.0</td>\n",
              "      <td>NaN</td>\n",
              "      <td>28</td>\n",
              "      <td>Full-time employee</td>\n",
              "      <td>Unlimited contract</td>\n",
              "      <td>English</td>\n",
              "      <td>101-1000</td>\n",
              "      <td>Product</td>\n",
              "    </tr>\n",
              "    <tr>\n",
              "      <th>2</th>\n",
              "      <td>24/11/2020 11:14:21</td>\n",
              "      <td>29.0</td>\n",
              "      <td>Male</td>\n",
              "      <td>Berlin</td>\n",
              "      <td>Software Engineer</td>\n",
              "      <td>12.0</td>\n",
              "      <td>6.0</td>\n",
              "      <td>Lead</td>\n",
              "      <td>Javascript / Typescript</td>\n",
              "      <td>Javascript / Typescript, Docker</td>\n",
              "      <td>120000.0</td>\n",
              "      <td>120000</td>\n",
              "      <td>30</td>\n",
              "      <td>Self-employed (freelancer)</td>\n",
              "      <td>Temporary contract</td>\n",
              "      <td>English</td>\n",
              "      <td>101-1000</td>\n",
              "      <td>Product</td>\n",
              "    </tr>\n",
              "    <tr>\n",
              "      <th>3</th>\n",
              "      <td>24/11/2020 11:15:24</td>\n",
              "      <td>28.0</td>\n",
              "      <td>Male</td>\n",
              "      <td>Berlin</td>\n",
              "      <td>Frontend Developer</td>\n",
              "      <td>4.0</td>\n",
              "      <td>1.0</td>\n",
              "      <td>Junior</td>\n",
              "      <td>Javascript</td>\n",
              "      <td>NaN</td>\n",
              "      <td>54000.0</td>\n",
              "      <td>NaN</td>\n",
              "      <td>24</td>\n",
              "      <td>Full-time employee</td>\n",
              "      <td>Unlimited contract</td>\n",
              "      <td>English</td>\n",
              "      <td>51-100</td>\n",
              "      <td>Startup</td>\n",
              "    </tr>\n",
              "    <tr>\n",
              "      <th>4</th>\n",
              "      <td>24/11/2020 11:15:46</td>\n",
              "      <td>37.0</td>\n",
              "      <td>Male</td>\n",
              "      <td>Berlin</td>\n",
              "      <td>Backend Developer</td>\n",
              "      <td>17.0</td>\n",
              "      <td>6.0</td>\n",
              "      <td>Senior</td>\n",
              "      <td>C# .NET</td>\n",
              "      <td>.NET, SQL, AWS, Docker</td>\n",
              "      <td>62000.0</td>\n",
              "      <td>NaN</td>\n",
              "      <td>29</td>\n",
              "      <td>Full-time employee</td>\n",
              "      <td>Unlimited contract</td>\n",
              "      <td>English</td>\n",
              "      <td>101-1000</td>\n",
              "      <td>Product</td>\n",
              "    </tr>\n",
              "  </tbody>\n",
              "</table>\n",
              "</div>\n",
              "      <button class=\"colab-df-convert\" onclick=\"convertToInteractive('df-4c112a80-a0de-4d33-8df9-24cd7fa92289')\"\n",
              "              title=\"Convert this dataframe to an interactive table.\"\n",
              "              style=\"display:none;\">\n",
              "        \n",
              "  <svg xmlns=\"http://www.w3.org/2000/svg\" height=\"24px\"viewBox=\"0 0 24 24\"\n",
              "       width=\"24px\">\n",
              "    <path d=\"M0 0h24v24H0V0z\" fill=\"none\"/>\n",
              "    <path d=\"M18.56 5.44l.94 2.06.94-2.06 2.06-.94-2.06-.94-.94-2.06-.94 2.06-2.06.94zm-11 1L8.5 8.5l.94-2.06 2.06-.94-2.06-.94L8.5 2.5l-.94 2.06-2.06.94zm10 10l.94 2.06.94-2.06 2.06-.94-2.06-.94-.94-2.06-.94 2.06-2.06.94z\"/><path d=\"M17.41 7.96l-1.37-1.37c-.4-.4-.92-.59-1.43-.59-.52 0-1.04.2-1.43.59L10.3 9.45l-7.72 7.72c-.78.78-.78 2.05 0 2.83L4 21.41c.39.39.9.59 1.41.59.51 0 1.02-.2 1.41-.59l7.78-7.78 2.81-2.81c.8-.78.8-2.07 0-2.86zM5.41 20L4 18.59l7.72-7.72 1.47 1.35L5.41 20z\"/>\n",
              "  </svg>\n",
              "      </button>\n",
              "      \n",
              "  <style>\n",
              "    .colab-df-container {\n",
              "      display:flex;\n",
              "      flex-wrap:wrap;\n",
              "      gap: 12px;\n",
              "    }\n",
              "\n",
              "    .colab-df-convert {\n",
              "      background-color: #E8F0FE;\n",
              "      border: none;\n",
              "      border-radius: 50%;\n",
              "      cursor: pointer;\n",
              "      display: none;\n",
              "      fill: #1967D2;\n",
              "      height: 32px;\n",
              "      padding: 0 0 0 0;\n",
              "      width: 32px;\n",
              "    }\n",
              "\n",
              "    .colab-df-convert:hover {\n",
              "      background-color: #E2EBFA;\n",
              "      box-shadow: 0px 1px 2px rgba(60, 64, 67, 0.3), 0px 1px 3px 1px rgba(60, 64, 67, 0.15);\n",
              "      fill: #174EA6;\n",
              "    }\n",
              "\n",
              "    [theme=dark] .colab-df-convert {\n",
              "      background-color: #3B4455;\n",
              "      fill: #D2E3FC;\n",
              "    }\n",
              "\n",
              "    [theme=dark] .colab-df-convert:hover {\n",
              "      background-color: #434B5C;\n",
              "      box-shadow: 0px 1px 3px 1px rgba(0, 0, 0, 0.15);\n",
              "      filter: drop-shadow(0px 1px 2px rgba(0, 0, 0, 0.3));\n",
              "      fill: #FFFFFF;\n",
              "    }\n",
              "  </style>\n",
              "\n",
              "      <script>\n",
              "        const buttonEl =\n",
              "          document.querySelector('#df-4c112a80-a0de-4d33-8df9-24cd7fa92289 button.colab-df-convert');\n",
              "        buttonEl.style.display =\n",
              "          google.colab.kernel.accessAllowed ? 'block' : 'none';\n",
              "\n",
              "        async function convertToInteractive(key) {\n",
              "          const element = document.querySelector('#df-4c112a80-a0de-4d33-8df9-24cd7fa92289');\n",
              "          const dataTable =\n",
              "            await google.colab.kernel.invokeFunction('convertToInteractive',\n",
              "                                                     [key], {});\n",
              "          if (!dataTable) return;\n",
              "\n",
              "          const docLinkHtml = 'Like what you see? Visit the ' +\n",
              "            '<a target=\"_blank\" href=https://colab.research.google.com/notebooks/data_table.ipynb>data table notebook</a>'\n",
              "            + ' to learn more about interactive tables.';\n",
              "          element.innerHTML = '';\n",
              "          dataTable['output_type'] = 'display_data';\n",
              "          await google.colab.output.renderOutput(dataTable, element);\n",
              "          const docLink = document.createElement('div');\n",
              "          docLink.innerHTML = docLinkHtml;\n",
              "          element.appendChild(docLink);\n",
              "        }\n",
              "      </script>\n",
              "    </div>\n",
              "  </div>\n",
              "  "
            ]
          },
          "metadata": {},
          "execution_count": 552
        }
      ]
    },
    {
      "cell_type": "code",
      "source": [
        "# Distribution of Yearly Salaries withouththe bonus and stocks\n",
        "\n",
        "# Remove rows with missing salary data\n",
        "df = df.dropna(subset=['Yearly brutto salary (without bonus and stocks) in EUR'])\n",
        "\n",
        "# Create a histogram\n",
        "plt.hist(df['Yearly brutto salary (without bonus and stocks) in EUR'], bins=20)\n",
        "plt.title('Distribution of Yearly Salaries')\n",
        "plt.xlabel('Salary (EUR)')\n",
        "plt.ylabel('Frequency')\n",
        "plt.show()"
      ],
      "metadata": {
        "colab": {
          "base_uri": "https://localhost:8080/",
          "height": 295
        },
        "id": "HCFghd4RPDIz",
        "outputId": "ec65ebb5-75d3-45db-d92e-318d7cd603d9"
      },
      "execution_count": 553,
      "outputs": [
        {
          "output_type": "display_data",
          "data": {
            "text/plain": [
              "<Figure size 432x288 with 1 Axes>"
            ],
            "image/png": "[encoded data removed]"
          },
          "metadata": {
            "needs_background": "light"
          }
        }
      ]
    },
    {
      "cell_type": "code",
      "source": [
        "# Distribution of Gender\n",
        "plt.figure(figsize=(8, 6))\n",
        "sns.countplot(data=df, x='Gender')\n",
        "plt.title('Distribution of Gender')\n",
        "plt.xlabel('Gender')\n",
        "plt.ylabel('Count')\n",
        "plt.show()"
      ],
      "metadata": {
        "colab": {
          "base_uri": "https://localhost:8080/",
          "height": 404
        },
        "id": "_8QX4gJiPr0A",
        "outputId": "7cf1adeb-f2a2-40a1-c1ab-ce26418a682c"
      },
      "execution_count": 554,
      "outputs": [
        {
          "output_type": "display_data",
          "data": {
            "text/plain": [
              "<Figure size 576x432 with 1 Axes>"
            ],
            "image/png": "[encoded data removed]"
          },
          "metadata": {
            "needs_background": "light"
          }
        }
      ]
    },
    {
      "cell_type": "code",
      "source": [
        "# Distribution of Age\n",
        "plt.figure(figsize=(8, 6))\n",
        "sns.histplot(data=df, x='Age', kde=True)\n",
        "plt.title('Distribution of Age')\n",
        "plt.xlabel('Age')\n",
        "plt.ylabel('Count')\n",
        "plt.show()"
      ],
      "metadata": {
        "colab": {
          "base_uri": "https://localhost:8080/",
          "height": 404
        },
        "id": "nlBEs5goQCfT",
        "outputId": "1576a003-36af-449e-e575-a4522201bec8"
      },
      "execution_count": 555,
      "outputs": [
        {
          "output_type": "display_data",
          "data": {
            "text/plain": [
              "<Figure size 576x432 with 1 Axes>"
            ],
            "image/png": "[encoded data removed]"
          },
          "metadata": {
            "needs_background": "light"
          }
        }
      ]
    },
    {
      "cell_type": "code",
      "source": [
        "# Distribution of Total Years of Experience\n",
        "plt.figure(figsize=(8, 6))\n",
        "sns.histplot(data=df, x='Total years of experience', kde=True)\n",
        "plt.title('Distribution of Total Years of Experience')\n",
        "plt.xlabel('Years of Experience')\n",
        "plt.ylabel('Count')\n",
        "plt.show()"
      ],
      "metadata": {
        "colab": {
          "base_uri": "https://localhost:8080/",
          "height": 404
        },
        "id": "5_1MTC-XQEbK",
        "outputId": "dad30b60-f95d-4983-cd10-af0ac0b0f883"
      },
      "execution_count": 556,
      "outputs": [
        {
          "output_type": "display_data",
          "data": {
            "text/plain": [
              "<Figure size 576x432 with 1 Axes>"
            ],
            "image/png": "[encoded data removed]"
          },
          "metadata": {
            "needs_background": "light"
          }
        }
      ]
    },
    {
      "cell_type": "code",
      "source": [
        "# Distribution of Years of Experience in Germany\n",
        "plt.figure(figsize=(8, 6))\n",
        "sns.histplot(data=df, x='Years of experience in Germany', kde=True)\n",
        "plt.title('Distribution of Years of Experience in Germany')\n",
        "plt.xlabel('Years of Experience')\n",
        "plt.ylabel('Count')\n",
        "plt.show()"
      ],
      "metadata": {
        "colab": {
          "base_uri": "https://localhost:8080/",
          "height": 404
        },
        "id": "oGRcfJ9DQMdc",
        "outputId": "c808cb57-f640-4c64-e4a3-283149079c20"
      },
      "execution_count": 557,
      "outputs": [
        {
          "output_type": "display_data",
          "data": {
            "text/plain": [
              "<Figure size 576x432 with 1 Axes>"
            ],
            "image/png": "[encoded data removed]"
          },
          "metadata": {
            "needs_background": "light"
          }
        }
      ]
    },
    {
      "cell_type": "code",
      "source": [
        "# Average Salary by Gender\n",
        "plt.figure(figsize=(8, 6))\n",
        "sns.barplot(data=df, x='Gender', y='Yearly brutto salary (without bonus and stocks) in EUR', estimator=np.mean)\n",
        "plt.title('Average Salary by Gender')\n",
        "plt.xlabel('Gender')\n",
        "plt.ylabel('Salary in EUR')\n",
        "plt.show()"
      ],
      "metadata": {
        "colab": {
          "base_uri": "https://localhost:8080/",
          "height": 404
        },
        "id": "ADl02P2kQX5G",
        "outputId": "b15fe297-8541-4a2c-d991-b44b68cb607e"
      },
      "execution_count": 558,
      "outputs": [
        {
          "output_type": "display_data",
          "data": {
            "text/plain": [
              "<Figure size 576x432 with 1 Axes>"
            ],
            "image/png": "[encoded data removed]"
          },
          "metadata": {
            "needs_background": "light"
          }
        }
      ]
    },
    {
      "cell_type": "code",
      "source": [
        "# Calculate average salary by position. I will try to adjust the colum by listing out the values\n",
        "\n",
        "positions = df['Position'].unique()\n",
        "print(positions)"
      ],
      "metadata": {
        "colab": {
          "base_uri": "https://localhost:8080/"
        },
        "id": "hJcjoPj5RmBS",
        "outputId": "ccbdb5c1-4fa4-4275-9fb8-60e0c70d458d"
      },
      "execution_count": 559,
      "outputs": [
        {
          "output_type": "stream",
          "name": "stdout",
          "text": [
            "['Software Engineer' 'Backend Developer' 'Frontend Developer' 'DevOps'\n",
            " 'Data Engineer' 'Designer (UI/UX)' 'Product Manager' 'Mobile Developer'\n",
            " 'Software Architect' 'Team Lead' 'Test manager' 'QA Engineer'\n",
            " 'Data Scientist' 'Hardware Engineer' 'Engineering Manager'\n",
            " 'Analytics engineer' 'Localization producer' 'Reporting Engineer'\n",
            " 'Account Managet' 'agile master ' 'ML Engineer' 'Solution Architect'\n",
            " 'BI Consultant' 'Fullstack Developer' nan 'Cloud Architect'\n",
            " 'System Administrator' 'Project Manager' 'Network Engineer '\n",
            " 'VP Engineering' 'Agile Coach' 'Data Science Manager' 'Scrum Master'\n",
            " 'Firmware Engineer' 'Solutions Architect' 'Data Center Manager'\n",
            " 'C/C++/Java developer' 'DevOps Manager' 'Tech Lead'\n",
            " 'Network Administrator' 'Security Manager' 'Consultant Data Analytics'\n",
            " 'BI IT Consultant' 'Graphic Designer' 'iOS Developer' 'Banker'\n",
            " 'Cloud Engineer' 'Solutions architect' 'Stuttgart'\n",
            " 'Senior Program Manager' 'DB developer/Data analyst' 'Security Engineer'\n",
            " 'Business Analyst' 'DBA' 'Support Engineer' 'Consultant' 'Recruiter'\n",
            " 'Testautomation' 'SAP Developer' 'Systemadministrator' 'SW Architect'\n",
            " 'SRE' 'Fullstack engineer, ну или Software engineer' 'HiWi'\n",
            " 'Project manager' 'Architect' 'Technical Lead' 'Tech Lead / Full-Stack'\n",
            " 'Marketing Analyst' 'Senior Network&Security Eng.' 'Software tester '\n",
            " 'SAP BW Senior Consultant ' 'QA Manager ' 'Director of Engineering'\n",
            " 'IT Spezialist' 'Manager' 'Consultant ' 'Data Analyst'\n",
            " 'Software Developer in Test' 'Technical account manager ' 'Tech Leader'\n",
            " 'Chief Research Officer' 'Presales Engineer '\n",
            " 'Business Development Manager Operations ' 'Program Manager' 'Researcher'\n",
            " 'Engineering manager' 'Embedded Software Engineer' 'Dana Analyst'\n",
            " 'Team Manager' 'Data Analyst ' 'working student (QA)' 'Architect '\n",
            " 'Head of Engineering' 'SAP Consultant' 'BI Consultant SAP/ Data Engineer'\n",
            " 'computer vision researcher' 'Teamlead' 'Senior Data Engineer' 'Analyst'\n",
            " 'IT Manager' 'Head of IT ' 'Lead Software Developer' 'data engineer'\n",
            " 'Tech recruiting' 'CTO' 'BI Analyst ' 'BI Developer / Data Engineer'\n",
            " 'Senior Scrum Master (RTE)' 'Head of BI' 'Technical project manager'\n",
            " 'Project manager ' 'support engineer' 'Security engineer'\n",
            " 'Big Data Engineer' 'Manager ' 'Professor' 'AI Management' 'XR Developer'\n",
            " 'Student, Software Developer, Data Engineer' 'Engineering Team Lead'\n",
            " 'DataOps Team Lead' 'Software Sales' 'Beikoch'\n",
            " 'Product Management Praktikant' 'Data analyst ' 'Product Analyst'\n",
            " 'Team lead' 'It Consulting ' 'Data architect' 'Staff Engineer'\n",
            " 'Head of IT' 'Computational linguist' 'technical business analyst'\n",
            " 'Full-Stack Developer' 'QA Manager' 'QA Lead' 'Robotics Engineer'\n",
            " 'DatabEngineer' 'Application Consultant' 'Lead Developer'\n",
            " 'Software Architekt' 'Testmanager' 'ERP Consultant'\n",
            " 'Researcher/ Consumer Insights Analyst ' 'IT Operations Manager']\n"
          ]
        }
      ]
    },
    {
      "cell_type": "code",
      "source": [
        "df['Position'] = df['Position'].replace({\n",
        "    'Backend Developer': 'Fullstack Developer', \n",
        "    'Frontend Developer': 'Fullstack Developer',\n",
        "    'Data Engineer': 'Data Professional',\n",
        "    'Data scientist': 'Data Professional',\n",
        "    'IT Spezialist': 'IT Specialist',\n",
        "    'Systemadministrator': 'System Administrator',\n",
        "    'SW Architect': 'Software Architect',\n",
        "    'Dana Analyst': 'Data Analyst',\n",
        "    'Teamlead': 'Team Lead',\n",
        "    'Lead Software Developer': 'Lead Developer',\n",
        "    'Engineering Manager': 'Engineering Manager/Director',\n",
        "    'CTO': 'Executive',\n",
        "    'XR Developer': 'Software Developer',\n",
        "    'Computational linguist': 'Linguist',\n",
        "    'Full-Stack Developer': 'Fullstack Developer',\n",
        "    'QA Manager': 'QA Lead/Manager',\n",
        "    'QA Lead': 'QA Lead/Manager',\n",
        "    'Robotics Engineer': 'Robotics Professional',\n",
        "    'DatabEngineer': 'Data Professional',\n",
        "    'Application Consultant': 'Consultant',\n",
        "    'Team Lead': 'Team Lead/Manager',\n",
        "    'Lead Developer': 'Lead Developer/Manager',\n",
        "    'Testmanager': 'Test Manager',\n",
        "    'Researcher/ Consumer Insights Analyst': 'Researcher/Analyst',\n",
        "    'Beikoch': 'Other',\n",
        "    'Product Management Praktikant': 'Intern',\n",
        "    'It Consulting': 'Consultant',\n",
        "    'technical business analyst': 'Business Analyst',\n",
        "    'Marketing Analyst': 'Marketing Professional',\n",
        "    'Product Analyst': 'Product Professional',\n",
        "    'Researcher': 'Researcher/Analyst',\n",
        "    'support engineer': 'Support Professional',\n",
        "    'Security engineer': 'Security Professional',\n",
        "    'Big Data Engineer': 'Data Professional',\n",
        "    'Technical project manager': 'Project Manager',\n",
        "    'BI Analyst ': 'BI Professional',\n",
        "    'BI Developer / Data Engineer': 'BI Professional',\n",
        "    'technical account manager ': 'Account Manager',\n",
        "    'Software Developer in Test': 'Test Professional',\n",
        "    'Presales Engineer ': 'Sales Professional',\n",
        "    'Business Development Manager Operations ': 'Business Development Professional',\n",
        "    'QA Manager ': 'QA Lead/Manager',\n",
        "    'SAP BW Senior Consultant ': 'SAP Consultant',\n",
        "    'Software tester ': 'Test Professional',\n",
        "    'ML Engineer': 'AI/ML Engineer',\n",
        "    'Fullstack engineer, ну или Software engineer': 'Fullstack Developer',\n",
        "    'BI Consultant SAP/ Data Engineer': 'BI Professional',\n",
        "    'computer vision researcher': 'Researcher/Analyst',\n",
        "    'Data analyst ': 'Data Analyst',\n",
        "    'working student (QA)': 'Intern',\n",
        "    'Mobile Developer': 'Software Developer',\n",
        "    'Senior Network&Security Eng.': 'Network/Security Professional',\n",
        "    'Localization producer': 'Localization Professional',\n",
        "    'BI IT Consultant': 'BI Consultant',\n",
        "    'iOS Developer': 'Software Developer',\n",
        "    'Cloud Engineer': 'Cloud Professional',\n",
        "    'DB developer/Data analyst': 'Data Analyst',\n",
        "    'DBA': 'Database Administrator',\n",
        "    'Consultant Data Analytics': 'Consultant',\n",
        "    'Graphic Designer': 'Designer',\n",
        "    'System Administrator': 'System Administrator',\n",
        "    'Recruiter': 'HR Professional',\n",
        "    'Testautomation': 'Test Professional',\n",
        "    'SAP Developer': 'SAP Consultant','HiWi': 'Other'})\n"
      ],
      "metadata": {
        "id": "IPiZ0msKS2tE"
      },
      "execution_count": 560,
      "outputs": []
    },
    {
      "cell_type": "code",
      "source": [
        "# Calculate average salary by position\n",
        "avg_salary_by_position = df.groupby('Position')['Yearly brutto salary (without bonus and stocks) in EUR'].mean().reset_index()\n",
        "\n",
        "# Sort positions by average salary\n",
        "avg_salary_by_position = avg_salary_by_position.sort_values('Yearly brutto salary (without bonus and stocks) in EUR', ascending=False)\n",
        "\n",
        "plt.figure(figsize=(30,8))\n",
        "ax = sns.barplot(data=df, x='Position', y='Yearly brutto salary (without bonus and stocks) in EUR')\n",
        "plt.title('Average Salary by Position')\n",
        "plt.xlabel('Position')\n",
        "plt.ylabel('Salary in EUR')\n",
        "ax.set_xticklabels(ax.get_xticklabels(), rotation=90)\n",
        "plt.show()\n"
      ],
      "metadata": {
        "colab": {
          "base_uri": "https://localhost:8080/",
          "height": 724
        },
        "id": "XsdpmIXMUIVc",
        "outputId": "e335cace-a271-4bc5-90ad-48230f1d8b8d"
      },
      "execution_count": 561,
      "outputs": [
        {
          "output_type": "display_data",
          "data": {
            "text/plain": [
              "<Figure size 2160x576 with 1 Axes>"
            ],
            "image/png": "[encoded data removed]"
          },
          "metadata": {
            "needs_background": "light"
          }
        }
      ]
    },
    {
      "cell_type": "code",
      "source": [
        "def replace_low_freq(d, col, threshold=10, replacement='other'):\n",
        "    value_counts = d[col].value_counts() # Specific column \n",
        "    to_remove = value_counts[value_counts <= threshold].index\n",
        "    tmp = d[col].replace(to_replace=to_remove, value=replacement)\n",
        "    return tmp"
      ],
      "metadata": {
        "id": "gz9vKk7K2lt0"
      },
      "execution_count": 562,
      "outputs": []
    },
    {
      "cell_type": "code",
      "source": [
        "df['Position'].value_counts()"
      ],
      "metadata": {
        "colab": {
          "base_uri": "https://localhost:8080/"
        },
        "id": "_Iuc0sf_4S8H",
        "outputId": "f159fd70-0d09-49ae-d6cb-b157e189f5de"
      },
      "execution_count": 563,
      "outputs": [
        {
          "output_type": "execute_result",
          "data": {
            "text/plain": [
              "Software Engineer         382\n",
              "Fullstack Developer       266\n",
              "Data Scientist            109\n",
              "QA Engineer                71\n",
              "DevOps                     57\n",
              "                         ... \n",
              "Database Administrator      1\n",
              "Senior Program Manager      1\n",
              "Stuttgart                   1\n",
              "Solutions architect         1\n",
              "IT Operations Manager       1\n",
              "Name: Position, Length: 116, dtype: int64"
            ]
          },
          "metadata": {},
          "execution_count": 563
        }
      ]
    },
    {
      "cell_type": "code",
      "source": [
        "df['Position'] = replace_low_freq(df, 'Position', threshold=5, replacement='Other')\n",
        "df[\"Position\"].value_counts()"
      ],
      "metadata": {
        "colab": {
          "base_uri": "https://localhost:8080/"
        },
        "id": "Oy7ihzA54kIy",
        "outputId": "2be12b6c-ba1f-45e5-9e26-5e0e7abe6e37"
      },
      "execution_count": 564,
      "outputs": [
        {
          "output_type": "execute_result",
          "data": {
            "text/plain": [
              "Software Engineer               382\n",
              "Fullstack Developer             266\n",
              "Other                           149\n",
              "Data Scientist                  109\n",
              "QA Engineer                      71\n",
              "DevOps                           57\n",
              "Software Developer               54\n",
              "AI/ML Engineer                   41\n",
              "Product Manager                  39\n",
              "Data Professional                26\n",
              "Designer (UI/UX)                 16\n",
              "Data Analyst                     11\n",
              "Engineering Manager/Director     10\n",
              "Name: Position, dtype: int64"
            ]
          },
          "metadata": {},
          "execution_count": 564
        }
      ]
    },
    {
      "cell_type": "code",
      "source": [
        "# Calculate average salary by position\n",
        "avg_salary_by_position = df.groupby('Position')['Yearly brutto salary (without bonus and stocks) in EUR'].mean().reset_index()\n",
        "\n",
        "# Sort positions by average salary\n",
        "avg_salary_by_position = avg_salary_by_position.sort_values('Yearly brutto salary (without bonus and stocks) in EUR', ascending=False)\n",
        "\n",
        "plt.figure(figsize=(12,8))\n",
        "ax = sns.barplot(data=df, x='Position', y='Yearly brutto salary (without bonus and stocks) in EUR')\n",
        "plt.title('Average Salary by Position')\n",
        "plt.xlabel('Position')\n",
        "plt.ylabel('Salary in EUR')\n",
        "ax.set_xticklabels(ax.get_xticklabels(), rotation=90)\n",
        "plt.show()"
      ],
      "metadata": {
        "colab": {
          "base_uri": "https://localhost:8080/",
          "height": 654
        },
        "id": "HHc-cB0W5HTH",
        "outputId": "bd3bac7f-06c8-4489-96d6-d6f713f7c969"
      },
      "execution_count": 565,
      "outputs": [
        {
          "output_type": "display_data",
          "data": {
            "text/plain": [
              "<Figure size 864x576 with 1 Axes>"
            ],
            "image/png": "[encoded data removed]"
          },
          "metadata": {
            "needs_background": "light"
          }
        }
      ]
    },
    {
      "cell_type": "code",
      "source": [
        "df['Your main technology / programming language'].value_counts()"
      ],
      "metadata": {
        "colab": {
          "base_uri": "https://localhost:8080/"
        },
        "id": "xxBq3ZtEXozP",
        "outputId": "545f9326-89e6-426d-e1d3-d5843c4d08f4"
      },
      "execution_count": 566,
      "outputs": [
        {
          "output_type": "execute_result",
          "data": {
            "text/plain": [
              "Java                 182\n",
              "Python               164\n",
              "PHP                   55\n",
              "C++                   37\n",
              "JavaScript            34\n",
              "                    ... \n",
              "Go, PHP, SQL           1\n",
              "Kotlin                 1\n",
              "Jira                   1\n",
              "Qml                    1\n",
              "consumer analysis      1\n",
              "Name: Your main technology / programming language, Length: 249, dtype: int64"
            ]
          },
          "metadata": {},
          "execution_count": 566
        }
      ]
    },
    {
      "cell_type": "code",
      "source": [
        "df['Your main technology / programming language'] = replace_low_freq(df, 'Your main technology / programming language', threshold=10, replacement='Other')\n",
        "df[\"Your main technology / programming language\"].value_counts()"
      ],
      "metadata": {
        "colab": {
          "base_uri": "https://localhost:8080/"
        },
        "id": "7qEcvNsYX0RS",
        "outputId": "a55add39-fc1c-4f4e-b6bf-7d452f2b7d1a"
      },
      "execution_count": 567,
      "outputs": [
        {
          "output_type": "execute_result",
          "data": {
            "text/plain": [
              "Other         368\n",
              "Java          182\n",
              "Python        164\n",
              "PHP            55\n",
              "C++            37\n",
              "JavaScript     34\n",
              "Javascript     31\n",
              "C#             29\n",
              "python         26\n",
              "Scala          24\n",
              "Go             23\n",
              "Swift          23\n",
              "Kotlin         22\n",
              "Python         21\n",
              "Ruby           19\n",
              "TypeScript     14\n",
              "SQL            14\n",
              ".NET           13\n",
              "JS             12\n",
              "Name: Your main technology / programming language, dtype: int64"
            ]
          },
          "metadata": {},
          "execution_count": 567
        }
      ]
    },
    {
      "cell_type": "code",
      "source": [
        "df[\"Your main technology / programming language\"].replace({\"Javascript\": \"JavaScript\", \"Python \":\"Python\"}, inplace=True)\n",
        "df[\"Your main technology / programming language\"].value_counts()"
      ],
      "metadata": {
        "colab": {
          "base_uri": "https://localhost:8080/"
        },
        "id": "TyJ3A11bZnN8",
        "outputId": "d7a5257b-a718-44da-a142-0ef8f2a75fde"
      },
      "execution_count": 568,
      "outputs": [
        {
          "output_type": "execute_result",
          "data": {
            "text/plain": [
              "Other         368\n",
              "Python        185\n",
              "Java          182\n",
              "JavaScript     65\n",
              "PHP            55\n",
              "C++            37\n",
              "C#             29\n",
              "python         26\n",
              "Scala          24\n",
              "Go             23\n",
              "Swift          23\n",
              "Kotlin         22\n",
              "Ruby           19\n",
              "TypeScript     14\n",
              "SQL            14\n",
              ".NET           13\n",
              "JS             12\n",
              "Name: Your main technology / programming language, dtype: int64"
            ]
          },
          "metadata": {},
          "execution_count": 568
        }
      ]
    },
    {
      "cell_type": "code",
      "source": [
        "# Calculate average salary by main technology / programming language\n",
        "avg_salary_by_position = df.groupby('Your main technology / programming language')['Yearly brutto salary (without bonus and stocks) in EUR'].mean().reset_index()\n",
        "\n",
        "# Sort positions by average salary\n",
        "avg_salary_by_position = avg_salary_by_position.sort_values('Yearly brutto salary (without bonus and stocks) in EUR', ascending=False)\n",
        "\n",
        "plt.figure(figsize=(12,8))\n",
        "ax = sns.barplot(data=df, x='Your main technology / programming language', y='Yearly brutto salary (without bonus and stocks) in EUR')\n",
        "plt.title('Average Salary by Programming language')\n",
        "plt.xlabel('Programming language')\n",
        "plt.ylabel('Salary in EUR')\n",
        "ax.set_xticklabels(ax.get_xticklabels(), rotation=90)"
      ],
      "metadata": {
        "colab": {
          "base_uri": "https://localhost:8080/",
          "height": 849
        },
        "id": "Ytl9LYzN5YfE",
        "outputId": "5825574d-ce64-4141-d12a-d2d44061bbc8"
      },
      "execution_count": 569,
      "outputs": [
        {
          "output_type": "execute_result",
          "data": {
            "text/plain": [
              "[Text(0, 0, 'TypeScript'),\n",
              " Text(0, 0, 'Ruby'),\n",
              " Text(0, 0, 'Other'),\n",
              " Text(0, 0, 'JavaScript'),\n",
              " Text(0, 0, 'PHP'),\n",
              " Text(0, 0, 'Java'),\n",
              " Text(0, 0, 'C++'),\n",
              " Text(0, 0, 'Kotlin'),\n",
              " Text(0, 0, 'SQL'),\n",
              " Text(0, 0, 'Go'),\n",
              " Text(0, 0, 'Python'),\n",
              " Text(0, 0, '.NET'),\n",
              " Text(0, 0, 'C#'),\n",
              " Text(0, 0, 'Scala'),\n",
              " Text(0, 0, 'python'),\n",
              " Text(0, 0, 'Swift'),\n",
              " Text(0, 0, 'JS')]"
            ]
          },
          "metadata": {},
          "execution_count": 569
        },
        {
          "output_type": "display_data",
          "data": {
            "text/plain": [
              "<Figure size 864x576 with 1 Axes>"
            ],
            "image/png": "[encoded data removed]"
          },
          "metadata": {
            "needs_background": "light"
          }
        }
      ]
    },
    {
      "cell_type": "code",
      "source": [
        "df.info()"
      ],
      "metadata": {
        "colab": {
          "base_uri": "https://localhost:8080/"
        },
        "id": "LaNv3ShxbWkr",
        "outputId": "7a96095d-45de-4b8d-d11e-7658366656ff"
      },
      "execution_count": 570,
      "outputs": [
        {
          "output_type": "stream",
          "name": "stdout",
          "text": [
            "<class 'pandas.core.frame.DataFrame'>\n",
            "Int64Index: 1236 entries, 0 to 1252\n",
            "Data columns (total 18 columns):\n",
            " #   Column                                                  Non-Null Count  Dtype  \n",
            "---  ------                                                  --------------  -----  \n",
            " 0   Timestamp                                               1236 non-null   object \n",
            " 1   Age                                                     1210 non-null   float64\n",
            " 2   Gender                                                  1227 non-null   object \n",
            " 3   City                                                    1236 non-null   object \n",
            " 4   Position                                                1231 non-null   object \n",
            " 5   Total years of experience                               1236 non-null   float64\n",
            " 6   Years of experience in Germany                          1197 non-null   float64\n",
            " 7   Seniority level                                         1225 non-null   object \n",
            " 8   Your main technology / programming language             1111 non-null   object \n",
            " 9   Other technologies/programming languages you use often  1083 non-null   object \n",
            " 10  Yearly brutto salary (without bonus and stocks) in EUR  1236 non-null   float64\n",
            " 11  Yearly bonus + stocks in EUR                            817 non-null    object \n",
            " 12  Number of vacation days                                 1171 non-null   object \n",
            " 13  Employment status                                       1221 non-null   object \n",
            " 14  Сontract duration                                       1211 non-null   object \n",
            " 15  Main language at work                                   1221 non-null   object \n",
            " 16  Company size                                            1219 non-null   object \n",
            " 17  Company type                                            1212 non-null   object \n",
            "dtypes: float64(4), object(14)\n",
            "memory usage: 215.8+ KB\n"
          ]
        }
      ]
    },
    {
      "cell_type": "markdown",
      "source": [
        "# Construct a Target"
      ],
      "metadata": {
        "id": "yja30QDJ6m9X"
      }
    },
    {
      "cell_type": "code",
      "source": [
        "# Construct Target by adding salary and bonus. \n",
        "df[\"Bonus\"] = pd.to_numeric(df[\"Yearly bonus + stocks in EUR\"], downcast=\"float\", errors=\"coerce\")\n",
        "df[\"Bonus\"].fillna(0, inplace=True)\n",
        "df[\"target\"] = df[\"Yearly brutto salary (without bonus and stocks) in EUR\"] + df[\"Bonus\"]\n",
        "# df.drop(columns={\"Timestamp\",\"Yearly brutto salary (without bonus and stocks) in EUR\", \"Yearly bonus + stocks in EUR\", \"Bonus\"}, inplace=True)\n",
        "df.head()"
      ],
      "metadata": {
        "id": "sOFGiYAbb575",
        "colab": {
          "base_uri": "https://localhost:8080/",
          "height": 458
        },
        "outputId": "8e854a17-2394-47e0-99d1-efb78febc30d"
      },
      "execution_count": 571,
      "outputs": [
        {
          "output_type": "execute_result",
          "data": {
            "text/plain": [
              "             Timestamp   Age Gender    City             Position  \\\n",
              "0  24/11/2020 11:14:15  26.0   Male  Munich    Software Engineer   \n",
              "1  24/11/2020 11:14:16  26.0   Male  Berlin  Fullstack Developer   \n",
              "2  24/11/2020 11:14:21  29.0   Male  Berlin    Software Engineer   \n",
              "3  24/11/2020 11:15:24  28.0   Male  Berlin  Fullstack Developer   \n",
              "4  24/11/2020 11:15:46  37.0   Male  Berlin  Fullstack Developer   \n",
              "\n",
              "   Total years of experience  Years of experience in Germany Seniority level  \\\n",
              "0                        5.0                             3.0          Senior   \n",
              "1                        7.0                             4.0          Senior   \n",
              "2                       12.0                             6.0            Lead   \n",
              "3                        4.0                             1.0          Junior   \n",
              "4                       17.0                             6.0          Senior   \n",
              "\n",
              "  Your main technology / programming language  \\\n",
              "0                                  TypeScript   \n",
              "1                                        Ruby   \n",
              "2                                       Other   \n",
              "3                                  JavaScript   \n",
              "4                                       Other   \n",
              "\n",
              "  Other technologies/programming languages you use often  \\\n",
              "0                    Kotlin, Javascript / Typescript       \n",
              "1                                                NaN       \n",
              "2                    Javascript / Typescript, Docker       \n",
              "3                                                NaN       \n",
              "4                             .NET, SQL, AWS, Docker       \n",
              "\n",
              "   Yearly brutto salary (without bonus and stocks) in EUR  \\\n",
              "0                                            80000.0        \n",
              "1                                            80000.0        \n",
              "2                                           120000.0        \n",
              "3                                            54000.0        \n",
              "4                                            62000.0        \n",
              "\n",
              "  Yearly bonus + stocks in EUR Number of vacation days  \\\n",
              "0                         5000                      30   \n",
              "1                          NaN                      28   \n",
              "2                       120000                      30   \n",
              "3                          NaN                      24   \n",
              "4                          NaN                      29   \n",
              "\n",
              "            Employment status   Сontract duration Main language at work  \\\n",
              "0          Full-time employee  Unlimited contract               English   \n",
              "1          Full-time employee  Unlimited contract               English   \n",
              "2  Self-employed (freelancer)  Temporary contract               English   \n",
              "3          Full-time employee  Unlimited contract               English   \n",
              "4          Full-time employee  Unlimited contract               English   \n",
              "\n",
              "  Company size Company type     Bonus    target  \n",
              "0       51-100      Product    5000.0   85000.0  \n",
              "1     101-1000      Product       0.0   80000.0  \n",
              "2     101-1000      Product  120000.0  240000.0  \n",
              "3       51-100      Startup       0.0   54000.0  \n",
              "4     101-1000      Product       0.0   62000.0  "
            ],
            "text/html": [
              "\n",
              "  <div id=\"df-89ee7a2e-8ff4-40af-9fbb-a6371ad4a493\">\n",
              "    <div class=\"colab-df-container\">\n",
              "      <div>\n",
              "<style scoped>\n",
              "    .dataframe tbody tr th:only-of-type {\n",
              "        vertical-align: middle;\n",
              "    }\n",
              "\n",
              "    .dataframe tbody tr th {\n",
              "        vertical-align: top;\n",
              "    }\n",
              "\n",
              "    .dataframe thead th {\n",
              "        text-align: right;\n",
              "    }\n",
              "</style>\n",
              "<table border=\"1\" class=\"dataframe\">\n",
              "  <thead>\n",
              "    <tr style=\"text-align: right;\">\n",
              "      <th></th>\n",
              "      <th>Timestamp</th>\n",
              "      <th>Age</th>\n",
              "      <th>Gender</th>\n",
              "      <th>City</th>\n",
              "      <th>Position</th>\n",
              "      <th>Total years of experience</th>\n",
              "      <th>Years of experience in Germany</th>\n",
              "      <th>Seniority level</th>\n",
              "      <th>Your main technology / programming language</th>\n",
              "      <th>Other technologies/programming languages you use often</th>\n",
              "      <th>Yearly brutto salary (without bonus and stocks) in EUR</th>\n",
              "      <th>Yearly bonus + stocks in EUR</th>\n",
              "      <th>Number of vacation days</th>\n",
              "      <th>Employment status</th>\n",
              "      <th>Сontract duration</th>\n",
              "      <th>Main language at work</th>\n",
              "      <th>Company size</th>\n",
              "      <th>Company type</th>\n",
              "      <th>Bonus</th>\n",
              "      <th>target</th>\n",
              "    </tr>\n",
              "  </thead>\n",
              "  <tbody>\n",
              "    <tr>\n",
              "      <th>0</th>\n",
              "      <td>24/11/2020 11:14:15</td>\n",
              "      <td>26.0</td>\n",
              "      <td>Male</td>\n",
              "      <td>Munich</td>\n",
              "      <td>Software Engineer</td>\n",
              "      <td>5.0</td>\n",
              "      <td>3.0</td>\n",
              "      <td>Senior</td>\n",
              "      <td>TypeScript</td>\n",
              "      <td>Kotlin, Javascript / Typescript</td>\n",
              "      <td>80000.0</td>\n",
              "      <td>5000</td>\n",
              "      <td>30</td>\n",
              "      <td>Full-time employee</td>\n",
              "      <td>Unlimited contract</td>\n",
              "      <td>English</td>\n",
              "      <td>51-100</td>\n",
              "      <td>Product</td>\n",
              "      <td>5000.0</td>\n",
              "      <td>85000.0</td>\n",
              "    </tr>\n",
              "    <tr>\n",
              "      <th>1</th>\n",
              "      <td>24/11/2020 11:14:16</td>\n",
              "      <td>26.0</td>\n",
              "      <td>Male</td>\n",
              "      <td>Berlin</td>\n",
              "      <td>Fullstack Developer</td>\n",
              "      <td>7.0</td>\n",
              "      <td>4.0</td>\n",
              "      <td>Senior</td>\n",
              "      <td>Ruby</td>\n",
              "      <td>NaN</td>\n",
              "      <td>80000.0</td>\n",
              "      <td>NaN</td>\n",
              "      <td>28</td>\n",
              "      <td>Full-time employee</td>\n",
              "      <td>Unlimited contract</td>\n",
              "      <td>English</td>\n",
              "      <td>101-1000</td>\n",
              "      <td>Product</td>\n",
              "      <td>0.0</td>\n",
              "      <td>80000.0</td>\n",
              "    </tr>\n",
              "    <tr>\n",
              "      <th>2</th>\n",
              "      <td>24/11/2020 11:14:21</td>\n",
              "      <td>29.0</td>\n",
              "      <td>Male</td>\n",
              "      <td>Berlin</td>\n",
              "      <td>Software Engineer</td>\n",
              "      <td>12.0</td>\n",
              "      <td>6.0</td>\n",
              "      <td>Lead</td>\n",
              "      <td>Other</td>\n",
              "      <td>Javascript / Typescript, Docker</td>\n",
              "      <td>120000.0</td>\n",
              "      <td>120000</td>\n",
              "      <td>30</td>\n",
              "      <td>Self-employed (freelancer)</td>\n",
              "      <td>Temporary contract</td>\n",
              "      <td>English</td>\n",
              "      <td>101-1000</td>\n",
              "      <td>Product</td>\n",
              "      <td>120000.0</td>\n",
              "      <td>240000.0</td>\n",
              "    </tr>\n",
              "    <tr>\n",
              "      <th>3</th>\n",
              "      <td>24/11/2020 11:15:24</td>\n",
              "      <td>28.0</td>\n",
              "      <td>Male</td>\n",
              "      <td>Berlin</td>\n",
              "      <td>Fullstack Developer</td>\n",
              "      <td>4.0</td>\n",
              "      <td>1.0</td>\n",
              "      <td>Junior</td>\n",
              "      <td>JavaScript</td>\n",
              "      <td>NaN</td>\n",
              "      <td>54000.0</td>\n",
              "      <td>NaN</td>\n",
              "      <td>24</td>\n",
              "      <td>Full-time employee</td>\n",
              "      <td>Unlimited contract</td>\n",
              "      <td>English</td>\n",
              "      <td>51-100</td>\n",
              "      <td>Startup</td>\n",
              "      <td>0.0</td>\n",
              "      <td>54000.0</td>\n",
              "    </tr>\n",
              "    <tr>\n",
              "      <th>4</th>\n",
              "      <td>24/11/2020 11:15:46</td>\n",
              "      <td>37.0</td>\n",
              "      <td>Male</td>\n",
              "      <td>Berlin</td>\n",
              "      <td>Fullstack Developer</td>\n",
              "      <td>17.0</td>\n",
              "      <td>6.0</td>\n",
              "      <td>Senior</td>\n",
              "      <td>Other</td>\n",
              "      <td>.NET, SQL, AWS, Docker</td>\n",
              "      <td>62000.0</td>\n",
              "      <td>NaN</td>\n",
              "      <td>29</td>\n",
              "      <td>Full-time employee</td>\n",
              "      <td>Unlimited contract</td>\n",
              "      <td>English</td>\n",
              "      <td>101-1000</td>\n",
              "      <td>Product</td>\n",
              "      <td>0.0</td>\n",
              "      <td>62000.0</td>\n",
              "    </tr>\n",
              "  </tbody>\n",
              "</table>\n",
              "</div>\n",
              "      <button class=\"colab-df-convert\" onclick=\"convertToInteractive('df-89ee7a2e-8ff4-40af-9fbb-a6371ad4a493')\"\n",
              "              title=\"Convert this dataframe to an interactive table.\"\n",
              "              style=\"display:none;\">\n",
              "        \n",
              "  <svg xmlns=\"http://www.w3.org/2000/svg\" height=\"24px\"viewBox=\"0 0 24 24\"\n",
              "       width=\"24px\">\n",
              "    <path d=\"M0 0h24v24H0V0z\" fill=\"none\"/>\n",
              "    <path d=\"M18.56 5.44l.94 2.06.94-2.06 2.06-.94-2.06-.94-.94-2.06-.94 2.06-2.06.94zm-11 1L8.5 8.5l.94-2.06 2.06-.94-2.06-.94L8.5 2.5l-.94 2.06-2.06.94zm10 10l.94 2.06.94-2.06 2.06-.94-2.06-.94-.94-2.06-.94 2.06-2.06.94z\"/><path d=\"M17.41 7.96l-1.37-1.37c-.4-.4-.92-.59-1.43-.59-.52 0-1.04.2-1.43.59L10.3 9.45l-7.72 7.72c-.78.78-.78 2.05 0 2.83L4 21.41c.39.39.9.59 1.41.59.51 0 1.02-.2 1.41-.59l7.78-7.78 2.81-2.81c.8-.78.8-2.07 0-2.86zM5.41 20L4 18.59l7.72-7.72 1.47 1.35L5.41 20z\"/>\n",
              "  </svg>\n",
              "      </button>\n",
              "      \n",
              "  <style>\n",
              "    .colab-df-container {\n",
              "      display:flex;\n",
              "      flex-wrap:wrap;\n",
              "      gap: 12px;\n",
              "    }\n",
              "\n",
              "    .colab-df-convert {\n",
              "      background-color: #E8F0FE;\n",
              "      border: none;\n",
              "      border-radius: 50%;\n",
              "      cursor: pointer;\n",
              "      display: none;\n",
              "      fill: #1967D2;\n",
              "      height: 32px;\n",
              "      padding: 0 0 0 0;\n",
              "      width: 32px;\n",
              "    }\n",
              "\n",
              "    .colab-df-convert:hover {\n",
              "      background-color: #E2EBFA;\n",
              "      box-shadow: 0px 1px 2px rgba(60, 64, 67, 0.3), 0px 1px 3px 1px rgba(60, 64, 67, 0.15);\n",
              "      fill: #174EA6;\n",
              "    }\n",
              "\n",
              "    [theme=dark] .colab-df-convert {\n",
              "      background-color: #3B4455;\n",
              "      fill: #D2E3FC;\n",
              "    }\n",
              "\n",
              "    [theme=dark] .colab-df-convert:hover {\n",
              "      background-color: #434B5C;\n",
              "      box-shadow: 0px 1px 3px 1px rgba(0, 0, 0, 0.15);\n",
              "      filter: drop-shadow(0px 1px 2px rgba(0, 0, 0, 0.3));\n",
              "      fill: #FFFFFF;\n",
              "    }\n",
              "  </style>\n",
              "\n",
              "      <script>\n",
              "        const buttonEl =\n",
              "          document.querySelector('#df-89ee7a2e-8ff4-40af-9fbb-a6371ad4a493 button.colab-df-convert');\n",
              "        buttonEl.style.display =\n",
              "          google.colab.kernel.accessAllowed ? 'block' : 'none';\n",
              "\n",
              "        async function convertToInteractive(key) {\n",
              "          const element = document.querySelector('#df-89ee7a2e-8ff4-40af-9fbb-a6371ad4a493');\n",
              "          const dataTable =\n",
              "            await google.colab.kernel.invokeFunction('convertToInteractive',\n",
              "                                                     [key], {});\n",
              "          if (!dataTable) return;\n",
              "\n",
              "          const docLinkHtml = 'Like what you see? Visit the ' +\n",
              "            '<a target=\"_blank\" href=https://colab.research.google.com/notebooks/data_table.ipynb>data table notebook</a>'\n",
              "            + ' to learn more about interactive tables.';\n",
              "          element.innerHTML = '';\n",
              "          dataTable['output_type'] = 'display_data';\n",
              "          await google.colab.output.renderOutput(dataTable, element);\n",
              "          const docLink = document.createElement('div');\n",
              "          docLink.innerHTML = docLinkHtml;\n",
              "          element.appendChild(docLink);\n",
              "        }\n",
              "      </script>\n",
              "    </div>\n",
              "  </div>\n",
              "  "
            ]
          },
          "metadata": {},
          "execution_count": 571
        }
      ]
    },
    {
      "cell_type": "code",
      "source": [
        "# Seems the data is almost cleaned\n",
        "df['Company type'].value_counts()\n"
      ],
      "metadata": {
        "colab": {
          "base_uri": "https://localhost:8080/"
        },
        "id": "KDmTokiG60Xt",
        "outputId": "431fd81f-818c-4463-ce01-e143bcbabce8"
      },
      "execution_count": 572,
      "outputs": [
        {
          "output_type": "execute_result",
          "data": {
            "text/plain": [
              "Product                753\n",
              "Startup                248\n",
              "Consulting / Agency    138\n",
              "Bank                     5\n",
              "Media                    3\n",
              "                      ... \n",
              "Publisher                1\n",
              "Energy                   1\n",
              "Enterprise               1\n",
              "service                  1\n",
              "eCommerce                1\n",
              "Name: Company type, Length: 62, dtype: int64"
            ]
          },
          "metadata": {},
          "execution_count": 572
        }
      ]
    },
    {
      "cell_type": "code",
      "source": [
        "df['Company type'] = replace_low_freq(df, 'Company type', threshold=3, replacement='Other')\n",
        "df[\"Company type\"].value_counts()"
      ],
      "metadata": {
        "colab": {
          "base_uri": "https://localhost:8080/"
        },
        "id": "TYlkl8Km8J4w",
        "outputId": "b440f65b-b7a0-472f-ced7-61cebf10965c"
      },
      "execution_count": 573,
      "outputs": [
        {
          "output_type": "execute_result",
          "data": {
            "text/plain": [
              "Product                753\n",
              "Startup                248\n",
              "Consulting / Agency    138\n",
              "Other                   68\n",
              "Bank                     5\n",
              "Name: Company type, dtype: int64"
            ]
          },
          "metadata": {},
          "execution_count": 573
        }
      ]
    },
    {
      "cell_type": "code",
      "source": [
        "# Calculate average salary by Company Tyoe\n",
        "avg_salary_by_position = df.groupby('Company type')['Yearly brutto salary (without bonus and stocks) in EUR'].mean().reset_index()\n",
        "\n",
        "# Sort positions by average salary\n",
        "avg_salary_by_position = avg_salary_by_position.sort_values('Yearly brutto salary (without bonus and stocks) in EUR', ascending=False)\n",
        "\n",
        "plt.figure(figsize=(12,8))\n",
        "ax = sns.barplot(data=df, x='Company type', y='Yearly brutto salary (without bonus and stocks) in EUR')\n",
        "plt.title('Average Salary by Company type')\n",
        "plt.xlabel('Company type')\n",
        "plt.ylabel('Salary in EUR')\n",
        "ax.set_xticklabels(ax.get_xticklabels(), rotation=90)\n",
        "plt.show()"
      ],
      "metadata": {
        "colab": {
          "base_uri": "https://localhost:8080/",
          "height": 603
        },
        "id": "UqHQ-U1H8ihY",
        "outputId": "246fdaf0-5fe7-498b-bef0-d295f7e8fa9a"
      },
      "execution_count": 574,
      "outputs": [
        {
          "output_type": "display_data",
          "data": {
            "text/plain": [
              "<Figure size 864x576 with 1 Axes>"
            ],
            "image/png": "[encoded data removed]"
          },
          "metadata": {
            "needs_background": "light"
          }
        }
      ]
    },
    {
      "cell_type": "code",
      "source": [
        "df['Company size'].value_counts()"
      ],
      "metadata": {
        "colab": {
          "base_uri": "https://localhost:8080/"
        },
        "id": "5ktNT5827T-_",
        "outputId": "3d051b8d-73ca-4af5-ef90-6e6b6d7c056b"
      },
      "execution_count": 575,
      "outputs": [
        {
          "output_type": "execute_result",
          "data": {
            "text/plain": [
              "1000+       445\n",
              "101-1000    401\n",
              "11-50       170\n",
              "51-100      145\n",
              "up to 10     58\n",
              "Name: Company size, dtype: int64"
            ]
          },
          "metadata": {},
          "execution_count": 575
        }
      ]
    },
    {
      "cell_type": "code",
      "source": [
        "df['Main language at work'].value_counts()"
      ],
      "metadata": {
        "colab": {
          "base_uri": "https://localhost:8080/"
        },
        "id": "peOXG1qI_G2O",
        "outputId": "d11ac6bb-7222-4897-cbd4-3d798aced4d9"
      },
      "execution_count": 576,
      "outputs": [
        {
          "output_type": "execute_result",
          "data": {
            "text/plain": [
              "English               1009\n",
              "German                 181\n",
              "Russian                 12\n",
              "Italian                  3\n",
              "Spanish                  3\n",
              "English and German       2\n",
              "Polish                   2\n",
              "Русский                  2\n",
              "Czech                    2\n",
              "50/50                    1\n",
              "Deuglisch                1\n",
              "French                   1\n",
              "both                     1\n",
              "Russian, English         1\n",
              "Name: Main language at work, dtype: int64"
            ]
          },
          "metadata": {},
          "execution_count": 576
        }
      ]
    },
    {
      "cell_type": "code",
      "source": [
        "df['Main language at work'] = replace_low_freq(df, 'Main language at work', threshold=3, replacement='Other')\n",
        "df[\"Main language at work\"].value_counts()"
      ],
      "metadata": {
        "colab": {
          "base_uri": "https://localhost:8080/"
        },
        "id": "EOYBSbyC_Ql6",
        "outputId": "3d2649f3-8490-47eb-b384-e055ca9493cc"
      },
      "execution_count": 577,
      "outputs": [
        {
          "output_type": "execute_result",
          "data": {
            "text/plain": [
              "English    1009\n",
              "German      181\n",
              "Other        19\n",
              "Russian      12\n",
              "Name: Main language at work, dtype: int64"
            ]
          },
          "metadata": {},
          "execution_count": 577
        }
      ]
    },
    {
      "cell_type": "code",
      "source": [
        "df['Employment status'].value_counts()"
      ],
      "metadata": {
        "colab": {
          "base_uri": "https://localhost:8080/"
        },
        "id": "Nm8vpnox_anh",
        "outputId": "4e2ae3b0-78a4-43a3-cc5f-3d1f0ca16192"
      },
      "execution_count": 578,
      "outputs": [
        {
          "output_type": "execute_result",
          "data": {
            "text/plain": [
              "Full-time employee                                                                 1178\n",
              "Self-employed (freelancer)                                                           25\n",
              "Part-time employee                                                                    8\n",
              "Founder                                                                               3\n",
              "Company Director                                                                      1\n",
              "working student                                                                       1\n",
              "Working Student                                                                       1\n",
              "Full-time position, part-time position, & self-employed (freelancing, tutoring)       1\n",
              "Intern                                                                                1\n",
              "full-time, but 32 hours per week (it was my request, I'm a student)                   1\n",
              "Werkstudent                                                                           1\n",
              "Name: Employment status, dtype: int64"
            ]
          },
          "metadata": {},
          "execution_count": 578
        }
      ]
    },
    {
      "cell_type": "code",
      "source": [
        "df['Employment status'] = replace_low_freq(df, 'Employment status', threshold=3, replacement='Other')\n",
        "df[\"Employment status\"].value_counts()"
      ],
      "metadata": {
        "colab": {
          "base_uri": "https://localhost:8080/"
        },
        "id": "IztNZNU8_wJG",
        "outputId": "e18a3c44-fb06-49f2-d910-0d2fc7e75b3a"
      },
      "execution_count": 579,
      "outputs": [
        {
          "output_type": "execute_result",
          "data": {
            "text/plain": [
              "Full-time employee            1178\n",
              "Self-employed (freelancer)      25\n",
              "Other                           10\n",
              "Part-time employee               8\n",
              "Name: Employment status, dtype: int64"
            ]
          },
          "metadata": {},
          "execution_count": 579
        }
      ]
    },
    {
      "cell_type": "code",
      "source": [
        "df['Seniority level'].value_counts()"
      ],
      "metadata": {
        "colab": {
          "base_uri": "https://localhost:8080/"
        },
        "id": "flu5DeZPAN_n",
        "outputId": "0718f080-681b-4ca3-ef2e-a333d481e3f1"
      },
      "execution_count": 580,
      "outputs": [
        {
          "output_type": "execute_result",
          "data": {
            "text/plain": [
              "Senior                                       560\n",
              "Middle                                       365\n",
              "Lead                                         162\n",
              "Junior                                        78\n",
              "Head                                          41\n",
              "Principal                                      3\n",
              "Intern                                         1\n",
              "Entry level                                    1\n",
              "Working Student                                1\n",
              "C-Level                                        1\n",
              "no idea, there are no ranges in the firm       1\n",
              "Student                                        1\n",
              "intern                                         1\n",
              "Key                                            1\n",
              "C-level executive manager                      1\n",
              "Director                                       1\n",
              "No level                                       1\n",
              "Work Center Manager                            1\n",
              "Manager                                        1\n",
              "VP                                             1\n",
              "No level                                       1\n",
              "student                                        1\n",
              "Name: Seniority level, dtype: int64"
            ]
          },
          "metadata": {},
          "execution_count": 580
        }
      ]
    },
    {
      "cell_type": "code",
      "source": [
        "df['Seniority level'] = replace_low_freq(df, 'Seniority level', threshold=3, replacement='Other')\n",
        "df[\"Seniority level\"].value_counts()"
      ],
      "metadata": {
        "colab": {
          "base_uri": "https://localhost:8080/"
        },
        "id": "tP7Wh2TfABGd",
        "outputId": "797b1c02-b2ae-4f3d-f7d9-aa64b98d27aa"
      },
      "execution_count": 581,
      "outputs": [
        {
          "output_type": "execute_result",
          "data": {
            "text/plain": [
              "Senior    560\n",
              "Middle    365\n",
              "Lead      162\n",
              "Junior     78\n",
              "Head       41\n",
              "Other      19\n",
              "Name: Seniority level, dtype: int64"
            ]
          },
          "metadata": {},
          "execution_count": 581
        }
      ]
    },
    {
      "cell_type": "code",
      "source": [
        "# Calculate average salary by position\n",
        "avg_salary_by_position = df.groupby('Seniority level')['Yearly brutto salary (without bonus and stocks) in EUR'].mean().reset_index()\n",
        "\n",
        "# Sort positions by average salary\n",
        "avg_salary_by_position = avg_salary_by_position.sort_values('Yearly brutto salary (without bonus and stocks) in EUR', ascending=False)\n",
        "\n",
        "plt.figure(figsize=(12,8))\n",
        "ax = sns.barplot(data=df, x='Seniority level', y='Yearly brutto salary (without bonus and stocks) in EUR')\n",
        "plt.title('Average Salary by Seniority level')\n",
        "plt.xlabel('Seniority level')\n",
        "plt.ylabel('Salary in EUR')\n",
        "ax.set_xticklabels(ax.get_xticklabels(), rotation=90)\n",
        "plt.show()"
      ],
      "metadata": {
        "colab": {
          "base_uri": "https://localhost:8080/",
          "height": 536
        },
        "id": "LungvGKcAXen",
        "outputId": "df4e0837-df12-4e7b-ce2a-56799a31b3d3"
      },
      "execution_count": 582,
      "outputs": [
        {
          "output_type": "display_data",
          "data": {
            "text/plain": [
              "<Figure size 864x576 with 1 Axes>"
            ],
            "image/png": "[encoded data removed]"
          },
          "metadata": {
            "needs_background": "light"
          }
        }
      ]
    },
    {
      "cell_type": "code",
      "source": [
        "# clean up Number of vacation days\n",
        "# replace any non-numeric or missing values with NaN\n",
        "df[\"Number of vacation days\"] = pd.to_numeric(df[\"Number of vacation days\"], errors=\"coerce\")\n",
        "\n",
        "# Filter out the outlier\n",
        "\n",
        "df = df[df['Number of vacation days'] <50]\n",
        "\n",
        "\n",
        "# fill in NaN values with the median of the column\n",
        "median = np.nanmedian(df[\"Number of vacation days\"])\n",
        "df[\"Number of vacation days\"].fillna(median, inplace=True)\n",
        "\n",
        "\n",
        "\n",
        "# convert the column to integer data type\n",
        "df[\"Number of vacation days\"] = df[\"Number of vacation days\"].astype(int)\n",
        "# Normalize numerical df\n",
        "df['Number of vacation days'] = df['Number of vacation days'].astype(float)\n",
        "\n"
      ],
      "metadata": {
        "colab": {
          "base_uri": "https://localhost:8080/"
        },
        "id": "Hd1rqi_xBOz-",
        "outputId": "2490d409-a46d-4e8b-98da-5cac5c420c44"
      },
      "execution_count": 583,
      "outputs": [
        {
          "output_type": "stream",
          "name": "stderr",
          "text": [
            "/usr/local/lib/python3.8/dist-packages/pandas/core/generic.py:6392: SettingWithCopyWarning: \n",
            "A value is trying to be set on a copy of a slice from a DataFrame\n",
            "\n",
            "See the caveats in the documentation: https://pandas.pydata.org/pandas-docs/stable/user_guide/indexing.html#returning-a-view-versus-a-copy\n",
            "  return self._update_inplace(result)\n",
            "<ipython-input-583-c736bdffc8df>:17: SettingWithCopyWarning: \n",
            "A value is trying to be set on a copy of a slice from a DataFrame.\n",
            "Try using .loc[row_indexer,col_indexer] = value instead\n",
            "\n",
            "See the caveats in the documentation: https://pandas.pydata.org/pandas-docs/stable/user_guide/indexing.html#returning-a-view-versus-a-copy\n",
            "  df[\"Number of vacation days\"] = df[\"Number of vacation days\"].astype(int)\n",
            "<ipython-input-583-c736bdffc8df>:19: SettingWithCopyWarning: \n",
            "A value is trying to be set on a copy of a slice from a DataFrame.\n",
            "Try using .loc[row_indexer,col_indexer] = value instead\n",
            "\n",
            "See the caveats in the documentation: https://pandas.pydata.org/pandas-docs/stable/user_guide/indexing.html#returning-a-view-versus-a-copy\n",
            "  df['Number of vacation days'] = df['Number of vacation days'].astype(float)\n"
          ]
        }
      ]
    },
    {
      "cell_type": "code",
      "source": [
        "# Distribution of Total Years of Experience\n",
        "plt.figure(figsize=(8, 6))\n",
        "sns.histplot(data=df, x='Number of vacation days', kde=True)\n",
        "plt.title('Distribution of Number of vacation days')\n",
        "plt.xlabel('Number of vacation days')\n",
        "plt.ylabel('Count')\n",
        "plt.show()"
      ],
      "metadata": {
        "colab": {
          "base_uri": "https://localhost:8080/",
          "height": 404
        },
        "id": "rwqCopTzBvjU",
        "outputId": "bc5a4be1-e496-4455-950e-9663eb866f40"
      },
      "execution_count": 584,
      "outputs": [
        {
          "output_type": "display_data",
          "data": {
            "text/plain": [
              "<Figure size 576x432 with 1 Axes>"
            ],
            "image/png": "[encoded data removed]"
          },
          "metadata": {
            "needs_background": "light"
          }
        }
      ]
    },
    {
      "cell_type": "code",
      "source": [
        "\n",
        "# Drop some columns\n",
        "\n",
        "df.drop(columns={\"Timestamp\",\"Yearly brutto salary (without bonus and stocks) in EUR\", \"Yearly bonus + stocks in EUR\", \"Bonus\",\"Other technologies/programming languages you use often\"}, inplace=True)"
      ],
      "metadata": {
        "id": "ONEQBSTuDkkl"
      },
      "execution_count": 585,
      "outputs": []
    },
    {
      "cell_type": "code",
      "source": [
        "# City\n",
        "df['City'].value_counts()"
      ],
      "metadata": {
        "colab": {
          "base_uri": "https://localhost:8080/"
        },
        "id": "Md8rXc7kEC_8",
        "outputId": "0e8e2b1b-f4c3-4459-e5ce-390ebb728b8a"
      },
      "execution_count": 586,
      "outputs": [
        {
          "output_type": "execute_result",
          "data": {
            "text/plain": [
              "Berlin         628\n",
              "Munich         222\n",
              "Frankfurt       42\n",
              "Hamburg         35\n",
              "Stuttgart       20\n",
              "              ... \n",
              "Nuremberg        1\n",
              "Lübeck           1\n",
              "Malta            1\n",
              "Dresden          1\n",
              "Saarbrücken      1\n",
              "Name: City, Length: 111, dtype: int64"
            ]
          },
          "metadata": {},
          "execution_count": 586
        }
      ]
    },
    {
      "cell_type": "code",
      "source": [
        "df['City'] = replace_low_freq(df, 'City', threshold=10, replacement='Other Cities')\n",
        "df[\"City\"].value_counts()"
      ],
      "metadata": {
        "colab": {
          "base_uri": "https://localhost:8080/"
        },
        "id": "Q-E1nD8iEYDl",
        "outputId": "3206cf27-83df-494f-c278-c0eb42cef59a"
      },
      "execution_count": 587,
      "outputs": [
        {
          "output_type": "execute_result",
          "data": {
            "text/plain": [
              "Berlin          628\n",
              "Munich          222\n",
              "Other Cities    190\n",
              "Frankfurt        42\n",
              "Hamburg          35\n",
              "Stuttgart        20\n",
              "Cologne          18\n",
              "Name: City, dtype: int64"
            ]
          },
          "metadata": {},
          "execution_count": 587
        }
      ]
    },
    {
      "cell_type": "code",
      "source": [
        "df['Сontract duration'].value_counts()"
      ],
      "metadata": {
        "colab": {
          "base_uri": "https://localhost:8080/"
        },
        "id": "JFbhEIfkKdL3",
        "outputId": "f0e30401-c160-49b0-88da-cddcab5a216e"
      },
      "execution_count": 588,
      "outputs": [
        {
          "output_type": "execute_result",
          "data": {
            "text/plain": [
              "Unlimited contract    1093\n",
              "Temporary contract      54\n",
              "Name: Сontract duration, dtype: int64"
            ]
          },
          "metadata": {},
          "execution_count": 588
        }
      ]
    },
    {
      "cell_type": "code",
      "source": [
        "df.head()"
      ],
      "metadata": {
        "colab": {
          "base_uri": "https://localhost:8080/",
          "height": 354
        },
        "id": "cx8Hm-N7FKzf",
        "outputId": "1f9bacd3-5b5a-412a-8256-250ef4c924c0"
      },
      "execution_count": 589,
      "outputs": [
        {
          "output_type": "execute_result",
          "data": {
            "text/plain": [
              "    Age Gender    City             Position  Total years of experience  \\\n",
              "0  26.0   Male  Munich    Software Engineer                        5.0   \n",
              "1  26.0   Male  Berlin  Fullstack Developer                        7.0   \n",
              "2  29.0   Male  Berlin    Software Engineer                       12.0   \n",
              "3  28.0   Male  Berlin  Fullstack Developer                        4.0   \n",
              "4  37.0   Male  Berlin  Fullstack Developer                       17.0   \n",
              "\n",
              "   Years of experience in Germany Seniority level  \\\n",
              "0                             3.0          Senior   \n",
              "1                             4.0          Senior   \n",
              "2                             6.0            Lead   \n",
              "3                             1.0          Junior   \n",
              "4                             6.0          Senior   \n",
              "\n",
              "  Your main technology / programming language  Number of vacation days  \\\n",
              "0                                  TypeScript                     30.0   \n",
              "1                                        Ruby                     28.0   \n",
              "2                                       Other                     30.0   \n",
              "3                                  JavaScript                     24.0   \n",
              "4                                       Other                     29.0   \n",
              "\n",
              "            Employment status   Сontract duration Main language at work  \\\n",
              "0          Full-time employee  Unlimited contract               English   \n",
              "1          Full-time employee  Unlimited contract               English   \n",
              "2  Self-employed (freelancer)  Temporary contract               English   \n",
              "3          Full-time employee  Unlimited contract               English   \n",
              "4          Full-time employee  Unlimited contract               English   \n",
              "\n",
              "  Company size Company type    target  \n",
              "0       51-100      Product   85000.0  \n",
              "1     101-1000      Product   80000.0  \n",
              "2     101-1000      Product  240000.0  \n",
              "3       51-100      Startup   54000.0  \n",
              "4     101-1000      Product   62000.0  "
            ],
            "text/html": [
              "\n",
              "  <div id=\"df-88ecb631-d741-494a-9172-3595e6d6bf0f\">\n",
              "    <div class=\"colab-df-container\">\n",
              "      <div>\n",
              "<style scoped>\n",
              "    .dataframe tbody tr th:only-of-type {\n",
              "        vertical-align: middle;\n",
              "    }\n",
              "\n",
              "    .dataframe tbody tr th {\n",
              "        vertical-align: top;\n",
              "    }\n",
              "\n",
              "    .dataframe thead th {\n",
              "        text-align: right;\n",
              "    }\n",
              "</style>\n",
              "<table border=\"1\" class=\"dataframe\">\n",
              "  <thead>\n",
              "    <tr style=\"text-align: right;\">\n",
              "      <th></th>\n",
              "      <th>Age</th>\n",
              "      <th>Gender</th>\n",
              "      <th>City</th>\n",
              "      <th>Position</th>\n",
              "      <th>Total years of experience</th>\n",
              "      <th>Years of experience in Germany</th>\n",
              "      <th>Seniority level</th>\n",
              "      <th>Your main technology / programming language</th>\n",
              "      <th>Number of vacation days</th>\n",
              "      <th>Employment status</th>\n",
              "      <th>Сontract duration</th>\n",
              "      <th>Main language at work</th>\n",
              "      <th>Company size</th>\n",
              "      <th>Company type</th>\n",
              "      <th>target</th>\n",
              "    </tr>\n",
              "  </thead>\n",
              "  <tbody>\n",
              "    <tr>\n",
              "      <th>0</th>\n",
              "      <td>26.0</td>\n",
              "      <td>Male</td>\n",
              "      <td>Munich</td>\n",
              "      <td>Software Engineer</td>\n",
              "      <td>5.0</td>\n",
              "      <td>3.0</td>\n",
              "      <td>Senior</td>\n",
              "      <td>TypeScript</td>\n",
              "      <td>30.0</td>\n",
              "      <td>Full-time employee</td>\n",
              "      <td>Unlimited contract</td>\n",
              "      <td>English</td>\n",
              "      <td>51-100</td>\n",
              "      <td>Product</td>\n",
              "      <td>85000.0</td>\n",
              "    </tr>\n",
              "    <tr>\n",
              "      <th>1</th>\n",
              "      <td>26.0</td>\n",
              "      <td>Male</td>\n",
              "      <td>Berlin</td>\n",
              "      <td>Fullstack Developer</td>\n",
              "      <td>7.0</td>\n",
              "      <td>4.0</td>\n",
              "      <td>Senior</td>\n",
              "      <td>Ruby</td>\n",
              "      <td>28.0</td>\n",
              "      <td>Full-time employee</td>\n",
              "      <td>Unlimited contract</td>\n",
              "      <td>English</td>\n",
              "      <td>101-1000</td>\n",
              "      <td>Product</td>\n",
              "      <td>80000.0</td>\n",
              "    </tr>\n",
              "    <tr>\n",
              "      <th>2</th>\n",
              "      <td>29.0</td>\n",
              "      <td>Male</td>\n",
              "      <td>Berlin</td>\n",
              "      <td>Software Engineer</td>\n",
              "      <td>12.0</td>\n",
              "      <td>6.0</td>\n",
              "      <td>Lead</td>\n",
              "      <td>Other</td>\n",
              "      <td>30.0</td>\n",
              "      <td>Self-employed (freelancer)</td>\n",
              "      <td>Temporary contract</td>\n",
              "      <td>English</td>\n",
              "      <td>101-1000</td>\n",
              "      <td>Product</td>\n",
              "      <td>240000.0</td>\n",
              "    </tr>\n",
              "    <tr>\n",
              "      <th>3</th>\n",
              "      <td>28.0</td>\n",
              "      <td>Male</td>\n",
              "      <td>Berlin</td>\n",
              "      <td>Fullstack Developer</td>\n",
              "      <td>4.0</td>\n",
              "      <td>1.0</td>\n",
              "      <td>Junior</td>\n",
              "      <td>JavaScript</td>\n",
              "      <td>24.0</td>\n",
              "      <td>Full-time employee</td>\n",
              "      <td>Unlimited contract</td>\n",
              "      <td>English</td>\n",
              "      <td>51-100</td>\n",
              "      <td>Startup</td>\n",
              "      <td>54000.0</td>\n",
              "    </tr>\n",
              "    <tr>\n",
              "      <th>4</th>\n",
              "      <td>37.0</td>\n",
              "      <td>Male</td>\n",
              "      <td>Berlin</td>\n",
              "      <td>Fullstack Developer</td>\n",
              "      <td>17.0</td>\n",
              "      <td>6.0</td>\n",
              "      <td>Senior</td>\n",
              "      <td>Other</td>\n",
              "      <td>29.0</td>\n",
              "      <td>Full-time employee</td>\n",
              "      <td>Unlimited contract</td>\n",
              "      <td>English</td>\n",
              "      <td>101-1000</td>\n",
              "      <td>Product</td>\n",
              "      <td>62000.0</td>\n",
              "    </tr>\n",
              "  </tbody>\n",
              "</table>\n",
              "</div>\n",
              "      <button class=\"colab-df-convert\" onclick=\"convertToInteractive('df-88ecb631-d741-494a-9172-3595e6d6bf0f')\"\n",
              "              title=\"Convert this dataframe to an interactive table.\"\n",
              "              style=\"display:none;\">\n",
              "        \n",
              "  <svg xmlns=\"http://www.w3.org/2000/svg\" height=\"24px\"viewBox=\"0 0 24 24\"\n",
              "       width=\"24px\">\n",
              "    <path d=\"M0 0h24v24H0V0z\" fill=\"none\"/>\n",
              "    <path d=\"M18.56 5.44l.94 2.06.94-2.06 2.06-.94-2.06-.94-.94-2.06-.94 2.06-2.06.94zm-11 1L8.5 8.5l.94-2.06 2.06-.94-2.06-.94L8.5 2.5l-.94 2.06-2.06.94zm10 10l.94 2.06.94-2.06 2.06-.94-2.06-.94-.94-2.06-.94 2.06-2.06.94z\"/><path d=\"M17.41 7.96l-1.37-1.37c-.4-.4-.92-.59-1.43-.59-.52 0-1.04.2-1.43.59L10.3 9.45l-7.72 7.72c-.78.78-.78 2.05 0 2.83L4 21.41c.39.39.9.59 1.41.59.51 0 1.02-.2 1.41-.59l7.78-7.78 2.81-2.81c.8-.78.8-2.07 0-2.86zM5.41 20L4 18.59l7.72-7.72 1.47 1.35L5.41 20z\"/>\n",
              "  </svg>\n",
              "      </button>\n",
              "      \n",
              "  <style>\n",
              "    .colab-df-container {\n",
              "      display:flex;\n",
              "      flex-wrap:wrap;\n",
              "      gap: 12px;\n",
              "    }\n",
              "\n",
              "    .colab-df-convert {\n",
              "      background-color: #E8F0FE;\n",
              "      border: none;\n",
              "      border-radius: 50%;\n",
              "      cursor: pointer;\n",
              "      display: none;\n",
              "      fill: #1967D2;\n",
              "      height: 32px;\n",
              "      padding: 0 0 0 0;\n",
              "      width: 32px;\n",
              "    }\n",
              "\n",
              "    .colab-df-convert:hover {\n",
              "      background-color: #E2EBFA;\n",
              "      box-shadow: 0px 1px 2px rgba(60, 64, 67, 0.3), 0px 1px 3px 1px rgba(60, 64, 67, 0.15);\n",
              "      fill: #174EA6;\n",
              "    }\n",
              "\n",
              "    [theme=dark] .colab-df-convert {\n",
              "      background-color: #3B4455;\n",
              "      fill: #D2E3FC;\n",
              "    }\n",
              "\n",
              "    [theme=dark] .colab-df-convert:hover {\n",
              "      background-color: #434B5C;\n",
              "      box-shadow: 0px 1px 3px 1px rgba(0, 0, 0, 0.15);\n",
              "      filter: drop-shadow(0px 1px 2px rgba(0, 0, 0, 0.3));\n",
              "      fill: #FFFFFF;\n",
              "    }\n",
              "  </style>\n",
              "\n",
              "      <script>\n",
              "        const buttonEl =\n",
              "          document.querySelector('#df-88ecb631-d741-494a-9172-3595e6d6bf0f button.colab-df-convert');\n",
              "        buttonEl.style.display =\n",
              "          google.colab.kernel.accessAllowed ? 'block' : 'none';\n",
              "\n",
              "        async function convertToInteractive(key) {\n",
              "          const element = document.querySelector('#df-88ecb631-d741-494a-9172-3595e6d6bf0f');\n",
              "          const dataTable =\n",
              "            await google.colab.kernel.invokeFunction('convertToInteractive',\n",
              "                                                     [key], {});\n",
              "          if (!dataTable) return;\n",
              "\n",
              "          const docLinkHtml = 'Like what you see? Visit the ' +\n",
              "            '<a target=\"_blank\" href=https://colab.research.google.com/notebooks/data_table.ipynb>data table notebook</a>'\n",
              "            + ' to learn more about interactive tables.';\n",
              "          element.innerHTML = '';\n",
              "          dataTable['output_type'] = 'display_data';\n",
              "          await google.colab.output.renderOutput(dataTable, element);\n",
              "          const docLink = document.createElement('div');\n",
              "          docLink.innerHTML = docLinkHtml;\n",
              "          element.appendChild(docLink);\n",
              "        }\n",
              "      </script>\n",
              "    </div>\n",
              "  </div>\n",
              "  "
            ]
          },
          "metadata": {},
          "execution_count": 589
        }
      ]
    },
    {
      "cell_type": "code",
      "source": [
        "# one hot endcoding for categorical and string data\n",
        "# One-hot encode categorical variables\n",
        "df = pd.get_dummies(df, columns=['City', 'Gender','Position','Seniority level','Your main technology / programming language', \n",
        "                                 'Employment status','Main language at work','Сontract duration',\n",
        "                                 'Company size', 'Company type'], dummy_na=True)"
      ],
      "metadata": {
        "id": "WvKRmsN7LLse"
      },
      "execution_count": 590,
      "outputs": []
    },
    {
      "cell_type": "code",
      "source": [
        "# Check for missing values in the data\n",
        "print(df.isna().sum())\n",
        "\n"
      ],
      "metadata": {
        "colab": {
          "base_uri": "https://localhost:8080/"
        },
        "id": "u_JknhyBLly2",
        "outputId": "903b6147-076c-4570-d597-efc6af092b67"
      },
      "execution_count": 591,
      "outputs": [
        {
          "output_type": "stream",
          "name": "stdout",
          "text": [
            "Age                                 17\n",
            "Total years of experience            0\n",
            "Years of experience in Germany      30\n",
            "Number of vacation days              0\n",
            "target                               0\n",
            "                                    ..\n",
            "Company type_Consulting / Agency     0\n",
            "Company type_Other                   0\n",
            "Company type_Product                 0\n",
            "Company type_Startup                 0\n",
            "Company type_nan                     0\n",
            "Length: 81, dtype: int64\n"
          ]
        }
      ]
    },
    {
      "cell_type": "code",
      "source": [
        "# Replace missing values with the mean value of the column\n",
        "df.fillna(df.mean(), inplace=True)"
      ],
      "metadata": {
        "id": "82RkWC5OLpk2"
      },
      "execution_count": 592,
      "outputs": []
    },
    {
      "cell_type": "code",
      "source": [
        "data =['Age\tGender',\t'City',\t'Position',\t'Total years of experience',\t'Years of experience in Germany',\t'Seniority level',\t'Your main technology / programming language',\n",
        "       'Number of vacation days',' Employment status'\t,'Сontract duration',\t'Main language at work'\t,'Company size',\t'Company type']\n",
        "                               "
      ],
      "metadata": {
        "id": "xurXXqkkSEI3"
      },
      "execution_count": 611,
      "outputs": []
    },
    {
      "cell_type": "code",
      "source": [
        "# Split the dataset into training and testing sets\n",
        "X_train, X_test, y_train, y_test = train_test_split(df.data, data.target, test_size=0.2, random_state=123)\n",
        "\n",
        "# Define the parameter grid to search\n",
        "param_grid = {\n",
        "    'extratreesregressor__n_estimators': [100, 500, 1000],\n",
        "    'extratreesregressor__max_depth': [5, 10, 20],\n",
        "    'extratreesregressor__min_samples_split': [2, 5, 10],\n",
        "    'extratreesregressor__min_samples_leaf': [1, 2, 4]\n",
        "}\n",
        "\n",
        "# Create a pipeline with Extra Trees Regressor and GridSearchCV\n",
        "model = make_pipeline(\n",
        "    ExtraTreesRegressor(random_state=123),\n",
        "    GridSearchCV(estimator=ExtraTreesRegressor(random_state=123),\n",
        "                 param_grid=param_grid, cv=5)\n",
        ")\n",
        "\n",
        "# Fit the model on the training data\n",
        "model.fit(X_train, y_train)\n",
        "\n",
        "# Make predictions on the test set using the best model found by GridSearchCV\n",
        "predictions = model.predict(X_test)\n",
        "\n",
        "# Calculate the R-squared value and RMSE\n",
        "rsquared = r2_score(y_test, predictions)\n",
        "rmse = mean_squared_error(y_test, predictions, squared=False)\n",
        "\n",
        "# Print the results\n",
        "print(\"Best hyperparameters: {}\".format(model[1].best_params_))\n",
        "print(\"R-squared: {:.3f}\".format(rsquared))\n",
        "print(\"RMSE: {:.3f}\".format(rmse))\n"
      ],
      "metadata": {
        "colab": {
          "base_uri": "https://localhost:8080/",
          "height": 339
        },
        "id": "Us7Z40egN_Uk",
        "outputId": "7f850d1b-8710-4243-c35c-ed9d84642142"
      },
      "execution_count": 612,
      "outputs": [
        {
          "output_type": "error",
          "ename": "AttributeError",
          "evalue": "ignored",
          "traceback": [
            "\u001b[0;31m---------------------------------------------------------------------------\u001b[0m",
            "\u001b[0;31mAttributeError\u001b[0m                            Traceback (most recent call last)",
            "\u001b[0;32m<ipython-input-612-c379875bf43b>\u001b[0m in \u001b[0;36m<module>\u001b[0;34m\u001b[0m\n\u001b[1;32m      1\u001b[0m \u001b[0;31m# Split the dataset into training and testing sets\u001b[0m\u001b[0;34m\u001b[0m\u001b[0;34m\u001b[0m\u001b[0;34m\u001b[0m\u001b[0m\n\u001b[0;32m----> 2\u001b[0;31m \u001b[0mX_train\u001b[0m\u001b[0;34m,\u001b[0m \u001b[0mX_test\u001b[0m\u001b[0;34m,\u001b[0m \u001b[0my_train\u001b[0m\u001b[0;34m,\u001b[0m \u001b[0my_test\u001b[0m \u001b[0;34m=\u001b[0m \u001b[0mtrain_test_split\u001b[0m\u001b[0;34m(\u001b[0m\u001b[0mdf\u001b[0m\u001b[0;34m.\u001b[0m\u001b[0mdata\u001b[0m\u001b[0;34m,\u001b[0m \u001b[0mdf\u001b[0m\u001b[0;34m.\u001b[0m\u001b[0mtarget\u001b[0m\u001b[0;34m,\u001b[0m \u001b[0mtest_size\u001b[0m\u001b[0;34m=\u001b[0m\u001b[0;36m0.2\u001b[0m\u001b[0;34m,\u001b[0m \u001b[0mrandom_state\u001b[0m\u001b[0;34m=\u001b[0m\u001b[0;36m123\u001b[0m\u001b[0;34m)\u001b[0m\u001b[0;34m\u001b[0m\u001b[0;34m\u001b[0m\u001b[0m\n\u001b[0m\u001b[1;32m      3\u001b[0m \u001b[0;34m\u001b[0m\u001b[0m\n\u001b[1;32m      4\u001b[0m \u001b[0;34m\u001b[0m\u001b[0m\n",
            "\u001b[0;32m/usr/local/lib/python3.8/dist-packages/pandas/core/generic.py\u001b[0m in \u001b[0;36m__getattr__\u001b[0;34m(self, name)\u001b[0m\n\u001b[1;32m   5485\u001b[0m         ):\n\u001b[1;32m   5486\u001b[0m             \u001b[0;32mreturn\u001b[0m \u001b[0mself\u001b[0m\u001b[0;34m[\u001b[0m\u001b[0mname\u001b[0m\u001b[0;34m]\u001b[0m\u001b[0;34m\u001b[0m\u001b[0;34m\u001b[0m\u001b[0m\n\u001b[0;32m-> 5487\u001b[0;31m         \u001b[0;32mreturn\u001b[0m \u001b[0mobject\u001b[0m\u001b[0;34m.\u001b[0m\u001b[0m__getattribute__\u001b[0m\u001b[0;34m(\u001b[0m\u001b[0mself\u001b[0m\u001b[0;34m,\u001b[0m \u001b[0mname\u001b[0m\u001b[0;34m)\u001b[0m\u001b[0;34m\u001b[0m\u001b[0;34m\u001b[0m\u001b[0m\n\u001b[0m\u001b[1;32m   5488\u001b[0m \u001b[0;34m\u001b[0m\u001b[0m\n\u001b[1;32m   5489\u001b[0m     \u001b[0;32mdef\u001b[0m \u001b[0m__setattr__\u001b[0m\u001b[0;34m(\u001b[0m\u001b[0mself\u001b[0m\u001b[0;34m,\u001b[0m \u001b[0mname\u001b[0m\u001b[0;34m:\u001b[0m \u001b[0mstr\u001b[0m\u001b[0;34m,\u001b[0m \u001b[0mvalue\u001b[0m\u001b[0;34m)\u001b[0m \u001b[0;34m->\u001b[0m \u001b[0;32mNone\u001b[0m\u001b[0;34m:\u001b[0m\u001b[0;34m\u001b[0m\u001b[0;34m\u001b[0m\u001b[0m\n",
            "\u001b[0;31mAttributeError\u001b[0m: 'DataFrame' object has no attribute 'data'"
          ]
        }
      ]
    },
    {
      "cell_type": "code",
      "source": [
        "\n",
        "# Fit the model on the training data\n",
        "model.fit(X_train, y_train)\n",
        "\n",
        "# Make predictions on the test set using the best model found by GridSearchCV\n",
        "predictions = model.predict(X_test)\n",
        "\n",
        "\n"
      ],
      "metadata": {
        "colab": {
          "base_uri": "https://localhost:8080/",
          "height": 380
        },
        "id": "g5fGWLnAQ_FG",
        "outputId": "3ad3edb6-d45e-45c9-ca5f-a924f83aa05b"
      },
      "execution_count": 609,
      "outputs": [
        {
          "output_type": "error",
          "ename": "TypeError",
          "evalue": "ignored",
          "traceback": [
            "\u001b[0;31m---------------------------------------------------------------------------\u001b[0m",
            "\u001b[0;31mTypeError\u001b[0m                                 Traceback (most recent call last)",
            "\u001b[0;32m<ipython-input-609-847a9b570607>\u001b[0m in \u001b[0;36m<module>\u001b[0;34m\u001b[0m\n\u001b[1;32m      1\u001b[0m \u001b[0;31m# Create a pipeline with Extra Trees Regressor and GridSearchCV\u001b[0m\u001b[0;34m\u001b[0m\u001b[0;34m\u001b[0m\u001b[0;34m\u001b[0m\u001b[0m\n\u001b[0;32m----> 2\u001b[0;31m model = make_pipeline(\n\u001b[0m\u001b[1;32m      3\u001b[0m     \u001b[0mExtraTreesRegressor\u001b[0m\u001b[0;34m(\u001b[0m\u001b[0mrandom_state\u001b[0m\u001b[0;34m=\u001b[0m\u001b[0;36m123\u001b[0m\u001b[0;34m)\u001b[0m\u001b[0;34m,\u001b[0m\u001b[0;34m\u001b[0m\u001b[0;34m\u001b[0m\u001b[0m\n\u001b[1;32m      4\u001b[0m     \u001b[0mGridSearchCV\u001b[0m\u001b[0;34m(\u001b[0m\u001b[0mestimator\u001b[0m\u001b[0;34m=\u001b[0m\u001b[0mExtraTreesRegressor\u001b[0m\u001b[0;34m(\u001b[0m\u001b[0mrandom_state\u001b[0m\u001b[0;34m=\u001b[0m\u001b[0;36m123\u001b[0m\u001b[0;34m)\u001b[0m\u001b[0;34m,\u001b[0m \u001b[0mparam_grid\u001b[0m\u001b[0;34m=\u001b[0m\u001b[0mparam_grid\u001b[0m\u001b[0;34m,\u001b[0m \u001b[0mcv\u001b[0m\u001b[0;34m=\u001b[0m\u001b[0;36m5\u001b[0m\u001b[0;34m)\u001b[0m\u001b[0;34m\u001b[0m\u001b[0;34m\u001b[0m\u001b[0m\n\u001b[1;32m      5\u001b[0m )\n",
            "\u001b[0;32m/usr/local/lib/python3.8/dist-packages/sklearn/pipeline.py\u001b[0m in \u001b[0;36mmake_pipeline\u001b[0;34m(memory, verbose, *steps)\u001b[0m\n\u001b[1;32m    870\u001b[0m                     ('gaussiannb', GaussianNB())])\n\u001b[1;32m    871\u001b[0m     \"\"\"\n\u001b[0;32m--> 872\u001b[0;31m     \u001b[0;32mreturn\u001b[0m \u001b[0mPipeline\u001b[0m\u001b[0;34m(\u001b[0m\u001b[0m_name_estimators\u001b[0m\u001b[0;34m(\u001b[0m\u001b[0msteps\u001b[0m\u001b[0;34m)\u001b[0m\u001b[0;34m,\u001b[0m \u001b[0mmemory\u001b[0m\u001b[0;34m=\u001b[0m\u001b[0mmemory\u001b[0m\u001b[0;34m,\u001b[0m \u001b[0mverbose\u001b[0m\u001b[0;34m=\u001b[0m\u001b[0mverbose\u001b[0m\u001b[0;34m)\u001b[0m\u001b[0;34m\u001b[0m\u001b[0;34m\u001b[0m\u001b[0m\n\u001b[0m\u001b[1;32m    873\u001b[0m \u001b[0;34m\u001b[0m\u001b[0m\n\u001b[1;32m    874\u001b[0m \u001b[0;34m\u001b[0m\u001b[0m\n",
            "\u001b[0;32m/usr/local/lib/python3.8/dist-packages/sklearn/pipeline.py\u001b[0m in \u001b[0;36m__init__\u001b[0;34m(self, steps, memory, verbose)\u001b[0m\n\u001b[1;32m    146\u001b[0m         \u001b[0mself\u001b[0m\u001b[0;34m.\u001b[0m\u001b[0mmemory\u001b[0m \u001b[0;34m=\u001b[0m \u001b[0mmemory\u001b[0m\u001b[0;34m\u001b[0m\u001b[0;34m\u001b[0m\u001b[0m\n\u001b[1;32m    147\u001b[0m         \u001b[0mself\u001b[0m\u001b[0;34m.\u001b[0m\u001b[0mverbose\u001b[0m \u001b[0;34m=\u001b[0m \u001b[0mverbose\u001b[0m\u001b[0;34m\u001b[0m\u001b[0;34m\u001b[0m\u001b[0m\n\u001b[0;32m--> 148\u001b[0;31m         \u001b[0mself\u001b[0m\u001b[0;34m.\u001b[0m\u001b[0m_validate_steps\u001b[0m\u001b[0;34m(\u001b[0m\u001b[0;34m)\u001b[0m\u001b[0;34m\u001b[0m\u001b[0;34m\u001b[0m\u001b[0m\n\u001b[0m\u001b[1;32m    149\u001b[0m \u001b[0;34m\u001b[0m\u001b[0m\n\u001b[1;32m    150\u001b[0m     \u001b[0;32mdef\u001b[0m \u001b[0mget_params\u001b[0m\u001b[0;34m(\u001b[0m\u001b[0mself\u001b[0m\u001b[0;34m,\u001b[0m \u001b[0mdeep\u001b[0m\u001b[0;34m=\u001b[0m\u001b[0;32mTrue\u001b[0m\u001b[0;34m)\u001b[0m\u001b[0;34m:\u001b[0m\u001b[0;34m\u001b[0m\u001b[0;34m\u001b[0m\u001b[0m\n",
            "\u001b[0;32m/usr/local/lib/python3.8/dist-packages/sklearn/pipeline.py\u001b[0m in \u001b[0;36m_validate_steps\u001b[0;34m(self)\u001b[0m\n\u001b[1;32m    205\u001b[0m                 \u001b[0mt\u001b[0m\u001b[0;34m,\u001b[0m \u001b[0;34m\"transform\"\u001b[0m\u001b[0;34m\u001b[0m\u001b[0;34m\u001b[0m\u001b[0m\n\u001b[1;32m    206\u001b[0m             ):\n\u001b[0;32m--> 207\u001b[0;31m                 raise TypeError(\n\u001b[0m\u001b[1;32m    208\u001b[0m                     \u001b[0;34m\"All intermediate steps should be \"\u001b[0m\u001b[0;34m\u001b[0m\u001b[0;34m\u001b[0m\u001b[0m\n\u001b[1;32m    209\u001b[0m                     \u001b[0;34m\"transformers and implement fit and transform \"\u001b[0m\u001b[0;34m\u001b[0m\u001b[0;34m\u001b[0m\u001b[0m\n",
            "\u001b[0;31mTypeError\u001b[0m: All intermediate steps should be transformers and implement fit and transform or be the string 'passthrough' 'ExtraTreesRegressor(random_state=123)' (type <class 'sklearn.ensemble._forest.ExtraTreesRegressor'>) doesn't"
          ]
        }
      ]
    },
    {
      "cell_type": "code",
      "source": [],
      "metadata": {
        "id": "dYJg7sUbRDwe"
      },
      "execution_count": null,
      "outputs": []
    },
    {
      "cell_type": "code",
      "source": [
        "# Define the parameter grid\n",
        "param_grid = {\n",
        "    'est__n_estimators': [100, 500, 1000],\n",
        "    'est__max_depth': [5, 10, 20],\n",
        "    'est__min_samples_split': [2, 5, 10],\n",
        "    'est__min_samples_leaf': [1, 2, 4]\n",
        "}\n",
        "\n",
        "# Create a pipeline with Extra Trees Regressor and GridSearchCV\n",
        "model = Pipeline([\n",
        "    ('est', ExtraTreesRegressor(random_state=123)),\n",
        "    ('grid', GridSearchCV(param_grid=param_grid, cv=5))\n",
        "])"
      ],
      "metadata": {
        "colab": {
          "base_uri": "https://localhost:8080/",
          "height": 217
        },
        "id": "wWBvOYP4Oun2",
        "outputId": "d8b35f87-47ad-4337-e7f4-398bbc4be461"
      },
      "execution_count": 607,
      "outputs": [
        {
          "output_type": "error",
          "ename": "TypeError",
          "evalue": "ignored",
          "traceback": [
            "\u001b[0;31m---------------------------------------------------------------------------\u001b[0m",
            "\u001b[0;31mTypeError\u001b[0m                                 Traceback (most recent call last)",
            "\u001b[0;32m<ipython-input-607-cfe69e2bfa2d>\u001b[0m in \u001b[0;36m<module>\u001b[0;34m\u001b[0m\n\u001b[1;32m     10\u001b[0m model = Pipeline([\n\u001b[1;32m     11\u001b[0m     \u001b[0;34m(\u001b[0m\u001b[0;34m'est'\u001b[0m\u001b[0;34m,\u001b[0m \u001b[0mExtraTreesRegressor\u001b[0m\u001b[0;34m(\u001b[0m\u001b[0mrandom_state\u001b[0m\u001b[0;34m=\u001b[0m\u001b[0;36m123\u001b[0m\u001b[0;34m)\u001b[0m\u001b[0;34m)\u001b[0m\u001b[0;34m,\u001b[0m\u001b[0;34m\u001b[0m\u001b[0;34m\u001b[0m\u001b[0m\n\u001b[0;32m---> 12\u001b[0;31m     \u001b[0;34m(\u001b[0m\u001b[0;34m'grid'\u001b[0m\u001b[0;34m,\u001b[0m \u001b[0mGridSearchCV\u001b[0m\u001b[0;34m(\u001b[0m\u001b[0mparam_grid\u001b[0m\u001b[0;34m=\u001b[0m\u001b[0mparam_grid\u001b[0m\u001b[0;34m,\u001b[0m \u001b[0mcv\u001b[0m\u001b[0;34m=\u001b[0m\u001b[0;36m5\u001b[0m\u001b[0;34m)\u001b[0m\u001b[0;34m)\u001b[0m\u001b[0;34m\u001b[0m\u001b[0;34m\u001b[0m\u001b[0m\n\u001b[0m\u001b[1;32m     13\u001b[0m ])\n",
            "\u001b[0;31mTypeError\u001b[0m: __init__() missing 1 required positional argument: 'estimator'"
          ]
        }
      ]
    },
    {
      "cell_type": "code",
      "source": [
        "# Create a pipeline with Extra Trees Regressor and GridSearchCV\n",
        "model = make_pipeline(\n",
        "    ExtraTreesRegressor(random_state=123),\n",
        "    GridSearchCV(param_grid=param_grid, cv=5)\n",
        ")\n",
        "\n"
      ],
      "metadata": {
        "colab": {
          "base_uri": "https://localhost:8080/",
          "height": 235
        },
        "id": "KlYt9jjYOy1_",
        "outputId": "99328a03-3e77-4811-a1b5-5a31429e3965"
      },
      "execution_count": 601,
      "outputs": [
        {
          "output_type": "error",
          "ename": "TypeError",
          "evalue": "ignored",
          "traceback": [
            "\u001b[0;31m---------------------------------------------------------------------------\u001b[0m",
            "\u001b[0;31mTypeError\u001b[0m                                 Traceback (most recent call last)",
            "\u001b[0;32m<ipython-input-601-d9e93b20ce36>\u001b[0m in \u001b[0;36m<module>\u001b[0;34m\u001b[0m\n\u001b[1;32m      2\u001b[0m model = make_pipeline(\n\u001b[1;32m      3\u001b[0m     \u001b[0mExtraTreesRegressor\u001b[0m\u001b[0;34m(\u001b[0m\u001b[0mrandom_state\u001b[0m\u001b[0;34m=\u001b[0m\u001b[0;36m123\u001b[0m\u001b[0;34m)\u001b[0m\u001b[0;34m,\u001b[0m\u001b[0;34m\u001b[0m\u001b[0;34m\u001b[0m\u001b[0m\n\u001b[0;32m----> 4\u001b[0;31m     \u001b[0mGridSearchCV\u001b[0m\u001b[0;34m(\u001b[0m\u001b[0mparam_grid\u001b[0m\u001b[0;34m=\u001b[0m\u001b[0mparam_grid\u001b[0m\u001b[0;34m,\u001b[0m \u001b[0mcv\u001b[0m\u001b[0;34m=\u001b[0m\u001b[0;36m5\u001b[0m\u001b[0;34m)\u001b[0m\u001b[0;34m\u001b[0m\u001b[0;34m\u001b[0m\u001b[0m\n\u001b[0m\u001b[1;32m      5\u001b[0m )\n\u001b[1;32m      6\u001b[0m \u001b[0;34m\u001b[0m\u001b[0m\n",
            "\u001b[0;31mTypeError\u001b[0m: __init__() missing 1 required positional argument: 'estimator'"
          ]
        }
      ]
    },
    {
      "cell_type": "code",
      "source": [],
      "metadata": {
        "id": "ZUvyBL2yO1le"
      },
      "execution_count": null,
      "outputs": []
    }
  ],
  "metadata": {
    "interpreter": {
      "hash": "4d722d3adfa415172c1f5238b519fb86b488acdae450fd691ab06c09f4ca9173"
    },
    "kernelspec": {
      "display_name": "Python 3.9.7 64-bit ('ml3950': conda)",
      "language": "python",
      "name": "python3"
    },
    "language_info": {
      "codemirror_mode": {
        "name": "ipython",
        "version": 3
      },
      "file_extension": ".py",
      "mimetype": "text/x-python",
      "name": "python",
      "nbconvert_exporter": "python",
      "pygments_lexer": "ipython3",
      "version": "3.9.7"
    },
    "orig_nbformat": 4,
    "colab": {
      "provenance": [],
      "include_colab_link": true
    }
  },
  "nbformat": 4,
  "nbformat_minor": 0
}