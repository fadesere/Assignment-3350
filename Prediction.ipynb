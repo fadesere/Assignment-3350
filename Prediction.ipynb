{
 "cells": [
  {
   "cell_type": "code",
   "execution_count": 5,
   "metadata": {},
   "outputs": [],
   "source": [
    "import pandas as pd\n",
    "import numpy as np\n"
   ]
  },
  {
   "cell_type": "code",
   "execution_count": 6,
   "metadata": {},
   "outputs": [],
   "source": [
    "import statsmodels.formula.api as smf"
   ]
  },
  {
   "cell_type": "code",
   "execution_count": 7,
   "metadata": {},
   "outputs": [],
   "source": [
    "df = pd.read_csv('data2.csv')"
   ]
  },
  {
   "cell_type": "code",
   "execution_count": 8,
   "metadata": {},
   "outputs": [
    {
     "data": {
      "text/html": [
       "<div>\n",
       "<style scoped>\n",
       "    .dataframe tbody tr th:only-of-type {\n",
       "        vertical-align: middle;\n",
       "    }\n",
       "\n",
       "    .dataframe tbody tr th {\n",
       "        vertical-align: top;\n",
       "    }\n",
       "\n",
       "    .dataframe thead th {\n",
       "        text-align: right;\n",
       "    }\n",
       "</style>\n",
       "<table border=\"1\" class=\"dataframe\">\n",
       "  <thead>\n",
       "    <tr style=\"text-align: right;\">\n",
       "      <th></th>\n",
       "      <th>Garage</th>\n",
       "      <th>Zoning</th>\n",
       "      <th>Lot_Size</th>\n",
       "      <th>Assessed_Value</th>\n",
       "      <th>Age_Property</th>\n",
       "      <th>Ward</th>\n",
       "    </tr>\n",
       "  </thead>\n",
       "  <tbody>\n",
       "    <tr>\n",
       "      <th>0</th>\n",
       "      <td>Y</td>\n",
       "      <td>RF5</td>\n",
       "      <td>442.020</td>\n",
       "      <td>315000.0</td>\n",
       "      <td>32</td>\n",
       "      <td>Ward 1</td>\n",
       "    </tr>\n",
       "    <tr>\n",
       "      <th>1</th>\n",
       "      <td>Y</td>\n",
       "      <td>RF1</td>\n",
       "      <td>956.350</td>\n",
       "      <td>573500.0</td>\n",
       "      <td>30</td>\n",
       "      <td>Ward 1</td>\n",
       "    </tr>\n",
       "    <tr>\n",
       "      <th>2</th>\n",
       "      <td>Y</td>\n",
       "      <td>RF1</td>\n",
       "      <td>484.300</td>\n",
       "      <td>434000.0</td>\n",
       "      <td>28</td>\n",
       "      <td>Ward 9</td>\n",
       "    </tr>\n",
       "    <tr>\n",
       "      <th>3</th>\n",
       "      <td>Y</td>\n",
       "      <td>RF1</td>\n",
       "      <td>441.782</td>\n",
       "      <td>471000.0</td>\n",
       "      <td>30</td>\n",
       "      <td>Ward 9</td>\n",
       "    </tr>\n",
       "    <tr>\n",
       "      <th>4</th>\n",
       "      <td>N</td>\n",
       "      <td>RA7</td>\n",
       "      <td>97.508</td>\n",
       "      <td>359000.0</td>\n",
       "      <td>30</td>\n",
       "      <td>Ward 8</td>\n",
       "    </tr>\n",
       "  </tbody>\n",
       "</table>\n",
       "</div>"
      ],
      "text/plain": [
       "  Garage Zoning  Lot_Size  Assessed_Value  Age_Property    Ward\n",
       "0      Y    RF5   442.020        315000.0            32  Ward 1\n",
       "1      Y    RF1   956.350        573500.0            30  Ward 1\n",
       "2      Y    RF1   484.300        434000.0            28  Ward 9\n",
       "3      Y    RF1   441.782        471000.0            30  Ward 9\n",
       "4      N    RA7    97.508        359000.0            30  Ward 8"
      ]
     },
     "execution_count": 8,
     "metadata": {},
     "output_type": "execute_result"
    }
   ],
   "source": [
    "df.head()"
   ]
  },
  {
   "cell_type": "code",
   "execution_count": 9,
   "metadata": {},
   "outputs": [
    {
     "data": {
      "text/html": [
       "<table class=\"simpletable\">\n",
       "<caption>OLS Regression Results</caption>\n",
       "<tr>\n",
       "  <th>Dep. Variable:</th>     <td>Assessed_Value</td>  <th>  R-squared:         </th>  <td>   0.609</td>  \n",
       "</tr>\n",
       "<tr>\n",
       "  <th>Model:</th>                   <td>OLS</td>       <th>  Adj. R-squared:    </th>  <td>   0.609</td>  \n",
       "</tr>\n",
       "<tr>\n",
       "  <th>Method:</th>             <td>Least Squares</td>  <th>  F-statistic:       </th>  <td>1.913e+05</td> \n",
       "</tr>\n",
       "<tr>\n",
       "  <th>Date:</th>             <td>Mon, 21 Nov 2022</td> <th>  Prob (F-statistic):</th>   <td>  0.00</td>   \n",
       "</tr>\n",
       "<tr>\n",
       "  <th>Time:</th>                 <td>15:19:51</td>     <th>  Log-Likelihood:    </th> <td>-3.1471e+07</td>\n",
       "</tr>\n",
       "<tr>\n",
       "  <th>No. Observations:</th>      <td>2457814</td>     <th>  AIC:               </th>  <td>6.294e+07</td> \n",
       "</tr>\n",
       "<tr>\n",
       "  <th>Df Residuals:</th>          <td>2457793</td>     <th>  BIC:               </th>  <td>6.294e+07</td> \n",
       "</tr>\n",
       "<tr>\n",
       "  <th>Df Model:</th>              <td>    20</td>      <th>                     </th>      <td> </td>     \n",
       "</tr>\n",
       "<tr>\n",
       "  <th>Covariance Type:</th>      <td>nonrobust</td>    <th>                     </th>      <td> </td>     \n",
       "</tr>\n",
       "</table>\n",
       "<table class=\"simpletable\">\n",
       "<tr>\n",
       "           <td></td>             <th>coef</th>     <th>std err</th>      <th>t</th>      <th>P>|t|</th>  <th>[0.025</th>    <th>0.975]</th>  \n",
       "</tr>\n",
       "<tr>\n",
       "  <th>Intercept</th>          <td> 2.366e+05</td> <td>  275.596</td> <td>  858.606</td> <td> 0.000</td> <td> 2.36e+05</td> <td> 2.37e+05</td>\n",
       "</tr>\n",
       "<tr>\n",
       "  <th>C(Ward)[T.Ward 10]</th> <td> 5.342e+04</td> <td>  267.907</td> <td>  199.385</td> <td> 0.000</td> <td> 5.29e+04</td> <td> 5.39e+04</td>\n",
       "</tr>\n",
       "<tr>\n",
       "  <th>C(Ward)[T.Ward 11]</th> <td>-2.041e+04</td> <td>  270.143</td> <td>  -75.559</td> <td> 0.000</td> <td>-2.09e+04</td> <td>-1.99e+04</td>\n",
       "</tr>\n",
       "<tr>\n",
       "  <th>C(Ward)[T.Ward 12]</th> <td> -2.53e+04</td> <td>  263.805</td> <td>  -95.904</td> <td> 0.000</td> <td>-2.58e+04</td> <td>-2.48e+04</td>\n",
       "</tr>\n",
       "<tr>\n",
       "  <th>C(Ward)[T.Ward 2]</th>  <td>-3.488e+04</td> <td>  275.179</td> <td> -126.740</td> <td> 0.000</td> <td>-3.54e+04</td> <td>-3.43e+04</td>\n",
       "</tr>\n",
       "<tr>\n",
       "  <th>C(Ward)[T.Ward 3]</th>  <td>-3.075e+04</td> <td>  273.226</td> <td> -112.534</td> <td> 0.000</td> <td>-3.13e+04</td> <td>-3.02e+04</td>\n",
       "</tr>\n",
       "<tr>\n",
       "  <th>C(Ward)[T.Ward 4]</th>  <td>-4.202e+04</td> <td>  271.168</td> <td> -154.966</td> <td> 0.000</td> <td>-4.26e+04</td> <td>-4.15e+04</td>\n",
       "</tr>\n",
       "<tr>\n",
       "  <th>C(Ward)[T.Ward 5]</th>  <td> 3.055e+04</td> <td>  270.705</td> <td>  112.862</td> <td> 0.000</td> <td>    3e+04</td> <td> 3.11e+04</td>\n",
       "</tr>\n",
       "<tr>\n",
       "  <th>C(Ward)[T.Ward 6]</th>  <td> 8.069e+04</td> <td>  398.224</td> <td>  202.622</td> <td> 0.000</td> <td> 7.99e+04</td> <td> 8.15e+04</td>\n",
       "</tr>\n",
       "<tr>\n",
       "  <th>C(Ward)[T.Ward 7]</th>  <td>-5.042e+04</td> <td>  292.665</td> <td> -172.281</td> <td> 0.000</td> <td> -5.1e+04</td> <td>-4.98e+04</td>\n",
       "</tr>\n",
       "<tr>\n",
       "  <th>C(Ward)[T.Ward 8]</th>  <td> 8.323e+04</td> <td>  302.946</td> <td>  274.720</td> <td> 0.000</td> <td> 8.26e+04</td> <td> 8.38e+04</td>\n",
       "</tr>\n",
       "<tr>\n",
       "  <th>C(Ward)[T.Ward 9]</th>  <td>  6.11e+04</td> <td>  265.878</td> <td>  229.801</td> <td> 0.000</td> <td> 6.06e+04</td> <td> 6.16e+04</td>\n",
       "</tr>\n",
       "<tr>\n",
       "  <th>C(Zoning)[T.RF1]</th>   <td> 2.069e+05</td> <td>  258.126</td> <td>  801.697</td> <td> 0.000</td> <td> 2.06e+05</td> <td> 2.07e+05</td>\n",
       "</tr>\n",
       "<tr>\n",
       "  <th>C(Zoning)[T.RF3]</th>   <td> 1.966e+05</td> <td>  333.208</td> <td>  590.139</td> <td> 0.000</td> <td> 1.96e+05</td> <td> 1.97e+05</td>\n",
       "</tr>\n",
       "<tr>\n",
       "  <th>C(Zoning)[T.RF4]</th>   <td> 9.987e+04</td> <td>  303.851</td> <td>  328.691</td> <td> 0.000</td> <td> 9.93e+04</td> <td>    1e+05</td>\n",
       "</tr>\n",
       "<tr>\n",
       "  <th>C(Zoning)[T.RF5]</th>   <td> 5.607e+04</td> <td>  256.269</td> <td>  218.785</td> <td> 0.000</td> <td> 5.56e+04</td> <td> 5.66e+04</td>\n",
       "</tr>\n",
       "<tr>\n",
       "  <th>C(Zoning)[T.RPL]</th>   <td> 1.239e+05</td> <td>  310.313</td> <td>  399.325</td> <td> 0.000</td> <td> 1.23e+05</td> <td> 1.25e+05</td>\n",
       "</tr>\n",
       "<tr>\n",
       "  <th>C(Zoning)[T.RSL]</th>   <td> 2.152e+05</td> <td>  275.067</td> <td>  782.308</td> <td> 0.000</td> <td> 2.15e+05</td> <td> 2.16e+05</td>\n",
       "</tr>\n",
       "<tr>\n",
       "  <th>C(Garage)[T.Y]</th>     <td> 6.138e+04</td> <td>  193.724</td> <td>  316.840</td> <td> 0.000</td> <td>  6.1e+04</td> <td> 6.18e+04</td>\n",
       "</tr>\n",
       "<tr>\n",
       "  <th>Age_Property</th>       <td>-2235.2949</td> <td>    3.887</td> <td> -575.043</td> <td> 0.000</td> <td>-2242.914</td> <td>-2227.676</td>\n",
       "</tr>\n",
       "<tr>\n",
       "  <th>Lot_Size</th>           <td>    6.1227</td> <td>    0.057</td> <td>  108.139</td> <td> 0.000</td> <td>    6.012</td> <td>    6.234</td>\n",
       "</tr>\n",
       "</table>\n",
       "<table class=\"simpletable\">\n",
       "<tr>\n",
       "  <th>Omnibus:</th>       <td>1093161.366</td> <th>  Durbin-Watson:     </th>   <td>   1.688</td>  \n",
       "</tr>\n",
       "<tr>\n",
       "  <th>Prob(Omnibus):</th>   <td> 0.000</td>    <th>  Jarque-Bera (JB):  </th> <td>10349594.041</td>\n",
       "</tr>\n",
       "<tr>\n",
       "  <th>Skew:</th>            <td> 1.904</td>    <th>  Prob(JB):          </th>   <td>    0.00</td>  \n",
       "</tr>\n",
       "<tr>\n",
       "  <th>Kurtosis:</th>        <td>12.304</td>    <th>  Cond. No.          </th>   <td>1.39e+04</td>  \n",
       "</tr>\n",
       "</table><br/><br/>Notes:<br/>[1] Standard Errors assume that the covariance matrix of the errors is correctly specified.<br/>[2] The condition number is large, 1.39e+04. This might indicate that there are<br/>strong multicollinearity or other numerical problems."
      ],
      "text/plain": [
       "<class 'statsmodels.iolib.summary.Summary'>\n",
       "\"\"\"\n",
       "                            OLS Regression Results                            \n",
       "==============================================================================\n",
       "Dep. Variable:         Assessed_Value   R-squared:                       0.609\n",
       "Model:                            OLS   Adj. R-squared:                  0.609\n",
       "Method:                 Least Squares   F-statistic:                 1.913e+05\n",
       "Date:                Mon, 21 Nov 2022   Prob (F-statistic):               0.00\n",
       "Time:                        15:19:51   Log-Likelihood:            -3.1471e+07\n",
       "No. Observations:             2457814   AIC:                         6.294e+07\n",
       "Df Residuals:                 2457793   BIC:                         6.294e+07\n",
       "Df Model:                          20                                         \n",
       "Covariance Type:            nonrobust                                         \n",
       "======================================================================================\n",
       "                         coef    std err          t      P>|t|      [0.025      0.975]\n",
       "--------------------------------------------------------------------------------------\n",
       "Intercept           2.366e+05    275.596    858.606      0.000    2.36e+05    2.37e+05\n",
       "C(Ward)[T.Ward 10]  5.342e+04    267.907    199.385      0.000    5.29e+04    5.39e+04\n",
       "C(Ward)[T.Ward 11] -2.041e+04    270.143    -75.559      0.000   -2.09e+04   -1.99e+04\n",
       "C(Ward)[T.Ward 12]  -2.53e+04    263.805    -95.904      0.000   -2.58e+04   -2.48e+04\n",
       "C(Ward)[T.Ward 2]  -3.488e+04    275.179   -126.740      0.000   -3.54e+04   -3.43e+04\n",
       "C(Ward)[T.Ward 3]  -3.075e+04    273.226   -112.534      0.000   -3.13e+04   -3.02e+04\n",
       "C(Ward)[T.Ward 4]  -4.202e+04    271.168   -154.966      0.000   -4.26e+04   -4.15e+04\n",
       "C(Ward)[T.Ward 5]   3.055e+04    270.705    112.862      0.000       3e+04    3.11e+04\n",
       "C(Ward)[T.Ward 6]   8.069e+04    398.224    202.622      0.000    7.99e+04    8.15e+04\n",
       "C(Ward)[T.Ward 7]  -5.042e+04    292.665   -172.281      0.000    -5.1e+04   -4.98e+04\n",
       "C(Ward)[T.Ward 8]   8.323e+04    302.946    274.720      0.000    8.26e+04    8.38e+04\n",
       "C(Ward)[T.Ward 9]    6.11e+04    265.878    229.801      0.000    6.06e+04    6.16e+04\n",
       "C(Zoning)[T.RF1]    2.069e+05    258.126    801.697      0.000    2.06e+05    2.07e+05\n",
       "C(Zoning)[T.RF3]    1.966e+05    333.208    590.139      0.000    1.96e+05    1.97e+05\n",
       "C(Zoning)[T.RF4]    9.987e+04    303.851    328.691      0.000    9.93e+04       1e+05\n",
       "C(Zoning)[T.RF5]    5.607e+04    256.269    218.785      0.000    5.56e+04    5.66e+04\n",
       "C(Zoning)[T.RPL]    1.239e+05    310.313    399.325      0.000    1.23e+05    1.25e+05\n",
       "C(Zoning)[T.RSL]    2.152e+05    275.067    782.308      0.000    2.15e+05    2.16e+05\n",
       "C(Garage)[T.Y]      6.138e+04    193.724    316.840      0.000     6.1e+04    6.18e+04\n",
       "Age_Property       -2235.2949      3.887   -575.043      0.000   -2242.914   -2227.676\n",
       "Lot_Size               6.1227      0.057    108.139      0.000       6.012       6.234\n",
       "==============================================================================\n",
       "Omnibus:                  1093161.366   Durbin-Watson:                   1.688\n",
       "Prob(Omnibus):                  0.000   Jarque-Bera (JB):         10349594.041\n",
       "Skew:                           1.904   Prob(JB):                         0.00\n",
       "Kurtosis:                      12.304   Cond. No.                     1.39e+04\n",
       "==============================================================================\n",
       "\n",
       "Notes:\n",
       "[1] Standard Errors assume that the covariance matrix of the errors is correctly specified.\n",
       "[2] The condition number is large, 1.39e+04. This might indicate that there are\n",
       "strong multicollinearity or other numerical problems.\n",
       "\"\"\""
      ]
     },
     "execution_count": 9,
     "metadata": {},
     "output_type": "execute_result"
    }
   ],
   "source": [
    "model = smf.ols('Assessed_Value  ~ C(Ward) +C(Zoning) + Age_Property + Lot_Size + C(Garage)', data=df)\n",
    "results = model.fit()\n",
    "results.summary()"
   ]
  },
  {
   "cell_type": "code",
   "execution_count": 10,
   "metadata": {},
   "outputs": [],
   "source": [
    "import seaborn as sns"
   ]
  },
  {
   "cell_type": "code",
   "execution_count": 13,
   "metadata": {},
   "outputs": [],
   "source": [
    "df['log_Assessed_Value'] = np.log10(df.Assessed_Value)"
   ]
  },
  {
   "cell_type": "code",
   "execution_count": null,
   "metadata": {},
   "outputs": [],
   "source": []
  },
  {
   "cell_type": "code",
   "execution_count": 17,
   "metadata": {},
   "outputs": [
    {
     "data": {
      "text/plain": [
       "<AxesSubplot: xlabel='Ward', ylabel='log_Assessed_Value'>"
      ]
     },
     "execution_count": 17,
     "metadata": {},
     "output_type": "execute_result"
    },
    {
     "data": {
      "image/png": "[encoded data removed]",
      "text/plain": [
       "<Figure size 1000x500 with 1 Axes>"
      ]
     },
     "metadata": {},
     "output_type": "display_data"
    }
   ],
   "source": [
    "sns.set_style(\"whitegrid\")\n",
    "import matplotlib.pyplot as plt\n",
    "sns.set_style('white')\n",
    "fig, ax = plt.subplots(figsize=(10,5))\n",
    "  \n",
    "sns.boxplot(x = 'Ward', y = 'log_Assessed_Value', data = df)"
   ]
  },
  {
   "cell_type": "code",
   "execution_count": 18,
   "metadata": {},
   "outputs": [
    {
     "data": {
      "text/plain": [
       "<AxesSubplot: xlabel='Zoning', ylabel='log_Assessed_Value'>"
      ]
     },
     "execution_count": 18,
     "metadata": {},
     "output_type": "execute_result"
    },
    {
     "data": {
      "image/png": "[encoded data removed]",
      "text/plain": [
       "<Figure size 1000x500 with 1 Axes>"
      ]
     },
     "metadata": {},
     "output_type": "display_data"
    }
   ],
   "source": [
    "sns.set_style(\"whitegrid\")\n",
    "import matplotlib.pyplot as plt\n",
    "sns.set_style('white')\n",
    "fig, ax = plt.subplots(figsize=(10,5))\n",
    "  \n",
    "sns.boxplot(x = 'Zoning', y = 'log_Assessed_Value', data = df)"
   ]
  }
 ],
 "metadata": {
  "kernelspec": {
   "display_name": "Python 3.9.13 ('base')",
   "language": "python",
   "name": "python3"
  },
  "language_info": {
   "codemirror_mode": {
    "name": "ipython",
    "version": 3
   },
   "file_extension": ".py",
   "mimetype": "text/x-python",
   "name": "python",
   "nbconvert_exporter": "python",
   "pygments_lexer": "ipython3",
   "version": "3.9.13"
  },
  "orig_nbformat": 4,
  "vscode": {
   "interpreter": {
    "hash": "5e7cbeb742f02d765fcec4b3e42c8713f0c6d06ac97c88ada4b0856650159d56"
   }
  }
 },
 "nbformat": 4,
 "nbformat_minor": 2
}
